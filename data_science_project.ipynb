{
 "cells": [
  {
   "cell_type": "markdown",
   "id": "3d9a37ce",
   "metadata": {},
   "source": [
    "# Preliminary Analysis"
   ]
  },
  {
   "cell_type": "markdown",
   "id": "a5f4844a",
   "metadata": {
    "tags": []
   },
   "source": [
    "### Data Cleaning Code\n",
    "Code for cleaning and processing your data. Include a data dictionary for your transformed dataset.\n",
    "\n",
    "- Data Dictionary for Air Quality\n",
    "    - **indicator id:** id for each name\n",
    "    - **name:** classify the sample in the air\n",
    "    - **measure:** how the indicator is measured\n",
    "    - **measure info:** information about the measure\n",
    "    - **geo type name:** geography type, UHF stands for United Hospital Fund neighborhoods\n",
    "    - **geo place name:** neighborhood name\n",
    "    - **time period:** time frame\n",
    "    - **start_date:** date started\n",
    "    <br><br>\n",
    "- Data Dictionary for Traffic Volume\n",
    "    - **requestId:** unique id generated for each counts request\n",
    "    - **boro:** lists which of the five diviions of New York City the location is within\n",
    "    - **vol:** total sum of count collected within 15 minute increments\n",
    "    - **segmentId:** The ID that idenifies each segment of a street\n",
    "    - **wktgeom:** Geometry point of the location\n",
    "    - **street:** street name of where traffic happened\n",
    "    - **fromst:** start street of traffic\n",
    "    - **tost:** end street where traffic volume was located\n",
    "    - **direction:** text-based direction of traffic where the count took place\n",
    "    - **date_time:** date at which it took place\n",
    "    <br><br>\n",
    "- Data Dictionary for 2020 mobility Dataset\n",
    "    - **sub_region_2** which county it is\n",
    "    - **date** date during recording\n",
    "    - **retail_and_recreation_percent_change_from_baseline** mobility trends for places like restaurants, cafes, shopping centers, theme parks, museums, libraries, and movie theaters.\n",
    "    - **grocery_and_pharmacy_percent_change_from_baseline** mobility trends for places like grocery markets, food warehouses, farmers markets, specialty food shops, drug stores, and pharmacies\n",
    "    - **parks_percent_change_from_baseline** mobility trends for places like national parks, public beaches, marinas, dog parks, plazas, and public gardens\n",
    "    - **transit_stations_percent_change_from_baseline** mobility trends for places like public transport hubs such as subway, bus, and train stations\n",
    "    - **workplaces_percent_change_from_baseline** mobility trend for places of work\n",
    "    - **residential_percent_change_from_baseline** mobility trends for places of residence\n",
    "    \n",
    "### Exploratory Analysis\n",
    "Describe what work you have done so far and include the code. This may include descriptive statistics, graphs and charts, and preliminary models.\n",
    "\n",
    "- We removed some columns that were irrelevant to what we want to predict as well as combine some columns that would fit together, such as the date and time.\n",
    "\n",
    "\n",
    "### Challenges\n",
    "Describe any challenges you've encountered so far. Let me know if there's anything you need help with!\n",
    "\n",
    "- There were some challenges in figuring out what sort of data was necessary to include for our problem as it was targeted in New York City. \n",
    "- Figuring out the transformations to use on each dataset was also a challenge since there were many columns for each dataset and we had to find the ones that weren't relevant to our problem.\n",
    "- There are some issues for the columns right now where there are some, such as segmentId in the Traffic Volume dataset where we are currently unsure if it's useful to keep or remove.\n",
    "\n",
    "### Future Work\n",
    "Describe what work you are planning to complete for the final analysis.\n",
    "\n",
    "- Future work includes using the cleaned data to use as inputs for models suited for classification such as Logisitc Regression and Linear Regression. \n",
    "- Make predictions using the models trained to obtain the accuracy scores to answer our questions\n",
    "- Find the best model for accuracy as well as graph/chart the data to further understand it for future predictions.\n",
    "\n",
    "### Contributions\n",
    "Describe the contributions that each group member made.\n",
    "- **Daniel Aguilar-Rodriguez**\n",
    "    - Researched and acquired datasets\n",
    "    - Helped present ideas during brainstorming session\n",
    "    - Created jupyter notebook and helped clean datasets\n",
    "    - Helped transform datasets and removed columns irrelevant to our work\n",
    "    <br><br>\n",
    "- **Jia Cong Lin**\n",
    "    - Helped present ideas during brainstorming session\n",
    "    - Helped define necessary columns for the mobility dataset\n",
    "    - Assisted in determining columns to clean and define \n",
    "    <br><br>\n",
    "- **Anvinh Truong**\n",
    "    - Helped clean and define some columns for the datasets and dictionary\n",
    "    - Helped present ideas during brainstorming session\n",
    "    - Assisted in thinking of procedure to clean data columns"
   ]
  },
  {
   "cell_type": "code",
   "execution_count": 98,
   "id": "a7415be7",
   "metadata": {},
   "outputs": [],
   "source": [
    "import pandas as pd\n",
    "import numpy as np\n",
    "import os\n",
    "import requests"
   ]
  },
  {
   "cell_type": "code",
   "execution_count": 99,
   "id": "2477d33d-181f-4edb-b744-103130e04db0",
   "metadata": {},
   "outputs": [],
   "source": [
    "def download_data(csv_name):\n",
    "    url_dict = {'air_quality': 'https://data.cityofnewyork.us/api/views/c3uy-2p5r/rows.csv', \n",
    "                'mobility_global': 'https://www.gstatic.com/covid19/mobility/Global_Mobility_Report.csv', \n",
    "                'traffic_volume': 'https://data.cityofnewyork.us/api/views/7ym2-wayt/rows.csv'}\n",
    "    \n",
    "    response = requests.get(url_dict[csv_name])\n",
    "    path = f'datasets/{csv_name}.csv'\n",
    "    with open(path, 'wb') as f:\n",
    "        f.write(response.content)"
   ]
  },
  {
   "cell_type": "code",
   "execution_count": 100,
   "id": "bee70371-560e-46d1-a5eb-174a07829d9f",
   "metadata": {},
   "outputs": [],
   "source": [
    "def csv_exists(csv_name):\n",
    "    path = f'datasets/{csv_name}.csv'\n",
    "    file_exists = os.path.exists(path)\n",
    "    return file_exists"
   ]
  },
  {
   "cell_type": "code",
   "execution_count": 101,
   "id": "80f0ba02-2f83-46c9-95bf-425c8920da32",
   "metadata": {},
   "outputs": [],
   "source": [
    "def create_df(csv_name):\n",
    "    if not csv_exists(csv_name):\n",
    "        download_data(csv_name)\n",
    "    path = f'datasets/{csv_name}.csv'\n",
    "    df = pd.read_csv(path)\n",
    "    return df"
   ]
  },
  {
   "cell_type": "code",
   "execution_count": 102,
   "id": "e247ae6f-993a-4974-b30b-8a44a588f069",
   "metadata": {},
   "outputs": [],
   "source": [
    "def mkdir_if_not_exist():\n",
    "    directory = 'datasets'\n",
    "    if not os.path.exists(f'{directory}/'):\n",
    "        os.mkdir(directory)"
   ]
  },
  {
   "cell_type": "code",
   "execution_count": 103,
   "id": "629b7c33-db72-42ef-a9c5-25225c41e969",
   "metadata": {},
   "outputs": [],
   "source": [
    "def create_all_df(csv_names):\n",
    "    mkdir_if_not_exist()\n",
    "    df_list = []\n",
    "    \n",
    "    for csv_name in csv_names:\n",
    "        print(f'Creating {csv_name} df')\n",
    "        df = create_df(csv_name)\n",
    "        df_list.append(df)\n",
    "        \n",
    "    return df_list"
   ]
  },
  {
   "cell_type": "code",
   "execution_count": null,
   "id": "9008779a-8c6b-4497-9d61-f0068641a9c2",
   "metadata": {},
   "outputs": [
    {
     "name": "stdout",
     "output_type": "stream",
     "text": [
      "Creating air_quality df\n",
      "Creating mobility_global df\n"
     ]
    },
    {
     "name": "stderr",
     "output_type": "stream",
     "text": [
      "C:\\Users\\danie\\AppData\\Local\\Temp\\ipykernel_21764\\89086087.py:5: DtypeWarning: Columns (3,4,5) have mixed types. Specify dtype option on import or set low_memory=False.\n",
      "  df = pd.read_csv(path)\n"
     ]
    },
    {
     "name": "stdout",
     "output_type": "stream",
     "text": [
      "Creating traffic_volume df\n"
     ]
    }
   ],
   "source": [
    "csv_names = ['air_quality', 'mobility_global', 'traffic_volume']\n",
    "\n",
    "air_quality, mobility_global, traffic_volume = create_all_df(csv_names)"
   ]
  },
  {
   "cell_type": "markdown",
   "id": "b643b575",
   "metadata": {
    "tags": []
   },
   "source": [
    "## Air Quality Dataset Cleaning"
   ]
  },
  {
   "cell_type": "code",
   "execution_count": null,
   "id": "d9cb864b",
   "metadata": {},
   "outputs": [],
   "source": [
    "print(air_quality.isnull().sum() / len(air_quality))"
   ]
  },
  {
   "cell_type": "code",
   "execution_count": null,
   "id": "0988d738",
   "metadata": {},
   "outputs": [],
   "source": [
    "air_quality = air_quality.drop(['Message'], axis=1)\n",
    "print(air_quality.isnull().sum() / len(air_quality))"
   ]
  },
  {
   "cell_type": "code",
   "execution_count": null,
   "id": "f381123f",
   "metadata": {},
   "outputs": [],
   "source": [
    "print(air_quality.nunique() / len(air_quality))"
   ]
  },
  {
   "cell_type": "code",
   "execution_count": null,
   "id": "ed07e50c",
   "metadata": {},
   "outputs": [],
   "source": [
    "air_quality = air_quality.drop(['Unique ID'], axis=1)\n",
    "print(air_quality.shape)\n",
    "print(air_quality.nunique() / len(air_quality))"
   ]
  },
  {
   "cell_type": "code",
   "execution_count": null,
   "id": "4a03da28",
   "metadata": {},
   "outputs": [],
   "source": [
    "air_quality = air_quality.drop(['Geo Join ID'], axis=1)\n",
    "print(air_quality.shape)\n",
    "print(air_quality.nunique() / len(air_quality))"
   ]
  },
  {
   "cell_type": "code",
   "execution_count": null,
   "id": "47e6ea36",
   "metadata": {},
   "outputs": [],
   "source": [
    "air_quality.dtypes"
   ]
  },
  {
   "cell_type": "code",
   "execution_count": null,
   "id": "f2329e26",
   "metadata": {},
   "outputs": [],
   "source": [
    "air_quality.nunique()"
   ]
  },
  {
   "cell_type": "code",
   "execution_count": null,
   "id": "fedb5b86",
   "metadata": {},
   "outputs": [],
   "source": [
    "air_quality['Time Period'].unique()"
   ]
  },
  {
   "cell_type": "code",
   "execution_count": null,
   "id": "4e55fbb4",
   "metadata": {},
   "outputs": [],
   "source": [
    "air_quality['Time Period'].value_counts() / len(air_quality)"
   ]
  },
  {
   "cell_type": "code",
   "execution_count": null,
   "id": "b69bf992",
   "metadata": {},
   "outputs": [],
   "source": [
    "air_quality['Start_Date'].unique()"
   ]
  },
  {
   "cell_type": "code",
   "execution_count": null,
   "id": "a0806688",
   "metadata": {},
   "outputs": [],
   "source": [
    "air_quality['Start_Date'] = pd.to_datetime(air_quality['Start_Date'], infer_datetime_format=True)"
   ]
  },
  {
   "cell_type": "code",
   "execution_count": null,
   "id": "2e8bd769",
   "metadata": {},
   "outputs": [],
   "source": [
    "air_quality['Start_Date'].min()"
   ]
  },
  {
   "cell_type": "code",
   "execution_count": null,
   "id": "ce697cbf",
   "metadata": {},
   "outputs": [],
   "source": [
    "air_quality['Start_Date'].value_counts().sort_index() / len(air_quality)"
   ]
  },
  {
   "cell_type": "markdown",
   "id": "e62ce172",
   "metadata": {
    "jp-MarkdownHeadingCollapsed": true,
    "tags": []
   },
   "source": [
    "## Traffic Volume Dataset Cleaning"
   ]
  },
  {
   "cell_type": "code",
   "execution_count": null,
   "id": "1895fcf4",
   "metadata": {},
   "outputs": [],
   "source": [
    "traffic_volume.sample(10)"
   ]
  },
  {
   "cell_type": "code",
   "execution_count": null,
   "id": "5017e6b2",
   "metadata": {},
   "outputs": [],
   "source": [
    "traffic_volume.shape"
   ]
  },
  {
   "cell_type": "code",
   "execution_count": null,
   "id": "8ff3c260",
   "metadata": {},
   "outputs": [],
   "source": [
    "print(traffic_volume.isnull().sum() / len(traffic_volume))"
   ]
  },
  {
   "cell_type": "code",
   "execution_count": null,
   "id": "a9b6ad29",
   "metadata": {},
   "outputs": [],
   "source": [
    "print(traffic_volume.nunique() / len(traffic_volume))"
   ]
  },
  {
   "cell_type": "code",
   "execution_count": null,
   "id": "3d0021cf",
   "metadata": {},
   "outputs": [],
   "source": [
    "traffic_volume.nunique()"
   ]
  },
  {
   "cell_type": "code",
   "execution_count": null,
   "id": "4b188fd2",
   "metadata": {},
   "outputs": [],
   "source": [
    "traffic_volume.dtypes"
   ]
  },
  {
   "cell_type": "code",
   "execution_count": null,
   "id": "db3ad783",
   "metadata": {},
   "outputs": [],
   "source": [
    "traffic_volume.Yr.min()"
   ]
  },
  {
   "cell_type": "code",
   "execution_count": null,
   "id": "7c3d825e",
   "metadata": {},
   "outputs": [],
   "source": [
    "traffic_volume = traffic_volume[traffic_volume['Yr'] >= 2005]"
   ]
  },
  {
   "cell_type": "code",
   "execution_count": null,
   "id": "f5fb19f4",
   "metadata": {},
   "outputs": [],
   "source": [
    "traffic_volume.shape"
   ]
  },
  {
   "cell_type": "code",
   "execution_count": null,
   "id": "0be9cf92",
   "metadata": {},
   "outputs": [],
   "source": [
    "traffic_volume['Yr'].value_counts().sort_index()"
   ]
  },
  {
   "cell_type": "code",
   "execution_count": null,
   "id": "12c5d849",
   "metadata": {},
   "outputs": [],
   "source": [
    "traffic_volume = traffic_volume[traffic_volume['Yr'] > 2008]"
   ]
  },
  {
   "cell_type": "code",
   "execution_count": null,
   "id": "038fac60",
   "metadata": {},
   "outputs": [],
   "source": [
    "traffic_volume.shape"
   ]
  },
  {
   "cell_type": "code",
   "execution_count": null,
   "id": "b4125014",
   "metadata": {},
   "outputs": [],
   "source": [
    "traffic_volume['date_time'] = pd.to_datetime(dict(year=traffic_volume.Yr, \\\n",
    "                                                  month=traffic_volume.M, \\\n",
    "                                                  day=traffic_volume.D, \\\n",
    "                                                  hour=traffic_volume.HH, \\\n",
    "                                                  minute=traffic_volume.MM))"
   ]
  },
  {
   "cell_type": "code",
   "execution_count": null,
   "id": "2b1539e1",
   "metadata": {},
   "outputs": [],
   "source": [
    "traffic_volume = traffic_volume.drop(['Yr', 'M', 'D', 'HH', 'MM'], axis=1)"
   ]
  },
  {
   "cell_type": "code",
   "execution_count": null,
   "id": "5e00c391",
   "metadata": {},
   "outputs": [],
   "source": [
    "traffic_volume.sample(10)"
   ]
  },
  {
   "cell_type": "code",
   "execution_count": null,
   "id": "16fc1df2",
   "metadata": {},
   "outputs": [],
   "source": [
    "traffic_volume['date_time'].dt.year.value_counts().sort_index()"
   ]
  },
  {
   "cell_type": "markdown",
   "id": "b0e4139b",
   "metadata": {},
   "source": [
    "## 2020 mobility Dataset cleaning"
   ]
  },
  {
   "cell_type": "code",
   "execution_count": null,
   "id": "4b9048a2",
   "metadata": {},
   "outputs": [],
   "source": [
    "mobility_global.head(10).transpose()"
   ]
  },
  {
   "cell_type": "code",
   "execution_count": null,
   "id": "03c02610",
   "metadata": {},
   "outputs": [],
   "source": [
    "mobility_global.shape"
   ]
  },
  {
   "cell_type": "code",
   "execution_count": null,
   "id": "ed714349",
   "metadata": {},
   "outputs": [],
   "source": [
    "mobility_nyc = mobility_global[mobility_global['country_region_code'].eq('US') & \n",
    "                               mobility_global['sub_region_1'].eq('New York') & \n",
    "                               mobility_global['sub_region_2'].str.contains('Bronx|Kings|New York|Queens|Richmond')]"
   ]
  },
  {
   "cell_type": "code",
   "execution_count": null,
   "id": "e9c12894",
   "metadata": {},
   "outputs": [],
   "source": [
    "mobility_nyc.sample(10).transpose()"
   ]
  },
  {
   "cell_type": "code",
   "execution_count": null,
   "id": "4f341095",
   "metadata": {},
   "outputs": [],
   "source": [
    "mobility_nyc.shape"
   ]
  },
  {
   "cell_type": "code",
   "execution_count": null,
   "id": "f582c3e2",
   "metadata": {},
   "outputs": [],
   "source": [
    "mobility_nyc.isnull().sum() / len(mobility_nyc)"
   ]
  },
  {
   "cell_type": "code",
   "execution_count": null,
   "id": "e664d4f5",
   "metadata": {},
   "outputs": [],
   "source": [
    "mobility_nyc = mobility_nyc.drop(['metro_area', 'iso_3166_2_code'], axis=1)"
   ]
  },
  {
   "cell_type": "code",
   "execution_count": null,
   "id": "7c196050",
   "metadata": {},
   "outputs": [],
   "source": [
    "mobility_nyc.isnull().sum()"
   ]
  },
  {
   "cell_type": "code",
   "execution_count": null,
   "id": "362248fc",
   "metadata": {},
   "outputs": [],
   "source": [
    "mobility_nyc = mobility_nyc.drop(['country_region_code', 'country_region', 'sub_region_1'], axis=1)"
   ]
  },
  {
   "cell_type": "code",
   "execution_count": null,
   "id": "7f278f03",
   "metadata": {},
   "outputs": [],
   "source": [
    "mobility_nyc.sample(10)"
   ]
  },
  {
   "cell_type": "code",
   "execution_count": null,
   "id": "c9e9e85f",
   "metadata": {},
   "outputs": [],
   "source": [
    "mobility_nyc.groupby(['sub_region_2', 'census_fips_code'])['place_id'].nunique()"
   ]
  },
  {
   "cell_type": "code",
   "execution_count": null,
   "id": "c52fb467",
   "metadata": {},
   "outputs": [],
   "source": [
    "mobility_nyc = mobility_nyc.drop(['census_fips_code', 'place_id'], axis=1)"
   ]
  },
  {
   "cell_type": "code",
   "execution_count": null,
   "id": "5a1fbe5e",
   "metadata": {},
   "outputs": [],
   "source": [
    "mobility_nyc.sample(10).transpose()"
   ]
  },
  {
   "cell_type": "code",
   "execution_count": null,
   "id": "9dcb8950",
   "metadata": {},
   "outputs": [],
   "source": [
    "mobility_nyc.shape"
   ]
  },
  {
   "cell_type": "code",
   "execution_count": null,
   "id": "7db953b9",
   "metadata": {},
   "outputs": [],
   "source": [
    "mobility_nyc.dtypes"
   ]
  },
  {
   "cell_type": "markdown",
   "id": "b2194de0",
   "metadata": {},
   "source": [
    "## Transformed Datasets"
   ]
  },
  {
   "cell_type": "code",
   "execution_count": null,
   "id": "8d403999",
   "metadata": {},
   "outputs": [],
   "source": [
    "traffic_volume.head(15)"
   ]
  },
  {
   "cell_type": "code",
   "execution_count": null,
   "id": "27a844c3",
   "metadata": {},
   "outputs": [],
   "source": [
    "air_quality.sample(10)"
   ]
  },
  {
   "cell_type": "code",
   "execution_count": null,
   "id": "f27d0368",
   "metadata": {},
   "outputs": [],
   "source": [
    "mobility_nyc.sample(10)"
   ]
  }
 ],
 "metadata": {
  "kernelspec": {
   "display_name": "Python 3 (ipykernel)",
   "language": "python",
   "name": "python3"
  },
  "language_info": {
   "codemirror_mode": {
    "name": "ipython",
    "version": 3
   },
   "file_extension": ".py",
   "mimetype": "text/x-python",
   "name": "python",
   "nbconvert_exporter": "python",
   "pygments_lexer": "ipython3",
   "version": "3.9.8"
  }
 },
 "nbformat": 4,
 "nbformat_minor": 5
}
