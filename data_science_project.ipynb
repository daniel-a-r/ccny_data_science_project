{
 "cells": [
  {
   "cell_type": "markdown",
   "metadata": {},
   "source": [
    "# Preliminary Analysis"
   ]
  },
  {
   "cell_type": "markdown",
   "metadata": {
    "tags": []
   },
   "source": [
    "### Data Cleaning Code\n",
    "Code for cleaning and processing your data. Include a data dictionary for your transformed dataset.\n",
    "\n",
    "- Data Dictionary for Air Quality\n",
    "    - **indicator id:** id for each name\n",
    "    - **name:** classify the sample in the air\n",
    "    - **measure:** how the indicator is measured\n",
    "    - **measure info:** information about the measure\n",
    "    - **geo type name:** geography type, UHF stands for United Hospital Fund neighborhoods\n",
    "    - **geo place name:** neighborhood name\n",
    "    - **time period:** time frame\n",
    "    - **start_date:** date started\n",
    "    <br><br>\n",
    "- Data Dictionary for Traffic Volume\n",
    "    - **requestId:** unique id generated for each counts request\n",
    "    - **boro:** lists which of the five diviions of New York City the location is within\n",
    "    - **vol:** total sum of count collected within 15 minute increments\n",
    "    - **segmentId:** The ID that idenifies each segment of a street\n",
    "    - **wktgeom:** Geometry point of the location\n",
    "    - **street:** street name of where traffic happened\n",
    "    - **fromst:** start street of traffic\n",
    "    - **tost:** end street where traffic volume was located\n",
    "    - **direction:** text-based direction of traffic where the count took place\n",
    "    - **date_time:** date at which it took place\n",
    "    <br><br>\n",
    "- Data Dictionary for 2020 mobility Dataset\n",
    "    - **sub_region_2** which county it is\n",
    "    - **date** date during recording\n",
    "    - **retail_and_recreation_percent_change_from_baseline** mobility trends for places like restaurants, cafes, shopping centers, theme parks, museums, libraries, and movie theaters.\n",
    "    - **grocery_and_pharmacy_percent_change_from_baseline** mobility trends for places like grocery markets, food warehouses, farmers markets, specialty food shops, drug stores, and pharmacies\n",
    "    - **parks_percent_change_from_baseline** mobility trends for places like national parks, public beaches, marinas, dog parks, plazas, and public gardens\n",
    "    - **transit_stations_percent_change_from_baseline** mobility trends for places like public transport hubs such as subway, bus, and train stations\n",
    "    - **workplaces_percent_change_from_baseline** mobility trend for places of work\n",
    "    - **residential_percent_change_from_baseline** mobility trends for places of residence\n",
    "    \n",
    "### Exploratory Analysis\n",
    "Describe what work you have done so far and include the code. This may include descriptive statistics, graphs and charts, and preliminary models.\n",
    "\n",
    "- We removed some columns that were irrelevant to what we want to predict as well as combine some columns that would fit together, such as the date and time.\n",
    "\n",
    "\n",
    "### Challenges\n",
    "Describe any challenges you've encountered so far. Let me know if there's anything you need help with!\n",
    "\n",
    "- There were some challenges in figuring out what sort of data was necessary to include for our problem as it was targeted in New York City. \n",
    "- Figuring out the transformations to use on each dataset was also a challenge since there were many columns for each dataset and we had to find the ones that weren't relevant to our problem.\n",
    "- There are some issues for the columns right now where there are some, such as segmentId in the Traffic Volume dataset where we are currently unsure if it's useful to keep or remove.\n",
    "- Dealing with large datasets efficiently\n",
    "\n",
    "### Future Work\n",
    "Describe what work you are planning to complete for the final analysis.\n",
    "\n",
    "- Future work includes using the cleaned data to use as inputs for models suited for classification such as Logisitc Regression and Linear Regression. \n",
    "- Make predictions using the models trained to obtain the accuracy scores to answer our questions\n",
    "- Find the best model for accuracy as well as graph/chart the data to further understand it for future predictions.\n",
    "\n",
    "### Contributions\n",
    "Describe the contributions that each group member made.\n",
    "- **Daniel Aguilar-Rodriguez**\n",
    "    - Researched and acquired datasets\n",
    "    - Helped present ideas during brainstorming session\n",
    "    - Created jupyter notebook and helped clean datasets\n",
    "    - Helped transform datasets and removed columns irrelevant to our work\n",
    "    <br><br>\n",
    "- **Jia Cong Lin**\n",
    "    - Helped present ideas during brainstorming session\n",
    "    - Helped define necessary columns for the mobility dataset\n",
    "    - Assisted in determining columns to clean and define \n",
    "    <br><br>\n",
    "- **Anvinh Truong**\n",
    "    - Helped clean and define some columns for the datasets and dictionary\n",
    "    - Helped present ideas during brainstorming session\n",
    "    - Assisted in thinking of procedure to clean data columns"
   ]
  },
  {
   "cell_type": "code",
   "execution_count": 1,
   "metadata": {},
   "outputs": [],
   "source": [
    "import pandas as pd\n",
    "import numpy as np\n",
    "import os\n",
    "import requests\n",
    "import datetime\n",
    "import json\n",
    "import re\n",
    "import time "
   ]
  },
  {
   "cell_type": "code",
   "execution_count": 2,
   "metadata": {
    "tags": []
   },
   "outputs": [],
   "source": [
    "def fetch_data(csv_name):\n",
    "    url_dict = {'air_quality': 'https://data.cityofnewyork.us/api/views/c3uy-2p5r/rows.csv', \n",
    "                'mobility_global': 'https://www.gstatic.com/covid19/mobility/Global_Mobility_Report.csv', \n",
    "                'traffic_volume': 'https://data.cityofnewyork.us/api/views/7ym2-wayt/rows.csv'}\n",
    "    \n",
    "    if csv_name == 'daily_air_quality':\n",
    "        create_air_quality_csv()\n",
    "    else:\n",
    "        response = requests.get(url_dict[csv_name])\n",
    "        path = f'datasets/{csv_name}.csv'\n",
    "        with open(path, 'wb') as f:\n",
    "            f.write(response.content)"
   ]
  },
  {
   "cell_type": "code",
   "execution_count": 3,
   "metadata": {
    "tags": []
   },
   "outputs": [],
   "source": [
    "def csv_exists(csv_name):\n",
    "    path = f'datasets/{csv_name}.csv'\n",
    "    file_exists = os.path.exists(path)\n",
    "    return file_exists"
   ]
  },
  {
   "cell_type": "code",
   "execution_count": 4,
   "metadata": {},
   "outputs": [],
   "source": [
    "def create_df(csv_name):\n",
    "    if not csv_exists(csv_name):\n",
    "        fetch_data(csv_name)\n",
    "    path = f'datasets/{csv_name}.csv'\n",
    "    df = pd.read_csv(path)\n",
    "    return df"
   ]
  },
  {
   "cell_type": "code",
   "execution_count": 5,
   "metadata": {},
   "outputs": [],
   "source": [
    "def mkdir_if_not_exist():\n",
    "    directory = 'datasets'\n",
    "    if not os.path.exists(f'{directory}/'):\n",
    "        os.mkdir(directory)"
   ]
  },
  {
   "cell_type": "code",
   "execution_count": 6,
   "metadata": {},
   "outputs": [],
   "source": [
    "def create_all_df(csv_names):\n",
    "    mkdir_if_not_exist()\n",
    "    df_list = []\n",
    "    \n",
    "    for csv_name in csv_names:\n",
    "        print(f'Creating {csv_name} df')\n",
    "        df = create_df(csv_name)\n",
    "        df_list.append(df)\n",
    "        \n",
    "    return df_list"
   ]
  },
  {
   "cell_type": "code",
   "execution_count": 7,
   "metadata": {},
   "outputs": [],
   "source": [
    "def get_json(url):\n",
    "    response = requests.get(url)\n",
    "    j = json.loads(response.text)\n",
    "    \n",
    "    return j"
   ]
  },
  {
   "cell_type": "code",
   "execution_count": 8,
   "metadata": {},
   "outputs": [],
   "source": [
    "def get_code(target_value, url):\n",
    "    code = ''\n",
    "    j = get_json(url)\n",
    "    \n",
    "    for entry in j['Data']:\n",
    "        if entry['value_represented'] == target_value:\n",
    "            code = entry['code']\n",
    "            \n",
    "    return code"
   ]
  },
  {
   "cell_type": "code",
   "execution_count": 9,
   "metadata": {},
   "outputs": [],
   "source": [
    "def get_state_code(state_name):\n",
    "    url = 'https://aqs.epa.gov/data/api/list/states?email=test@aqs.api&key=test'\n",
    "    state_code = get_code(state_name, url)\n",
    "\n",
    "    return state_code"
   ]
  },
  {
   "cell_type": "code",
   "execution_count": 10,
   "metadata": {},
   "outputs": [],
   "source": [
    "def get_county_code(state_code, county_name):\n",
    "    url = f'https://aqs.epa.gov/data/api/list/countiesByState?email=test@aqs.api&key=test&state={state_code}'\n",
    "    county_code = get_code(county_name, url)\n",
    "    \n",
    "    return county_code"
   ]
  },
  {
   "cell_type": "code",
   "execution_count": 11,
   "metadata": {
    "tags": []
   },
   "outputs": [],
   "source": [
    "'''def get_county_code_list(county_names):\n",
    "    county_codes = []\n",
    "    for county in county_names:\n",
    "        county_codes.append()'''\n",
    "\n",
    "def get_county_code_list(state_code):\n",
    "    url = f'https://aqs.epa.gov/data/api/list/countiesByState?email=test@aqs.api&key=test&state={state_code}'\n",
    "\n",
    "    j = get_json(url)\n",
    "    county_codes = []\n",
    "    \n",
    "    for county in j['Data']:\n",
    "        if re.fullmatch('Bronx|Kings|New York|Queens|Richmond', county['value_represented']):\n",
    "            county_codes.append(county['code'])  \n",
    "    \n",
    "    return county_codes"
   ]
  },
  {
   "cell_type": "code",
   "execution_count": 12,
   "metadata": {
    "tags": []
   },
   "outputs": [],
   "source": [
    "\n",
    "#start_date = str(traffic_vol_daily['date'].min()).replace('-', '')\n",
    "#end_date = str(traffic_vol_daily['date'].max()).replace('-', '')\n",
    "#start_date = '20160101'\n",
    "#end_date = '20160229'\n",
    "#county_code = '005'\n",
    "\n",
    "def get_daily_air_quality_list(state_code, county_codes):\n",
    "    email = 'daguila000@citymail.cuny.edu'\n",
    "    key = 'cobaltcrane81'\n",
    "    param_code = '88101'\n",
    "    daily_air_quality_list = []\n",
    "\n",
    "    #year_counter = traffic_vol_daily['date'].min().year\n",
    "    #end_year = traffic_vol_daily['date'].max().year\n",
    "    year_counter = 2009\n",
    "    end_year = 2020\n",
    "\n",
    "    while year_counter <= end_year:\n",
    "        for county_code in county_codes: \n",
    "            start_date = str(year_counter) + '0101'\n",
    "            end_date = str(year_counter) + '1231'\n",
    "            url = f'https://aqs.epa.gov/data/api/dailyData/byCounty?email={email}&key={key}&param={param_code}&bdate={start_date}&edate={end_date}&state={state_code}&county={county_code}'\n",
    "            j = get_json(url)\n",
    "            print(j['Header'])\n",
    "            daily_air_quality_list.extend(j['Data'])\n",
    "            time.sleep(6)\n",
    "        year_counter += 1\n",
    "        \n",
    "    return daily_air_quality_list\n"
   ]
  },
  {
   "cell_type": "code",
   "execution_count": 13,
   "metadata": {
    "tags": []
   },
   "outputs": [
    {
     "data": {
      "text/plain": [
       "\"state = 'New York'\\nstate_code = get_state_code(state)\\nprint(state_code)\\nprint(get_county_code_list(state_code))\""
      ]
     },
     "execution_count": 13,
     "metadata": {},
     "output_type": "execute_result"
    }
   ],
   "source": [
    "'''state = 'New York'\n",
    "state_code = get_state_code(state)\n",
    "print(state_code)\n",
    "print(get_county_code_list(state_code))'''"
   ]
  },
  {
   "cell_type": "code",
   "execution_count": 14,
   "metadata": {},
   "outputs": [],
   "source": [
    "def create_air_quality_csv():\n",
    "    state = 'New York'\n",
    "    state_code = get_state_code(state)\n",
    "    county_code_list = get_county_code_list(state_code)\n",
    "    daily_air_quality_list = get_daily_air_quality_list(state_code, county_code_list)\n",
    "    daily_air_quality_df = pd.DataFrame(daily_air_quality_list)\n",
    "    daily_air_quality_df.to_csv('datasets/daily_air_quality.csv')"
   ]
  },
  {
   "cell_type": "code",
   "execution_count": 15,
   "metadata": {
    "scrolled": true
   },
   "outputs": [
    {
     "name": "stdout",
     "output_type": "stream",
     "text": [
      "Creating traffic_volume df\n",
      "Creating daily_air_quality df\n"
     ]
    },
    {
     "name": "stderr",
     "output_type": "stream",
     "text": [
      "C:\\Users\\Anvinh\\anaconda3\\lib\\site-packages\\IPython\\core\\interactiveshell.py:3418: DtypeWarning: Columns (10) have mixed types.Specify dtype option on import or set low_memory=False.\n",
      "  exec(code_obj, self.user_global_ns, self.user_ns)\n"
     ]
    }
   ],
   "source": [
    "csv_names = ['traffic_volume', 'daily_air_quality']\n",
    "\n",
    "traffic_volume, daily_air_quality = create_all_df(csv_names)"
   ]
  },
  {
   "cell_type": "markdown",
   "metadata": {
    "tags": []
   },
   "source": [
    "## Air Quality Dataset Cleaning"
   ]
  },
  {
   "cell_type": "markdown",
   "metadata": {},
   "source": [
    "print(air_quality.isnull().sum() / len(air_quality))"
   ]
  },
  {
   "cell_type": "markdown",
   "metadata": {},
   "source": [
    "air_quality = air_quality.drop(['Message'], axis=1)\n",
    "print(air_quality.isnull().sum() / len(air_quality))"
   ]
  },
  {
   "cell_type": "markdown",
   "metadata": {},
   "source": [
    "print(air_quality.nunique() / len(air_quality))"
   ]
  },
  {
   "cell_type": "markdown",
   "metadata": {},
   "source": [
    "air_quality = air_quality.drop(['Unique ID'], axis=1)\n",
    "print(air_quality.shape)\n",
    "print(air_quality.nunique() / len(air_quality))"
   ]
  },
  {
   "cell_type": "markdown",
   "metadata": {},
   "source": [
    "air_quality = air_quality.drop(['Geo Join ID'], axis=1)\n",
    "print(air_quality.shape)\n",
    "print(air_quality.nunique() / len(air_quality))"
   ]
  },
  {
   "cell_type": "markdown",
   "metadata": {},
   "source": [
    "air_quality.dtypes"
   ]
  },
  {
   "cell_type": "markdown",
   "metadata": {},
   "source": [
    "air_quality.nunique()"
   ]
  },
  {
   "cell_type": "markdown",
   "metadata": {},
   "source": [
    "air_quality['Time Period'].unique()"
   ]
  },
  {
   "cell_type": "markdown",
   "metadata": {},
   "source": [
    "np.sort(air_quality['Time Period'].unique())"
   ]
  },
  {
   "cell_type": "markdown",
   "metadata": {},
   "source": [
    "air_quality['Time Period'].value_counts() / len(air_quality)"
   ]
  },
  {
   "cell_type": "markdown",
   "metadata": {},
   "source": [
    "air_quality['Start_Date'].unique()"
   ]
  },
  {
   "cell_type": "markdown",
   "metadata": {},
   "source": [
    "air_quality['Start_Date'] = pd.to_datetime(air_quality['Start_Date'], infer_datetime_format=True)"
   ]
  },
  {
   "cell_type": "markdown",
   "metadata": {},
   "source": [
    "air_quality['Start_Date'].min()"
   ]
  },
  {
   "cell_type": "markdown",
   "metadata": {},
   "source": [
    "air_quality['Start_Date'].value_counts().sort_index() / len(air_quality)"
   ]
  },
  {
   "cell_type": "markdown",
   "metadata": {},
   "source": [
    "air_quality.groupby('Start_Date')['Time Period'].value_counts()"
   ]
  },
  {
   "cell_type": "markdown",
   "metadata": {},
   "source": [
    "list(air_quality[air_quality['Time Period'].str.contains('Winter')]['Time Period'].unique())"
   ]
  },
  {
   "cell_type": "markdown",
   "metadata": {},
   "source": [
    "air_quality[air_quality['Time Period'].str.contains('Winter|Summer')].groupby('Time Period')['Start_Date'].value_counts()"
   ]
  },
  {
   "cell_type": "markdown",
   "metadata": {},
   "source": [
    "air_quality[air_quality['Time Period'].str.contains('Winter')]"
   ]
  },
  {
   "cell_type": "markdown",
   "metadata": {},
   "source": [
    "air_quality.sample(10)"
   ]
  },
  {
   "cell_type": "markdown",
   "metadata": {},
   "source": [
    "air_quality[air_quality['Geo Type Name'].str.contains('Borough')]['Time Period'].unique()"
   ]
  },
  {
   "cell_type": "markdown",
   "metadata": {
    "tags": []
   },
   "source": [
    "air_quality[air_quality['Geo Type Name'].str.contains('Borough')].groupby('Name')['Geo Place Name'].value_counts()"
   ]
  },
  {
   "cell_type": "markdown",
   "metadata": {},
   "source": [
    "list(air_quality['Name'].unique())"
   ]
  },
  {
   "cell_type": "markdown",
   "metadata": {},
   "source": [
    "air_quality.groupby(['Name', 'Start_Date'])['Time Period'].value_counts()"
   ]
  },
  {
   "cell_type": "markdown",
   "metadata": {},
   "source": [
    "air_quality['Geo Type Name'].unique()"
   ]
  },
  {
   "cell_type": "markdown",
   "metadata": {},
   "source": [
    "air_quality[air_quality['Geo Type Name'].str.contains('CD')]"
   ]
  },
  {
   "cell_type": "markdown",
   "metadata": {},
   "source": [
    "air_quality[air_quality['Geo Type Name'].str.contains('UHF42')]"
   ]
  },
  {
   "cell_type": "markdown",
   "metadata": {},
   "source": [
    "air_quality[air_quality['Geo Type Name'].str.contains('UHF34')]"
   ]
  },
  {
   "cell_type": "markdown",
   "metadata": {},
   "source": [
    "air_quality_boros = air_quality[air_quality['Geo Type Name'].str.contains('Borough')]\n",
    "air_quality_boros = air_quality_boros.drop(['Geo Type Name'], axis=1)"
   ]
  },
  {
   "cell_type": "markdown",
   "metadata": {},
   "source": [
    "air_quality_boros.sample(10)"
   ]
  },
  {
   "cell_type": "markdown",
   "metadata": {},
   "source": [
    "for time_period in air_quality_boros['Time Period'].sort_values().unique():\n",
    "    print(time_period, 'length:', len(time_period))"
   ]
  },
  {
   "cell_type": "markdown",
   "metadata": {},
   "source": [
    "air_quality.groupby('Time Period')['Start_Date'].value_counts()"
   ]
  },
  {
   "cell_type": "markdown",
   "metadata": {},
   "source": [
    "def create_end_dates(air_quality_boros_dict):\n",
    "    end_dates = []\n",
    "    for row in air_quality_boros_dict:\n",
    "        time_period_str_len = len(row['Time Period'])\n",
    "        year = row['Start_Date'].year\n",
    "        if time_period_str_len == 4:\n",
    "            date = datetime.date(year, 12, 31)\n",
    "        elif time_period_str_len == 9:\n",
    "            date = datetime.date(year + 2, 12, 31)\n",
    "        elif time_period_str_len == 11:\n",
    "            date = datetime.date(year, 8, 31)\n",
    "        elif time_period_str_len == 14:\n",
    "            date = datetime.date(year + 1, 2, 28)\n",
    "        elif time_period_str_len == 19:\n",
    "            year = int(row['Time Period'][-4:])\n",
    "            date = datetime.date(year, 12, 31)\n",
    "        end_dates.append(date)\n",
    "    return end_dates"
   ]
  },
  {
   "cell_type": "markdown",
   "metadata": {},
   "source": [
    "air_quality_boros['end_date'] = create_end_dates(air_quality_boros.to_dict('records'))"
   ]
  },
  {
   "cell_type": "markdown",
   "metadata": {},
   "source": [
    "air_quality_boros.sample(10)"
   ]
  },
  {
   "cell_type": "markdown",
   "metadata": {},
   "source": [
    "air_quality_boros['Indicator ID'].nunique()"
   ]
  },
  {
   "cell_type": "markdown",
   "metadata": {},
   "source": [
    "print(air_quality.groupby(['Name', 'Measure'])['Indicator ID'].value_counts())\n",
    "print(len(air_quality.groupby(['Name', 'Measure'])['Indicator ID'].value_counts()))"
   ]
  },
  {
   "cell_type": "markdown",
   "metadata": {},
   "source": [
    "air_quality_boros = air_quality_boros.drop(['Indicator ID'], axis=1)"
   ]
  },
  {
   "cell_type": "markdown",
   "metadata": {},
   "source": [
    "air_quality_boros.sample(10)"
   ]
  },
  {
   "cell_type": "markdown",
   "metadata": {},
   "source": [
    "air_quality_boros.groupby(['Name'])['Measure'].value_counts()"
   ]
  },
  {
   "cell_type": "markdown",
   "metadata": {},
   "source": [
    "air_quality_boros[air_quality_boros['Time Period'].str.contains(\"Annual\")]['Measure'].unique()"
   ]
  },
  {
   "cell_type": "markdown",
   "metadata": {},
   "source": [
    "air_quality_boros[air_quality_boros['Time Period'].str.contains(\"Annual\")]['Name'].unique()"
   ]
  },
  {
   "cell_type": "markdown",
   "metadata": {},
   "source": [
    "air_quality_boros[air_quality_boros['Measure'].str.contains(\"Mean\")]['Time Period'].unique()"
   ]
  },
  {
   "cell_type": "markdown",
   "metadata": {
    "jp-MarkdownHeadingCollapsed": true,
    "tags": []
   },
   "source": [
    "## Traffic Volume Dataset Cleaning"
   ]
  },
  {
   "cell_type": "code",
   "execution_count": 16,
   "metadata": {},
   "outputs": [
    {
     "data": {
      "text/html": [
       "<div>\n",
       "<style scoped>\n",
       "    .dataframe tbody tr th:only-of-type {\n",
       "        vertical-align: middle;\n",
       "    }\n",
       "\n",
       "    .dataframe tbody tr th {\n",
       "        vertical-align: top;\n",
       "    }\n",
       "\n",
       "    .dataframe thead th {\n",
       "        text-align: right;\n",
       "    }\n",
       "</style>\n",
       "<table border=\"1\" class=\"dataframe\">\n",
       "  <thead>\n",
       "    <tr style=\"text-align: right;\">\n",
       "      <th></th>\n",
       "      <th>RequestID</th>\n",
       "      <th>Boro</th>\n",
       "      <th>Yr</th>\n",
       "      <th>M</th>\n",
       "      <th>D</th>\n",
       "      <th>HH</th>\n",
       "      <th>MM</th>\n",
       "      <th>Vol</th>\n",
       "      <th>SegmentID</th>\n",
       "      <th>WktGeom</th>\n",
       "      <th>street</th>\n",
       "      <th>fromSt</th>\n",
       "      <th>toSt</th>\n",
       "      <th>Direction</th>\n",
       "    </tr>\n",
       "  </thead>\n",
       "  <tbody>\n",
       "    <tr>\n",
       "      <th>1854266</th>\n",
       "      <td>10275</td>\n",
       "      <td>Queens</td>\n",
       "      <td>2012</td>\n",
       "      <td>8</td>\n",
       "      <td>13</td>\n",
       "      <td>13</td>\n",
       "      <td>30</td>\n",
       "      <td>0</td>\n",
       "      <td>131591</td>\n",
       "      <td>POINT (1036898.1 202691.8)</td>\n",
       "      <td>PARSONS BLVD</td>\n",
       "      <td>77 RD</td>\n",
       "      <td>78 AV</td>\n",
       "      <td>NB</td>\n",
       "    </tr>\n",
       "    <tr>\n",
       "      <th>12295638</th>\n",
       "      <td>25234</td>\n",
       "      <td>Manhattan</td>\n",
       "      <td>2017</td>\n",
       "      <td>2</td>\n",
       "      <td>9</td>\n",
       "      <td>12</td>\n",
       "      <td>45</td>\n",
       "      <td>4</td>\n",
       "      <td>173669</td>\n",
       "      <td>POINT (1000725.4114224805 244889.75662028856)</td>\n",
       "      <td>WEST 165 STREET</td>\n",
       "      <td>8 Avenue Line</td>\n",
       "      <td>Broadway</td>\n",
       "      <td>WB</td>\n",
       "    </tr>\n",
       "    <tr>\n",
       "      <th>22017750</th>\n",
       "      <td>21066</td>\n",
       "      <td>Manhattan</td>\n",
       "      <td>2015</td>\n",
       "      <td>9</td>\n",
       "      <td>13</td>\n",
       "      <td>5</td>\n",
       "      <td>30</td>\n",
       "      <td>48</td>\n",
       "      <td>270776</td>\n",
       "      <td>POINT (1008843.5385506356 257555.11880403542)</td>\n",
       "      <td>BROADWAY BRIDGE</td>\n",
       "      <td>Broadway</td>\n",
       "      <td>Harlem River Shoreline</td>\n",
       "      <td>NB</td>\n",
       "    </tr>\n",
       "    <tr>\n",
       "      <th>23211048</th>\n",
       "      <td>12434</td>\n",
       "      <td>Queens</td>\n",
       "      <td>2009</td>\n",
       "      <td>9</td>\n",
       "      <td>21</td>\n",
       "      <td>3</td>\n",
       "      <td>0</td>\n",
       "      <td>11</td>\n",
       "      <td>157065</td>\n",
       "      <td>POINT (1027681.7 202134)</td>\n",
       "      <td>QUEENS BLVD SERV RD BET. 71 AVE &amp; 71 RD</td>\n",
       "      <td>71 AV/108 ST</td>\n",
       "      <td>71 RD</td>\n",
       "      <td>WB</td>\n",
       "    </tr>\n",
       "    <tr>\n",
       "      <th>2124123</th>\n",
       "      <td>2724</td>\n",
       "      <td>Brooklyn</td>\n",
       "      <td>2010</td>\n",
       "      <td>4</td>\n",
       "      <td>28</td>\n",
       "      <td>9</td>\n",
       "      <td>0</td>\n",
       "      <td>97</td>\n",
       "      <td>29024</td>\n",
       "      <td>POINT (990996.7 184887.3)</td>\n",
       "      <td>N/B 7 AVE @ UNION ST</td>\n",
       "      <td>PRESIDENT ST</td>\n",
       "      <td>UNION ST</td>\n",
       "      <td>NB</td>\n",
       "    </tr>\n",
       "    <tr>\n",
       "      <th>19617411</th>\n",
       "      <td>28844</td>\n",
       "      <td>Queens</td>\n",
       "      <td>2019</td>\n",
       "      <td>1</td>\n",
       "      <td>15</td>\n",
       "      <td>20</td>\n",
       "      <td>0</td>\n",
       "      <td>402</td>\n",
       "      <td>64066</td>\n",
       "      <td>POINT (1059471.4446525087 181864.3013300706)</td>\n",
       "      <td>SUNRISE HIGHWAY</td>\n",
       "      <td>Dead End</td>\n",
       "      <td>Hook Creek Boulevard</td>\n",
       "      <td>WB</td>\n",
       "    </tr>\n",
       "    <tr>\n",
       "      <th>24044369</th>\n",
       "      <td>17995</td>\n",
       "      <td>Manhattan</td>\n",
       "      <td>2014</td>\n",
       "      <td>9</td>\n",
       "      <td>20</td>\n",
       "      <td>7</td>\n",
       "      <td>30</td>\n",
       "      <td>72</td>\n",
       "      <td>71091</td>\n",
       "      <td>POINT (1001988.1337066831 248107.85060862606)</td>\n",
       "      <td>WEST 178 STREET</td>\n",
       "      <td>Broadway/ 7 Avenue Line</td>\n",
       "      <td>Wadsworth Avenue</td>\n",
       "      <td>EB</td>\n",
       "    </tr>\n",
       "    <tr>\n",
       "      <th>11191719</th>\n",
       "      <td>31026</td>\n",
       "      <td>Manhattan</td>\n",
       "      <td>2019</td>\n",
       "      <td>10</td>\n",
       "      <td>13</td>\n",
       "      <td>9</td>\n",
       "      <td>30</td>\n",
       "      <td>24</td>\n",
       "      <td>32585</td>\n",
       "      <td>POINT (985990.5420497697 204561.27731893765)</td>\n",
       "      <td>EAST 4 STREET</td>\n",
       "      <td>Broadway</td>\n",
       "      <td>Lafayette Street</td>\n",
       "      <td>EB</td>\n",
       "    </tr>\n",
       "    <tr>\n",
       "      <th>12275648</th>\n",
       "      <td>3382</td>\n",
       "      <td>Brooklyn</td>\n",
       "      <td>2009</td>\n",
       "      <td>6</td>\n",
       "      <td>30</td>\n",
       "      <td>0</td>\n",
       "      <td>0</td>\n",
       "      <td>11</td>\n",
       "      <td>42411</td>\n",
       "      <td>POINT (1006859.5 172096.2)</td>\n",
       "      <td>S/B EAST 79 ST @ FARRAGUT RD</td>\n",
       "      <td>RALPH AV</td>\n",
       "      <td>FARRAGUT RD</td>\n",
       "      <td>SB</td>\n",
       "    </tr>\n",
       "    <tr>\n",
       "      <th>3174643</th>\n",
       "      <td>15931</td>\n",
       "      <td>Brooklyn</td>\n",
       "      <td>2013</td>\n",
       "      <td>10</td>\n",
       "      <td>28</td>\n",
       "      <td>13</td>\n",
       "      <td>0</td>\n",
       "      <td>38</td>\n",
       "      <td>187832</td>\n",
       "      <td>POINT (988971.7 194513)</td>\n",
       "      <td>GOLD STREET</td>\n",
       "      <td>BEND</td>\n",
       "      <td>BEND</td>\n",
       "      <td>SB</td>\n",
       "    </tr>\n",
       "  </tbody>\n",
       "</table>\n",
       "</div>"
      ],
      "text/plain": [
       "          RequestID       Boro    Yr   M   D  HH  MM  Vol  SegmentID  \\\n",
       "1854266       10275     Queens  2012   8  13  13  30    0     131591   \n",
       "12295638      25234  Manhattan  2017   2   9  12  45    4     173669   \n",
       "22017750      21066  Manhattan  2015   9  13   5  30   48     270776   \n",
       "23211048      12434     Queens  2009   9  21   3   0   11     157065   \n",
       "2124123        2724   Brooklyn  2010   4  28   9   0   97      29024   \n",
       "19617411      28844     Queens  2019   1  15  20   0  402      64066   \n",
       "24044369      17995  Manhattan  2014   9  20   7  30   72      71091   \n",
       "11191719      31026  Manhattan  2019  10  13   9  30   24      32585   \n",
       "12275648       3382   Brooklyn  2009   6  30   0   0   11      42411   \n",
       "3174643       15931   Brooklyn  2013  10  28  13   0   38     187832   \n",
       "\n",
       "                                                WktGeom  \\\n",
       "1854266                      POINT (1036898.1 202691.8)   \n",
       "12295638  POINT (1000725.4114224805 244889.75662028856)   \n",
       "22017750  POINT (1008843.5385506356 257555.11880403542)   \n",
       "23211048                       POINT (1027681.7 202134)   \n",
       "2124123                       POINT (990996.7 184887.3)   \n",
       "19617411   POINT (1059471.4446525087 181864.3013300706)   \n",
       "24044369  POINT (1001988.1337066831 248107.85060862606)   \n",
       "11191719   POINT (985990.5420497697 204561.27731893765)   \n",
       "12275648                     POINT (1006859.5 172096.2)   \n",
       "3174643                         POINT (988971.7 194513)   \n",
       "\n",
       "                                           street                   fromSt  \\\n",
       "1854266                              PARSONS BLVD                    77 RD   \n",
       "12295638                          WEST 165 STREET            8 Avenue Line   \n",
       "22017750                          BROADWAY BRIDGE                 Broadway   \n",
       "23211048  QUEENS BLVD SERV RD BET. 71 AVE & 71 RD             71 AV/108 ST   \n",
       "2124123                      N/B 7 AVE @ UNION ST             PRESIDENT ST   \n",
       "19617411                          SUNRISE HIGHWAY                 Dead End   \n",
       "24044369                          WEST 178 STREET  Broadway/ 7 Avenue Line   \n",
       "11191719                            EAST 4 STREET                 Broadway   \n",
       "12275648             S/B EAST 79 ST @ FARRAGUT RD                 RALPH AV   \n",
       "3174643                               GOLD STREET                     BEND   \n",
       "\n",
       "                            toSt Direction  \n",
       "1854266                    78 AV        NB  \n",
       "12295638                Broadway        WB  \n",
       "22017750  Harlem River Shoreline        NB  \n",
       "23211048                   71 RD        WB  \n",
       "2124123                 UNION ST        NB  \n",
       "19617411    Hook Creek Boulevard        WB  \n",
       "24044369        Wadsworth Avenue        EB  \n",
       "11191719        Lafayette Street        EB  \n",
       "12275648             FARRAGUT RD        SB  \n",
       "3174643                     BEND        SB  "
      ]
     },
     "execution_count": 16,
     "metadata": {},
     "output_type": "execute_result"
    }
   ],
   "source": [
    "traffic_volume.sample(10)"
   ]
  },
  {
   "cell_type": "code",
   "execution_count": 17,
   "metadata": {},
   "outputs": [
    {
     "data": {
      "text/plain": [
       "(27190511, 14)"
      ]
     },
     "execution_count": 17,
     "metadata": {},
     "output_type": "execute_result"
    }
   ],
   "source": [
    "traffic_volume.shape"
   ]
  },
  {
   "cell_type": "code",
   "execution_count": 18,
   "metadata": {},
   "outputs": [
    {
     "name": "stdout",
     "output_type": "stream",
     "text": [
      "RequestID    0.000000\n",
      "Boro         0.000000\n",
      "Yr           0.000000\n",
      "M            0.000000\n",
      "D            0.000000\n",
      "HH           0.000000\n",
      "MM           0.000000\n",
      "Vol          0.000000\n",
      "SegmentID    0.000000\n",
      "WktGeom      0.000000\n",
      "street       0.000000\n",
      "fromSt       0.000000\n",
      "toSt         0.000074\n",
      "Direction    0.000000\n",
      "dtype: float64\n"
     ]
    }
   ],
   "source": [
    "print(traffic_volume.isnull().sum() / len(traffic_volume))"
   ]
  },
  {
   "cell_type": "code",
   "execution_count": 19,
   "metadata": {},
   "outputs": [
    {
     "name": "stdout",
     "output_type": "stream",
     "text": [
      "RequestID    2.607527e-04\n",
      "Boro         1.838877e-07\n",
      "Yr           5.884406e-07\n",
      "M            4.413304e-07\n",
      "D            1.140104e-06\n",
      "HH           8.826609e-07\n",
      "MM           1.471101e-07\n",
      "Vol          1.476986e-04\n",
      "SegmentID    5.499345e-04\n",
      "WktGeom      7.525787e-04\n",
      "street       2.482484e-04\n",
      "fromSt       2.361486e-04\n",
      "toSt         2.175391e-04\n",
      "Direction    2.206652e-07\n",
      "dtype: float64\n"
     ]
    }
   ],
   "source": [
    "print(traffic_volume.nunique() / len(traffic_volume))"
   ]
  },
  {
   "cell_type": "code",
   "execution_count": 20,
   "metadata": {},
   "outputs": [
    {
     "data": {
      "text/plain": [
       "RequestID     7090\n",
       "Boro             5\n",
       "Yr              16\n",
       "M               12\n",
       "D               31\n",
       "HH              24\n",
       "MM               4\n",
       "Vol           4016\n",
       "SegmentID    14953\n",
       "WktGeom      20463\n",
       "street        6750\n",
       "fromSt        6421\n",
       "toSt          5915\n",
       "Direction        6\n",
       "dtype: int64"
      ]
     },
     "execution_count": 20,
     "metadata": {},
     "output_type": "execute_result"
    }
   ],
   "source": [
    "traffic_volume.nunique()"
   ]
  },
  {
   "cell_type": "code",
   "execution_count": 21,
   "metadata": {},
   "outputs": [
    {
     "data": {
      "text/plain": [
       "RequestID     int64\n",
       "Boro         object\n",
       "Yr            int64\n",
       "M             int64\n",
       "D             int64\n",
       "HH            int64\n",
       "MM            int64\n",
       "Vol           int64\n",
       "SegmentID     int64\n",
       "WktGeom      object\n",
       "street       object\n",
       "fromSt       object\n",
       "toSt         object\n",
       "Direction    object\n",
       "dtype: object"
      ]
     },
     "execution_count": 21,
     "metadata": {},
     "output_type": "execute_result"
    }
   ],
   "source": [
    "traffic_volume.dtypes"
   ]
  },
  {
   "cell_type": "code",
   "execution_count": 22,
   "metadata": {},
   "outputs": [
    {
     "data": {
      "text/plain": [
       "2000"
      ]
     },
     "execution_count": 22,
     "metadata": {},
     "output_type": "execute_result"
    }
   ],
   "source": [
    "traffic_volume.Yr.min()"
   ]
  },
  {
   "cell_type": "code",
   "execution_count": 23,
   "metadata": {},
   "outputs": [],
   "source": [
    "traffic_volume = traffic_volume[traffic_volume['Yr'] >= 2005]"
   ]
  },
  {
   "cell_type": "code",
   "execution_count": 24,
   "metadata": {},
   "outputs": [
    {
     "data": {
      "text/plain": [
       "(27188607, 14)"
      ]
     },
     "execution_count": 24,
     "metadata": {},
     "output_type": "execute_result"
    }
   ],
   "source": [
    "traffic_volume.shape"
   ]
  },
  {
   "cell_type": "code",
   "execution_count": 25,
   "metadata": {},
   "outputs": [
    {
     "data": {
      "text/plain": [
       "2006        664\n",
       "2007      11780\n",
       "2008      68591\n",
       "2009    1012766\n",
       "2010    1421397\n",
       "2011    1238391\n",
       "2012    2434583\n",
       "2013    2829656\n",
       "2014    3708367\n",
       "2015    3232005\n",
       "2016    3362243\n",
       "2017    3013530\n",
       "2018    2046443\n",
       "2019    2365633\n",
       "2020     442558\n",
       "Name: Yr, dtype: int64"
      ]
     },
     "execution_count": 25,
     "metadata": {},
     "output_type": "execute_result"
    }
   ],
   "source": [
    "traffic_volume['Yr'].value_counts().sort_index()"
   ]
  },
  {
   "cell_type": "code",
   "execution_count": 26,
   "metadata": {},
   "outputs": [],
   "source": [
    "traffic_volume = traffic_volume[traffic_volume['Yr'] > 2008]"
   ]
  },
  {
   "cell_type": "code",
   "execution_count": 27,
   "metadata": {},
   "outputs": [
    {
     "data": {
      "text/plain": [
       "(27107572, 14)"
      ]
     },
     "execution_count": 27,
     "metadata": {},
     "output_type": "execute_result"
    }
   ],
   "source": [
    "traffic_volume.shape"
   ]
  },
  {
   "cell_type": "code",
   "execution_count": 28,
   "metadata": {
    "tags": []
   },
   "outputs": [],
   "source": [
    "traffic_volume['date_time'] = pd.to_datetime(dict(year=traffic_volume.Yr, \\\n",
    "                                                  month=traffic_volume.M, \\\n",
    "                                                  day=traffic_volume.D, \\\n",
    "                                                  hour=traffic_volume.HH, \\\n",
    "                                                  minute=traffic_volume.MM))"
   ]
  },
  {
   "cell_type": "code",
   "execution_count": 29,
   "metadata": {},
   "outputs": [],
   "source": [
    "traffic_volume = traffic_volume.drop(['Yr', 'M', 'D', 'HH', 'MM'], axis=1)"
   ]
  },
  {
   "cell_type": "code",
   "execution_count": 30,
   "metadata": {},
   "outputs": [
    {
     "data": {
      "text/html": [
       "<div>\n",
       "<style scoped>\n",
       "    .dataframe tbody tr th:only-of-type {\n",
       "        vertical-align: middle;\n",
       "    }\n",
       "\n",
       "    .dataframe tbody tr th {\n",
       "        vertical-align: top;\n",
       "    }\n",
       "\n",
       "    .dataframe thead th {\n",
       "        text-align: right;\n",
       "    }\n",
       "</style>\n",
       "<table border=\"1\" class=\"dataframe\">\n",
       "  <thead>\n",
       "    <tr style=\"text-align: right;\">\n",
       "      <th></th>\n",
       "      <th>RequestID</th>\n",
       "      <th>Boro</th>\n",
       "      <th>Vol</th>\n",
       "      <th>SegmentID</th>\n",
       "      <th>WktGeom</th>\n",
       "      <th>street</th>\n",
       "      <th>fromSt</th>\n",
       "      <th>toSt</th>\n",
       "      <th>Direction</th>\n",
       "      <th>date_time</th>\n",
       "    </tr>\n",
       "  </thead>\n",
       "  <tbody>\n",
       "    <tr>\n",
       "      <th>12124828</th>\n",
       "      <td>15917</td>\n",
       "      <td>Queens</td>\n",
       "      <td>76</td>\n",
       "      <td>82600</td>\n",
       "      <td>POINT (1027216 203075.5)</td>\n",
       "      <td>108 ST</td>\n",
       "      <td>JEWEL AV</td>\n",
       "      <td>69 RD</td>\n",
       "      <td>NB</td>\n",
       "      <td>2013-10-29 17:15:00</td>\n",
       "    </tr>\n",
       "    <tr>\n",
       "      <th>17279743</th>\n",
       "      <td>18612</td>\n",
       "      <td>Staten Island</td>\n",
       "      <td>134</td>\n",
       "      <td>11397</td>\n",
       "      <td>POINT (953672.416482428 151440.8143192436)</td>\n",
       "      <td>RICHMOND ROAD</td>\n",
       "      <td>Bedford Avenue</td>\n",
       "      <td>Midland Avenue</td>\n",
       "      <td>WB</td>\n",
       "      <td>2014-10-18 10:30:00</td>\n",
       "    </tr>\n",
       "    <tr>\n",
       "      <th>9072055</th>\n",
       "      <td>26107</td>\n",
       "      <td>Brooklyn</td>\n",
       "      <td>4</td>\n",
       "      <td>167775</td>\n",
       "      <td>POINT (1010430.9467768674 157166.3262269207)</td>\n",
       "      <td>BELT PKWY EB EN FLATBUSH AVE NB</td>\n",
       "      <td>Dead End</td>\n",
       "      <td>Dead end</td>\n",
       "      <td>EB</td>\n",
       "      <td>2016-10-16 05:30:00</td>\n",
       "    </tr>\n",
       "    <tr>\n",
       "      <th>1368281</th>\n",
       "      <td>27304</td>\n",
       "      <td>Manhattan</td>\n",
       "      <td>5</td>\n",
       "      <td>9009513</td>\n",
       "      <td>POINT (990247.2783937927 222439.68311023604)</td>\n",
       "      <td>WEST 72 STREET</td>\n",
       "      <td>Dead End</td>\n",
       "      <td>Columbus Avenue</td>\n",
       "      <td>WB</td>\n",
       "      <td>2017-11-29 02:15:00</td>\n",
       "    </tr>\n",
       "    <tr>\n",
       "      <th>1350006</th>\n",
       "      <td>23641</td>\n",
       "      <td>Brooklyn</td>\n",
       "      <td>32</td>\n",
       "      <td>31315</td>\n",
       "      <td>POINT (999930.523723439 192721.2888891073)</td>\n",
       "      <td>THROOP AVENUE</td>\n",
       "      <td>Vernon Avenue</td>\n",
       "      <td>Myrtle Avenue</td>\n",
       "      <td>NB</td>\n",
       "      <td>2016-06-19 04:45:00</td>\n",
       "    </tr>\n",
       "    <tr>\n",
       "      <th>11162434</th>\n",
       "      <td>18050</td>\n",
       "      <td>Queens</td>\n",
       "      <td>116</td>\n",
       "      <td>136535</td>\n",
       "      <td>POINT (1032725.187160524 208046.95304528048)</td>\n",
       "      <td>MAIN STREET</td>\n",
       "      <td>Dead End</td>\n",
       "      <td>Gravett Road</td>\n",
       "      <td>SB</td>\n",
       "      <td>2014-11-01 09:15:00</td>\n",
       "    </tr>\n",
       "    <tr>\n",
       "      <th>22428681</th>\n",
       "      <td>28337</td>\n",
       "      <td>Bronx</td>\n",
       "      <td>180</td>\n",
       "      <td>9014571</td>\n",
       "      <td>POINT (1016307.4114839429 239006.17257189233)</td>\n",
       "      <td>BRUCKNER BOULEVARD</td>\n",
       "      <td>Dead End</td>\n",
       "      <td>Bronx River Shoreline</td>\n",
       "      <td>EB</td>\n",
       "      <td>2018-06-23 11:15:00</td>\n",
       "    </tr>\n",
       "    <tr>\n",
       "      <th>3593345</th>\n",
       "      <td>27502</td>\n",
       "      <td>Queens</td>\n",
       "      <td>17</td>\n",
       "      <td>149063</td>\n",
       "      <td>POINT (1025074.4799058797 211053.9256278476)</td>\n",
       "      <td>111 STREET</td>\n",
       "      <td>50 Avenue</td>\n",
       "      <td>49 Avenue</td>\n",
       "      <td>NB</td>\n",
       "      <td>2018-01-18 05:15:00</td>\n",
       "    </tr>\n",
       "    <tr>\n",
       "      <th>13155222</th>\n",
       "      <td>2799</td>\n",
       "      <td>Brooklyn</td>\n",
       "      <td>2</td>\n",
       "      <td>35487</td>\n",
       "      <td>POINT (998246.7 203124.8)</td>\n",
       "      <td>W/B NASSAU AVE @ LEONARD ST</td>\n",
       "      <td>LEONARD ST</td>\n",
       "      <td>ECKFORD ST</td>\n",
       "      <td>WB</td>\n",
       "      <td>2010-07-28 01:45:00</td>\n",
       "    </tr>\n",
       "    <tr>\n",
       "      <th>19399772</th>\n",
       "      <td>10571</td>\n",
       "      <td>Brooklyn</td>\n",
       "      <td>21</td>\n",
       "      <td>28069</td>\n",
       "      <td>POINT (993275.2 172390.9)</td>\n",
       "      <td>CORTELYOU RD</td>\n",
       "      <td>STRATFORD RD</td>\n",
       "      <td>WESTMINSTER RD</td>\n",
       "      <td>EB</td>\n",
       "      <td>2012-09-07 05:45:00</td>\n",
       "    </tr>\n",
       "  </tbody>\n",
       "</table>\n",
       "</div>"
      ],
      "text/plain": [
       "          RequestID           Boro  Vol  SegmentID  \\\n",
       "12124828      15917         Queens   76      82600   \n",
       "17279743      18612  Staten Island  134      11397   \n",
       "9072055       26107       Brooklyn    4     167775   \n",
       "1368281       27304      Manhattan    5    9009513   \n",
       "1350006       23641       Brooklyn   32      31315   \n",
       "11162434      18050         Queens  116     136535   \n",
       "22428681      28337          Bronx  180    9014571   \n",
       "3593345       27502         Queens   17     149063   \n",
       "13155222       2799       Brooklyn    2      35487   \n",
       "19399772      10571       Brooklyn   21      28069   \n",
       "\n",
       "                                                WktGeom  \\\n",
       "12124828                       POINT (1027216 203075.5)   \n",
       "17279743     POINT (953672.416482428 151440.8143192436)   \n",
       "9072055    POINT (1010430.9467768674 157166.3262269207)   \n",
       "1368281    POINT (990247.2783937927 222439.68311023604)   \n",
       "1350006      POINT (999930.523723439 192721.2888891073)   \n",
       "11162434   POINT (1032725.187160524 208046.95304528048)   \n",
       "22428681  POINT (1016307.4114839429 239006.17257189233)   \n",
       "3593345    POINT (1025074.4799058797 211053.9256278476)   \n",
       "13155222                      POINT (998246.7 203124.8)   \n",
       "19399772                      POINT (993275.2 172390.9)   \n",
       "\n",
       "                                   street          fromSt  \\\n",
       "12124828                           108 ST        JEWEL AV   \n",
       "17279743                    RICHMOND ROAD  Bedford Avenue   \n",
       "9072055   BELT PKWY EB EN FLATBUSH AVE NB        Dead End   \n",
       "1368281                    WEST 72 STREET        Dead End   \n",
       "1350006                     THROOP AVENUE   Vernon Avenue   \n",
       "11162434                      MAIN STREET        Dead End   \n",
       "22428681               BRUCKNER BOULEVARD        Dead End   \n",
       "3593345                        111 STREET       50 Avenue   \n",
       "13155222      W/B NASSAU AVE @ LEONARD ST      LEONARD ST   \n",
       "19399772                     CORTELYOU RD    STRATFORD RD   \n",
       "\n",
       "                           toSt Direction           date_time  \n",
       "12124828                  69 RD        NB 2013-10-29 17:15:00  \n",
       "17279743         Midland Avenue        WB 2014-10-18 10:30:00  \n",
       "9072055                Dead end        EB 2016-10-16 05:30:00  \n",
       "1368281         Columbus Avenue        WB 2017-11-29 02:15:00  \n",
       "1350006           Myrtle Avenue        NB 2016-06-19 04:45:00  \n",
       "11162434           Gravett Road        SB 2014-11-01 09:15:00  \n",
       "22428681  Bronx River Shoreline        EB 2018-06-23 11:15:00  \n",
       "3593345               49 Avenue        NB 2018-01-18 05:15:00  \n",
       "13155222             ECKFORD ST        WB 2010-07-28 01:45:00  \n",
       "19399772         WESTMINSTER RD        EB 2012-09-07 05:45:00  "
      ]
     },
     "execution_count": 30,
     "metadata": {},
     "output_type": "execute_result"
    }
   ],
   "source": [
    "traffic_volume.sample(10)"
   ]
  },
  {
   "cell_type": "code",
   "execution_count": 31,
   "metadata": {},
   "outputs": [
    {
     "data": {
      "text/plain": [
       "2009    1012766\n",
       "2010    1421397\n",
       "2011    1238391\n",
       "2012    2434583\n",
       "2013    2829656\n",
       "2014    3708367\n",
       "2015    3232005\n",
       "2016    3362243\n",
       "2017    3013530\n",
       "2018    2046443\n",
       "2019    2365633\n",
       "2020     442558\n",
       "Name: date_time, dtype: int64"
      ]
     },
     "execution_count": 31,
     "metadata": {},
     "output_type": "execute_result"
    }
   ],
   "source": [
    "traffic_volume['date_time'].dt.year.value_counts().sort_index()"
   ]
  },
  {
   "cell_type": "code",
   "execution_count": 32,
   "metadata": {},
   "outputs": [
    {
     "data": {
      "text/plain": [
       "2009    0.037361\n",
       "2010    0.052435\n",
       "2011    0.045684\n",
       "2012    0.089812\n",
       "2013    0.104386\n",
       "2014    0.136802\n",
       "2015    0.119229\n",
       "2016    0.124033\n",
       "2017    0.111169\n",
       "2018    0.075493\n",
       "2019    0.087268\n",
       "2020    0.016326\n",
       "Name: date_time, dtype: float64"
      ]
     },
     "execution_count": 32,
     "metadata": {},
     "output_type": "execute_result"
    }
   ],
   "source": [
    "traffic_volume['date_time'].dt.year.value_counts().sort_index() / len(traffic_volume)"
   ]
  },
  {
   "cell_type": "code",
   "execution_count": 33,
   "metadata": {},
   "outputs": [
    {
     "data": {
      "text/html": [
       "<div>\n",
       "<style scoped>\n",
       "    .dataframe tbody tr th:only-of-type {\n",
       "        vertical-align: middle;\n",
       "    }\n",
       "\n",
       "    .dataframe tbody tr th {\n",
       "        vertical-align: top;\n",
       "    }\n",
       "\n",
       "    .dataframe thead th {\n",
       "        text-align: right;\n",
       "    }\n",
       "</style>\n",
       "<table border=\"1\" class=\"dataframe\">\n",
       "  <thead>\n",
       "    <tr style=\"text-align: right;\">\n",
       "      <th></th>\n",
       "      <th>RequestID</th>\n",
       "      <th>Boro</th>\n",
       "      <th>Vol</th>\n",
       "      <th>SegmentID</th>\n",
       "      <th>WktGeom</th>\n",
       "      <th>street</th>\n",
       "      <th>fromSt</th>\n",
       "      <th>toSt</th>\n",
       "      <th>Direction</th>\n",
       "      <th>date_time</th>\n",
       "    </tr>\n",
       "  </thead>\n",
       "  <tbody>\n",
       "    <tr>\n",
       "      <th>0</th>\n",
       "      <td>20856</td>\n",
       "      <td>Queens</td>\n",
       "      <td>9</td>\n",
       "      <td>171896</td>\n",
       "      <td>POINT (1052296.600156678 199785.26932711253)</td>\n",
       "      <td>94 AVENUE</td>\n",
       "      <td>207 Street</td>\n",
       "      <td>Francis Lewis Boulevard</td>\n",
       "      <td>WB</td>\n",
       "      <td>2015-06-23 23:30:00</td>\n",
       "    </tr>\n",
       "    <tr>\n",
       "      <th>1</th>\n",
       "      <td>21231</td>\n",
       "      <td>Staten Island</td>\n",
       "      <td>6</td>\n",
       "      <td>9896</td>\n",
       "      <td>POINT (942668.0589509147 171441.21296926)</td>\n",
       "      <td>RICHMOND TERRACE</td>\n",
       "      <td>Wright Avenue</td>\n",
       "      <td>Emeric Court</td>\n",
       "      <td>WB</td>\n",
       "      <td>2015-09-14 04:15:00</td>\n",
       "    </tr>\n",
       "    <tr>\n",
       "      <th>2</th>\n",
       "      <td>29279</td>\n",
       "      <td>Bronx</td>\n",
       "      <td>85</td>\n",
       "      <td>77817</td>\n",
       "      <td>POINT (1016508.0034050211 235221.59092266942)</td>\n",
       "      <td>HUNTS POINT AVENUE</td>\n",
       "      <td>Whittier Street</td>\n",
       "      <td>Randall Avenue</td>\n",
       "      <td>NB</td>\n",
       "      <td>2017-10-19 04:30:00</td>\n",
       "    </tr>\n",
       "    <tr>\n",
       "      <th>3</th>\n",
       "      <td>27019</td>\n",
       "      <td>Brooklyn</td>\n",
       "      <td>168</td>\n",
       "      <td>188023</td>\n",
       "      <td>POINT (992925.4316054962 184116.82855457635)</td>\n",
       "      <td>FLATBUSH AVENUE</td>\n",
       "      <td>Brighton Line</td>\n",
       "      <td>Brighton Line</td>\n",
       "      <td>NB</td>\n",
       "      <td>2017-11-07 18:30:00</td>\n",
       "    </tr>\n",
       "    <tr>\n",
       "      <th>4</th>\n",
       "      <td>26734</td>\n",
       "      <td>Manhattan</td>\n",
       "      <td>355</td>\n",
       "      <td>137516</td>\n",
       "      <td>POINT (1004175.9505178436 247779.63624949602)</td>\n",
       "      <td>WASHINGTON BRIDGE</td>\n",
       "      <td>Harlem River Shoreline</td>\n",
       "      <td>Harlem River Shoreline</td>\n",
       "      <td>EB</td>\n",
       "      <td>2017-11-03 22:00:00</td>\n",
       "    </tr>\n",
       "  </tbody>\n",
       "</table>\n",
       "</div>"
      ],
      "text/plain": [
       "   RequestID           Boro  Vol  SegmentID  \\\n",
       "0      20856         Queens    9     171896   \n",
       "1      21231  Staten Island    6       9896   \n",
       "2      29279          Bronx   85      77817   \n",
       "3      27019       Brooklyn  168     188023   \n",
       "4      26734      Manhattan  355     137516   \n",
       "\n",
       "                                         WktGeom              street  \\\n",
       "0   POINT (1052296.600156678 199785.26932711253)           94 AVENUE   \n",
       "1      POINT (942668.0589509147 171441.21296926)    RICHMOND TERRACE   \n",
       "2  POINT (1016508.0034050211 235221.59092266942)  HUNTS POINT AVENUE   \n",
       "3   POINT (992925.4316054962 184116.82855457635)     FLATBUSH AVENUE   \n",
       "4  POINT (1004175.9505178436 247779.63624949602)   WASHINGTON BRIDGE   \n",
       "\n",
       "                   fromSt                     toSt Direction  \\\n",
       "0              207 Street  Francis Lewis Boulevard        WB   \n",
       "1           Wright Avenue             Emeric Court        WB   \n",
       "2         Whittier Street           Randall Avenue        NB   \n",
       "3           Brighton Line            Brighton Line        NB   \n",
       "4  Harlem River Shoreline   Harlem River Shoreline        EB   \n",
       "\n",
       "            date_time  \n",
       "0 2015-06-23 23:30:00  \n",
       "1 2015-09-14 04:15:00  \n",
       "2 2017-10-19 04:30:00  \n",
       "3 2017-11-07 18:30:00  \n",
       "4 2017-11-03 22:00:00  "
      ]
     },
     "execution_count": 33,
     "metadata": {},
     "output_type": "execute_result"
    }
   ],
   "source": [
    "traffic_volume.head()"
   ]
  },
  {
   "cell_type": "code",
   "execution_count": 34,
   "metadata": {},
   "outputs": [
    {
     "data": {
      "text/html": [
       "<div>\n",
       "<style scoped>\n",
       "    .dataframe tbody tr th:only-of-type {\n",
       "        vertical-align: middle;\n",
       "    }\n",
       "\n",
       "    .dataframe tbody tr th {\n",
       "        vertical-align: top;\n",
       "    }\n",
       "\n",
       "    .dataframe thead th {\n",
       "        text-align: right;\n",
       "    }\n",
       "</style>\n",
       "<table border=\"1\" class=\"dataframe\">\n",
       "  <thead>\n",
       "    <tr style=\"text-align: right;\">\n",
       "      <th></th>\n",
       "      <th>RequestID</th>\n",
       "      <th>Boro</th>\n",
       "      <th>Vol</th>\n",
       "      <th>SegmentID</th>\n",
       "      <th>WktGeom</th>\n",
       "      <th>street</th>\n",
       "      <th>fromSt</th>\n",
       "      <th>toSt</th>\n",
       "      <th>Direction</th>\n",
       "      <th>date_time</th>\n",
       "    </tr>\n",
       "  </thead>\n",
       "  <tbody>\n",
       "    <tr>\n",
       "      <th>25543663</th>\n",
       "      <td>32417</td>\n",
       "      <td>Queens</td>\n",
       "      <td>20</td>\n",
       "      <td>67665</td>\n",
       "      <td>POINT (1004228.4823799994 215767.68782613552)</td>\n",
       "      <td>31 STREET</td>\n",
       "      <td>34 Avenue</td>\n",
       "      <td>35 Avenue</td>\n",
       "      <td>SB</td>\n",
       "      <td>2020-11-22 23:45:00</td>\n",
       "    </tr>\n",
       "    <tr>\n",
       "      <th>20968423</th>\n",
       "      <td>32417</td>\n",
       "      <td>Queens</td>\n",
       "      <td>3</td>\n",
       "      <td>101621</td>\n",
       "      <td>POINT (1055667.922729934 216597.78334720692)</td>\n",
       "      <td>DOUGLASTON PARKWAY</td>\n",
       "      <td>Maryland Road</td>\n",
       "      <td>Van Zandt Avenue</td>\n",
       "      <td>SB</td>\n",
       "      <td>2020-11-22 23:45:00</td>\n",
       "    </tr>\n",
       "    <tr>\n",
       "      <th>6368254</th>\n",
       "      <td>32417</td>\n",
       "      <td>Queens</td>\n",
       "      <td>27</td>\n",
       "      <td>148877</td>\n",
       "      <td>POINT (1015917.5752772316 218664.23589469263)</td>\n",
       "      <td>23 AVENUE</td>\n",
       "      <td>Dead End</td>\n",
       "      <td>85 Street</td>\n",
       "      <td>WB</td>\n",
       "      <td>2020-11-22 23:45:00</td>\n",
       "    </tr>\n",
       "    <tr>\n",
       "      <th>7417214</th>\n",
       "      <td>32417</td>\n",
       "      <td>Queens</td>\n",
       "      <td>22</td>\n",
       "      <td>155846</td>\n",
       "      <td>POINT (1050166.9282559236 199291.28045636677)</td>\n",
       "      <td>JAMAICA AVENUE</td>\n",
       "      <td>197 Street</td>\n",
       "      <td>198 Street</td>\n",
       "      <td>WB</td>\n",
       "      <td>2020-11-22 23:45:00</td>\n",
       "    </tr>\n",
       "    <tr>\n",
       "      <th>18926986</th>\n",
       "      <td>32417</td>\n",
       "      <td>Queens</td>\n",
       "      <td>5</td>\n",
       "      <td>76510</td>\n",
       "      <td>POINT (1017222.1345317845 216101.64900761063)</td>\n",
       "      <td>31 AVENUE</td>\n",
       "      <td>87 Street</td>\n",
       "      <td>88 Street</td>\n",
       "      <td>WB</td>\n",
       "      <td>2020-11-22 23:45:00</td>\n",
       "    </tr>\n",
       "    <tr>\n",
       "      <th>13407547</th>\n",
       "      <td>32417</td>\n",
       "      <td>Queens</td>\n",
       "      <td>60</td>\n",
       "      <td>155773</td>\n",
       "      <td>POINT (1027092.2981505651 190399.9018293268)</td>\n",
       "      <td>ATLANTIC AVENUE</td>\n",
       "      <td>97 Street</td>\n",
       "      <td>98 Street</td>\n",
       "      <td>WB</td>\n",
       "      <td>2020-11-22 23:45:00</td>\n",
       "    </tr>\n",
       "    <tr>\n",
       "      <th>7423333</th>\n",
       "      <td>32417</td>\n",
       "      <td>Queens</td>\n",
       "      <td>8</td>\n",
       "      <td>75313</td>\n",
       "      <td>POINT (1019421.0343045937 208800.348152701)</td>\n",
       "      <td>51 AVENUE</td>\n",
       "      <td>90 Street</td>\n",
       "      <td>92 Street</td>\n",
       "      <td>EB</td>\n",
       "      <td>2020-11-22 23:45:00</td>\n",
       "    </tr>\n",
       "    <tr>\n",
       "      <th>18674125</th>\n",
       "      <td>32417</td>\n",
       "      <td>Queens</td>\n",
       "      <td>33</td>\n",
       "      <td>45497</td>\n",
       "      <td>POINT (1009925.0151697205 199046.51050050836)</td>\n",
       "      <td>METROPOLITAN AVENUE</td>\n",
       "      <td>55 Street</td>\n",
       "      <td>56 Street</td>\n",
       "      <td>WB</td>\n",
       "      <td>2020-11-22 23:45:00</td>\n",
       "    </tr>\n",
       "    <tr>\n",
       "      <th>18956053</th>\n",
       "      <td>32417</td>\n",
       "      <td>Queens</td>\n",
       "      <td>6</td>\n",
       "      <td>145416</td>\n",
       "      <td>POINT (1046510.2750956557 205583.03286028266)</td>\n",
       "      <td>UNION TURNPIKE</td>\n",
       "      <td>Dead End</td>\n",
       "      <td>Dead end</td>\n",
       "      <td>EB</td>\n",
       "      <td>2020-11-22 23:45:00</td>\n",
       "    </tr>\n",
       "    <tr>\n",
       "      <th>9171262</th>\n",
       "      <td>32417</td>\n",
       "      <td>Queens</td>\n",
       "      <td>5</td>\n",
       "      <td>101855</td>\n",
       "      <td>POINT (1057510.6819890984 218109.6099654521)</td>\n",
       "      <td>MARATHON PARKWAY</td>\n",
       "      <td>Rushmore Avenue</td>\n",
       "      <td>Morenci Lane</td>\n",
       "      <td>SB</td>\n",
       "      <td>2020-11-22 23:45:00</td>\n",
       "    </tr>\n",
       "    <tr>\n",
       "      <th>9435689</th>\n",
       "      <td>32417</td>\n",
       "      <td>Queens</td>\n",
       "      <td>22</td>\n",
       "      <td>67871</td>\n",
       "      <td>POINT (1006028.3778241775 214729.5064342989)</td>\n",
       "      <td>STEINWAY STREET</td>\n",
       "      <td>34 Avenue</td>\n",
       "      <td>35 Avenue</td>\n",
       "      <td>NB</td>\n",
       "      <td>2020-11-22 23:45:00</td>\n",
       "    </tr>\n",
       "    <tr>\n",
       "      <th>16653390</th>\n",
       "      <td>32417</td>\n",
       "      <td>Queens</td>\n",
       "      <td>38</td>\n",
       "      <td>178893</td>\n",
       "      <td>POINT (1034371.243317126 200612.49457847848)</td>\n",
       "      <td>UNION TURNPIKE</td>\n",
       "      <td>141 Street</td>\n",
       "      <td>Dead end</td>\n",
       "      <td>EB</td>\n",
       "      <td>2020-11-22 23:45:00</td>\n",
       "    </tr>\n",
       "    <tr>\n",
       "      <th>27115101</th>\n",
       "      <td>32417</td>\n",
       "      <td>Queens</td>\n",
       "      <td>23</td>\n",
       "      <td>178889</td>\n",
       "      <td>POINT (1034348.7585503203 200676.7490561917)</td>\n",
       "      <td>UNION TURNPIKE</td>\n",
       "      <td>141 Street</td>\n",
       "      <td>Dead end</td>\n",
       "      <td>WB</td>\n",
       "      <td>2020-11-22 23:45:00</td>\n",
       "    </tr>\n",
       "    <tr>\n",
       "      <th>10717113</th>\n",
       "      <td>32417</td>\n",
       "      <td>Queens</td>\n",
       "      <td>19</td>\n",
       "      <td>84009</td>\n",
       "      <td>POINT (1027402.9568063112 215228.7145599255)</td>\n",
       "      <td>126 STREET</td>\n",
       "      <td>37 Avenue</td>\n",
       "      <td>38 Avenue</td>\n",
       "      <td>SB</td>\n",
       "      <td>2020-11-22 23:45:00</td>\n",
       "    </tr>\n",
       "    <tr>\n",
       "      <th>9605807</th>\n",
       "      <td>32417</td>\n",
       "      <td>Queens</td>\n",
       "      <td>5</td>\n",
       "      <td>106891</td>\n",
       "      <td>POINT (1008343.8792898405 212113.17121690518)</td>\n",
       "      <td>39 AVENUE</td>\n",
       "      <td>Dead End</td>\n",
       "      <td>51 Street</td>\n",
       "      <td>EB</td>\n",
       "      <td>2020-11-22 23:45:00</td>\n",
       "    </tr>\n",
       "  </tbody>\n",
       "</table>\n",
       "</div>"
      ],
      "text/plain": [
       "          RequestID    Boro  Vol  SegmentID  \\\n",
       "25543663      32417  Queens   20      67665   \n",
       "20968423      32417  Queens    3     101621   \n",
       "6368254       32417  Queens   27     148877   \n",
       "7417214       32417  Queens   22     155846   \n",
       "18926986      32417  Queens    5      76510   \n",
       "13407547      32417  Queens   60     155773   \n",
       "7423333       32417  Queens    8      75313   \n",
       "18674125      32417  Queens   33      45497   \n",
       "18956053      32417  Queens    6     145416   \n",
       "9171262       32417  Queens    5     101855   \n",
       "9435689       32417  Queens   22      67871   \n",
       "16653390      32417  Queens   38     178893   \n",
       "27115101      32417  Queens   23     178889   \n",
       "10717113      32417  Queens   19      84009   \n",
       "9605807       32417  Queens    5     106891   \n",
       "\n",
       "                                                WktGeom               street  \\\n",
       "25543663  POINT (1004228.4823799994 215767.68782613552)            31 STREET   \n",
       "20968423   POINT (1055667.922729934 216597.78334720692)   DOUGLASTON PARKWAY   \n",
       "6368254   POINT (1015917.5752772316 218664.23589469263)            23 AVENUE   \n",
       "7417214   POINT (1050166.9282559236 199291.28045636677)       JAMAICA AVENUE   \n",
       "18926986  POINT (1017222.1345317845 216101.64900761063)            31 AVENUE   \n",
       "13407547   POINT (1027092.2981505651 190399.9018293268)      ATLANTIC AVENUE   \n",
       "7423333     POINT (1019421.0343045937 208800.348152701)            51 AVENUE   \n",
       "18674125  POINT (1009925.0151697205 199046.51050050836)  METROPOLITAN AVENUE   \n",
       "18956053  POINT (1046510.2750956557 205583.03286028266)       UNION TURNPIKE   \n",
       "9171262    POINT (1057510.6819890984 218109.6099654521)     MARATHON PARKWAY   \n",
       "9435689    POINT (1006028.3778241775 214729.5064342989)      STEINWAY STREET   \n",
       "16653390   POINT (1034371.243317126 200612.49457847848)       UNION TURNPIKE   \n",
       "27115101   POINT (1034348.7585503203 200676.7490561917)       UNION TURNPIKE   \n",
       "10717113   POINT (1027402.9568063112 215228.7145599255)           126 STREET   \n",
       "9605807   POINT (1008343.8792898405 212113.17121690518)            39 AVENUE   \n",
       "\n",
       "                   fromSt              toSt Direction           date_time  \n",
       "25543663        34 Avenue         35 Avenue        SB 2020-11-22 23:45:00  \n",
       "20968423    Maryland Road  Van Zandt Avenue        SB 2020-11-22 23:45:00  \n",
       "6368254          Dead End         85 Street        WB 2020-11-22 23:45:00  \n",
       "7417214        197 Street        198 Street        WB 2020-11-22 23:45:00  \n",
       "18926986        87 Street         88 Street        WB 2020-11-22 23:45:00  \n",
       "13407547        97 Street         98 Street        WB 2020-11-22 23:45:00  \n",
       "7423333         90 Street         92 Street        EB 2020-11-22 23:45:00  \n",
       "18674125        55 Street         56 Street        WB 2020-11-22 23:45:00  \n",
       "18956053         Dead End          Dead end        EB 2020-11-22 23:45:00  \n",
       "9171262   Rushmore Avenue      Morenci Lane        SB 2020-11-22 23:45:00  \n",
       "9435689         34 Avenue         35 Avenue        NB 2020-11-22 23:45:00  \n",
       "16653390       141 Street          Dead end        EB 2020-11-22 23:45:00  \n",
       "27115101       141 Street          Dead end        WB 2020-11-22 23:45:00  \n",
       "10717113        37 Avenue         38 Avenue        SB 2020-11-22 23:45:00  \n",
       "9605807          Dead End         51 Street        EB 2020-11-22 23:45:00  "
      ]
     },
     "execution_count": 34,
     "metadata": {},
     "output_type": "execute_result"
    }
   ],
   "source": [
    "traffic_volume.sort_values([\"date_time\"], \n",
    "                    axis=0,\n",
    "                    ascending=[False], \n",
    "                    inplace=True);\n",
    "traffic_volume.head(15)"
   ]
  },
  {
   "cell_type": "code",
   "execution_count": 35,
   "metadata": {},
   "outputs": [],
   "source": [
    "traffic_vol_daily = traffic_volume.groupby(['Boro', traffic_volume['date_time'].dt.date])['Vol'].mean().reset_index()\n",
    "traffic_vol_daily.columns = traffic_vol_daily.columns.str.lower()\n",
    "traffic_vol_daily.rename(columns={'date_time':'date'}, inplace=True)"
   ]
  },
  {
   "cell_type": "code",
   "execution_count": 36,
   "metadata": {},
   "outputs": [
    {
     "name": "stdout",
     "output_type": "stream",
     "text": [
      "<class 'pandas.core.frame.DataFrame'>\n",
      "RangeIndex: 12737 entries, 0 to 12736\n",
      "Data columns (total 3 columns):\n",
      " #   Column  Non-Null Count  Dtype  \n",
      "---  ------  --------------  -----  \n",
      " 0   boro    12737 non-null  object \n",
      " 1   date    12737 non-null  object \n",
      " 2   vol     12737 non-null  float64\n",
      "dtypes: float64(1), object(2)\n",
      "memory usage: 298.6+ KB\n"
     ]
    }
   ],
   "source": [
    "traffic_vol_daily.info()"
   ]
  },
  {
   "cell_type": "code",
   "execution_count": 37,
   "metadata": {
    "tags": []
   },
   "outputs": [
    {
     "name": "stdout",
     "output_type": "stream",
     "text": [
      "2306\n"
     ]
    },
    {
     "data": {
      "text/html": [
       "<div>\n",
       "<style scoped>\n",
       "    .dataframe tbody tr th:only-of-type {\n",
       "        vertical-align: middle;\n",
       "    }\n",
       "\n",
       "    .dataframe tbody tr th {\n",
       "        vertical-align: top;\n",
       "    }\n",
       "\n",
       "    .dataframe thead th {\n",
       "        text-align: right;\n",
       "    }\n",
       "</style>\n",
       "<table border=\"1\" class=\"dataframe\">\n",
       "  <thead>\n",
       "    <tr style=\"text-align: right;\">\n",
       "      <th></th>\n",
       "      <th>boro</th>\n",
       "      <th>date</th>\n",
       "      <th>vol</th>\n",
       "    </tr>\n",
       "  </thead>\n",
       "  <tbody>\n",
       "    <tr>\n",
       "      <th>0</th>\n",
       "      <td>Bronx</td>\n",
       "      <td>2009-01-20</td>\n",
       "      <td>55.559748</td>\n",
       "    </tr>\n",
       "    <tr>\n",
       "      <th>1</th>\n",
       "      <td>Bronx</td>\n",
       "      <td>2009-01-21</td>\n",
       "      <td>42.722222</td>\n",
       "    </tr>\n",
       "    <tr>\n",
       "      <th>2</th>\n",
       "      <td>Bronx</td>\n",
       "      <td>2009-01-22</td>\n",
       "      <td>45.707224</td>\n",
       "    </tr>\n",
       "    <tr>\n",
       "      <th>3</th>\n",
       "      <td>Bronx</td>\n",
       "      <td>2009-01-23</td>\n",
       "      <td>49.243056</td>\n",
       "    </tr>\n",
       "    <tr>\n",
       "      <th>4</th>\n",
       "      <td>Bronx</td>\n",
       "      <td>2009-01-24</td>\n",
       "      <td>33.958333</td>\n",
       "    </tr>\n",
       "    <tr>\n",
       "      <th>5</th>\n",
       "      <td>Bronx</td>\n",
       "      <td>2009-01-25</td>\n",
       "      <td>25.475694</td>\n",
       "    </tr>\n",
       "    <tr>\n",
       "      <th>6</th>\n",
       "      <td>Bronx</td>\n",
       "      <td>2009-01-26</td>\n",
       "      <td>2.755556</td>\n",
       "    </tr>\n",
       "    <tr>\n",
       "      <th>7</th>\n",
       "      <td>Bronx</td>\n",
       "      <td>2009-02-21</td>\n",
       "      <td>57.924731</td>\n",
       "    </tr>\n",
       "    <tr>\n",
       "      <th>8</th>\n",
       "      <td>Bronx</td>\n",
       "      <td>2009-02-22</td>\n",
       "      <td>32.234375</td>\n",
       "    </tr>\n",
       "    <tr>\n",
       "      <th>9</th>\n",
       "      <td>Bronx</td>\n",
       "      <td>2009-02-23</td>\n",
       "      <td>42.192708</td>\n",
       "    </tr>\n",
       "  </tbody>\n",
       "</table>\n",
       "</div>"
      ],
      "text/plain": [
       "    boro        date        vol\n",
       "0  Bronx  2009-01-20  55.559748\n",
       "1  Bronx  2009-01-21  42.722222\n",
       "2  Bronx  2009-01-22  45.707224\n",
       "3  Bronx  2009-01-23  49.243056\n",
       "4  Bronx  2009-01-24  33.958333\n",
       "5  Bronx  2009-01-25  25.475694\n",
       "6  Bronx  2009-01-26   2.755556\n",
       "7  Bronx  2009-02-21  57.924731\n",
       "8  Bronx  2009-02-22  32.234375\n",
       "9  Bronx  2009-02-23  42.192708"
      ]
     },
     "execution_count": 37,
     "metadata": {},
     "output_type": "execute_result"
    }
   ],
   "source": [
    "print(len(traffic_vol_daily[traffic_vol_daily['boro'] == 'Bronx']))\n",
    "traffic_vol_daily[traffic_vol_daily['boro'] == 'Bronx'].head(10)"
   ]
  },
  {
   "cell_type": "code",
   "execution_count": 38,
   "metadata": {
    "tags": []
   },
   "outputs": [
    {
     "name": "stdout",
     "output_type": "stream",
     "text": [
      "3098\n"
     ]
    },
    {
     "data": {
      "text/html": [
       "<div>\n",
       "<style scoped>\n",
       "    .dataframe tbody tr th:only-of-type {\n",
       "        vertical-align: middle;\n",
       "    }\n",
       "\n",
       "    .dataframe tbody tr th {\n",
       "        vertical-align: top;\n",
       "    }\n",
       "\n",
       "    .dataframe thead th {\n",
       "        text-align: right;\n",
       "    }\n",
       "</style>\n",
       "<table border=\"1\" class=\"dataframe\">\n",
       "  <thead>\n",
       "    <tr style=\"text-align: right;\">\n",
       "      <th></th>\n",
       "      <th>boro</th>\n",
       "      <th>date</th>\n",
       "      <th>vol</th>\n",
       "    </tr>\n",
       "  </thead>\n",
       "  <tbody>\n",
       "    <tr>\n",
       "      <th>7970</th>\n",
       "      <td>Queens</td>\n",
       "      <td>2009-01-12</td>\n",
       "      <td>13.409091</td>\n",
       "    </tr>\n",
       "    <tr>\n",
       "      <th>7971</th>\n",
       "      <td>Queens</td>\n",
       "      <td>2009-01-13</td>\n",
       "      <td>89.291498</td>\n",
       "    </tr>\n",
       "    <tr>\n",
       "      <th>7972</th>\n",
       "      <td>Queens</td>\n",
       "      <td>2009-01-14</td>\n",
       "      <td>66.995444</td>\n",
       "    </tr>\n",
       "    <tr>\n",
       "      <th>7973</th>\n",
       "      <td>Queens</td>\n",
       "      <td>2009-01-15</td>\n",
       "      <td>64.712500</td>\n",
       "    </tr>\n",
       "    <tr>\n",
       "      <th>7974</th>\n",
       "      <td>Queens</td>\n",
       "      <td>2009-01-16</td>\n",
       "      <td>87.118483</td>\n",
       "    </tr>\n",
       "    <tr>\n",
       "      <th>7975</th>\n",
       "      <td>Queens</td>\n",
       "      <td>2009-01-17</td>\n",
       "      <td>8.885057</td>\n",
       "    </tr>\n",
       "    <tr>\n",
       "      <th>7976</th>\n",
       "      <td>Queens</td>\n",
       "      <td>2009-02-09</td>\n",
       "      <td>34.076517</td>\n",
       "    </tr>\n",
       "    <tr>\n",
       "      <th>7977</th>\n",
       "      <td>Queens</td>\n",
       "      <td>2009-02-10</td>\n",
       "      <td>24.819940</td>\n",
       "    </tr>\n",
       "    <tr>\n",
       "      <th>7978</th>\n",
       "      <td>Queens</td>\n",
       "      <td>2009-02-11</td>\n",
       "      <td>25.796131</td>\n",
       "    </tr>\n",
       "    <tr>\n",
       "      <th>7979</th>\n",
       "      <td>Queens</td>\n",
       "      <td>2009-02-12</td>\n",
       "      <td>26.970238</td>\n",
       "    </tr>\n",
       "  </tbody>\n",
       "</table>\n",
       "</div>"
      ],
      "text/plain": [
       "        boro        date        vol\n",
       "7970  Queens  2009-01-12  13.409091\n",
       "7971  Queens  2009-01-13  89.291498\n",
       "7972  Queens  2009-01-14  66.995444\n",
       "7973  Queens  2009-01-15  64.712500\n",
       "7974  Queens  2009-01-16  87.118483\n",
       "7975  Queens  2009-01-17   8.885057\n",
       "7976  Queens  2009-02-09  34.076517\n",
       "7977  Queens  2009-02-10  24.819940\n",
       "7978  Queens  2009-02-11  25.796131\n",
       "7979  Queens  2009-02-12  26.970238"
      ]
     },
     "execution_count": 38,
     "metadata": {},
     "output_type": "execute_result"
    }
   ],
   "source": [
    "print(len(traffic_vol_daily[traffic_vol_daily['boro'] == 'Queens']))\n",
    "traffic_vol_daily[traffic_vol_daily['boro'] == 'Queens'].head(10)"
   ]
  },
  {
   "cell_type": "code",
   "execution_count": 39,
   "metadata": {
    "tags": []
   },
   "outputs": [
    {
     "name": "stdout",
     "output_type": "stream",
     "text": [
      "3143\n"
     ]
    },
    {
     "data": {
      "text/html": [
       "<div>\n",
       "<style scoped>\n",
       "    .dataframe tbody tr th:only-of-type {\n",
       "        vertical-align: middle;\n",
       "    }\n",
       "\n",
       "    .dataframe tbody tr th {\n",
       "        vertical-align: top;\n",
       "    }\n",
       "\n",
       "    .dataframe thead th {\n",
       "        text-align: right;\n",
       "    }\n",
       "</style>\n",
       "<table border=\"1\" class=\"dataframe\">\n",
       "  <thead>\n",
       "    <tr style=\"text-align: right;\">\n",
       "      <th></th>\n",
       "      <th>boro</th>\n",
       "      <th>date</th>\n",
       "      <th>vol</th>\n",
       "    </tr>\n",
       "  </thead>\n",
       "  <tbody>\n",
       "    <tr>\n",
       "      <th>2306</th>\n",
       "      <td>Brooklyn</td>\n",
       "      <td>2009-01-12</td>\n",
       "      <td>40.478992</td>\n",
       "    </tr>\n",
       "    <tr>\n",
       "      <th>2307</th>\n",
       "      <td>Brooklyn</td>\n",
       "      <td>2009-01-13</td>\n",
       "      <td>33.807292</td>\n",
       "    </tr>\n",
       "    <tr>\n",
       "      <th>2308</th>\n",
       "      <td>Brooklyn</td>\n",
       "      <td>2009-01-14</td>\n",
       "      <td>18.541667</td>\n",
       "    </tr>\n",
       "    <tr>\n",
       "      <th>2309</th>\n",
       "      <td>Brooklyn</td>\n",
       "      <td>2009-01-15</td>\n",
       "      <td>12.307292</td>\n",
       "    </tr>\n",
       "    <tr>\n",
       "      <th>2310</th>\n",
       "      <td>Brooklyn</td>\n",
       "      <td>2009-01-16</td>\n",
       "      <td>34.046875</td>\n",
       "    </tr>\n",
       "    <tr>\n",
       "      <th>2311</th>\n",
       "      <td>Brooklyn</td>\n",
       "      <td>2009-01-17</td>\n",
       "      <td>29.776042</td>\n",
       "    </tr>\n",
       "    <tr>\n",
       "      <th>2312</th>\n",
       "      <td>Brooklyn</td>\n",
       "      <td>2009-01-18</td>\n",
       "      <td>22.140625</td>\n",
       "    </tr>\n",
       "    <tr>\n",
       "      <th>2313</th>\n",
       "      <td>Brooklyn</td>\n",
       "      <td>2009-01-19</td>\n",
       "      <td>17.057292</td>\n",
       "    </tr>\n",
       "    <tr>\n",
       "      <th>2314</th>\n",
       "      <td>Brooklyn</td>\n",
       "      <td>2009-01-20</td>\n",
       "      <td>34.370052</td>\n",
       "    </tr>\n",
       "    <tr>\n",
       "      <th>2315</th>\n",
       "      <td>Brooklyn</td>\n",
       "      <td>2009-01-21</td>\n",
       "      <td>55.906667</td>\n",
       "    </tr>\n",
       "  </tbody>\n",
       "</table>\n",
       "</div>"
      ],
      "text/plain": [
       "          boro        date        vol\n",
       "2306  Brooklyn  2009-01-12  40.478992\n",
       "2307  Brooklyn  2009-01-13  33.807292\n",
       "2308  Brooklyn  2009-01-14  18.541667\n",
       "2309  Brooklyn  2009-01-15  12.307292\n",
       "2310  Brooklyn  2009-01-16  34.046875\n",
       "2311  Brooklyn  2009-01-17  29.776042\n",
       "2312  Brooklyn  2009-01-18  22.140625\n",
       "2313  Brooklyn  2009-01-19  17.057292\n",
       "2314  Brooklyn  2009-01-20  34.370052\n",
       "2315  Brooklyn  2009-01-21  55.906667"
      ]
     },
     "execution_count": 39,
     "metadata": {},
     "output_type": "execute_result"
    }
   ],
   "source": [
    "print(traffic_vol_daily[traffic_vol_daily['boro'] == 'Brooklyn'].shape[0])\n",
    "traffic_vol_daily[traffic_vol_daily['boro'] == 'Brooklyn'].head(10)"
   ]
  },
  {
   "cell_type": "code",
   "execution_count": 40,
   "metadata": {
    "tags": []
   },
   "outputs": [
    {
     "name": "stdout",
     "output_type": "stream",
     "text": [
      "2521\n"
     ]
    },
    {
     "data": {
      "text/html": [
       "<div>\n",
       "<style scoped>\n",
       "    .dataframe tbody tr th:only-of-type {\n",
       "        vertical-align: middle;\n",
       "    }\n",
       "\n",
       "    .dataframe tbody tr th {\n",
       "        vertical-align: top;\n",
       "    }\n",
       "\n",
       "    .dataframe thead th {\n",
       "        text-align: right;\n",
       "    }\n",
       "</style>\n",
       "<table border=\"1\" class=\"dataframe\">\n",
       "  <thead>\n",
       "    <tr style=\"text-align: right;\">\n",
       "      <th></th>\n",
       "      <th>boro</th>\n",
       "      <th>date</th>\n",
       "      <th>vol</th>\n",
       "    </tr>\n",
       "  </thead>\n",
       "  <tbody>\n",
       "    <tr>\n",
       "      <th>5449</th>\n",
       "      <td>Manhattan</td>\n",
       "      <td>2009-01-08</td>\n",
       "      <td>54.047619</td>\n",
       "    </tr>\n",
       "    <tr>\n",
       "      <th>5450</th>\n",
       "      <td>Manhattan</td>\n",
       "      <td>2009-01-09</td>\n",
       "      <td>88.436326</td>\n",
       "    </tr>\n",
       "    <tr>\n",
       "      <th>5451</th>\n",
       "      <td>Manhattan</td>\n",
       "      <td>2009-01-10</td>\n",
       "      <td>70.918750</td>\n",
       "    </tr>\n",
       "    <tr>\n",
       "      <th>5452</th>\n",
       "      <td>Manhattan</td>\n",
       "      <td>2009-01-11</td>\n",
       "      <td>59.256250</td>\n",
       "    </tr>\n",
       "    <tr>\n",
       "      <th>5453</th>\n",
       "      <td>Manhattan</td>\n",
       "      <td>2009-01-12</td>\n",
       "      <td>71.082038</td>\n",
       "    </tr>\n",
       "    <tr>\n",
       "      <th>5454</th>\n",
       "      <td>Manhattan</td>\n",
       "      <td>2009-01-13</td>\n",
       "      <td>65.396577</td>\n",
       "    </tr>\n",
       "    <tr>\n",
       "      <th>5455</th>\n",
       "      <td>Manhattan</td>\n",
       "      <td>2009-01-14</td>\n",
       "      <td>69.708333</td>\n",
       "    </tr>\n",
       "    <tr>\n",
       "      <th>5456</th>\n",
       "      <td>Manhattan</td>\n",
       "      <td>2009-01-15</td>\n",
       "      <td>69.952381</td>\n",
       "    </tr>\n",
       "    <tr>\n",
       "      <th>5457</th>\n",
       "      <td>Manhattan</td>\n",
       "      <td>2009-01-16</td>\n",
       "      <td>79.558780</td>\n",
       "    </tr>\n",
       "    <tr>\n",
       "      <th>5458</th>\n",
       "      <td>Manhattan</td>\n",
       "      <td>2009-01-17</td>\n",
       "      <td>71.813244</td>\n",
       "    </tr>\n",
       "  </tbody>\n",
       "</table>\n",
       "</div>"
      ],
      "text/plain": [
       "           boro        date        vol\n",
       "5449  Manhattan  2009-01-08  54.047619\n",
       "5450  Manhattan  2009-01-09  88.436326\n",
       "5451  Manhattan  2009-01-10  70.918750\n",
       "5452  Manhattan  2009-01-11  59.256250\n",
       "5453  Manhattan  2009-01-12  71.082038\n",
       "5454  Manhattan  2009-01-13  65.396577\n",
       "5455  Manhattan  2009-01-14  69.708333\n",
       "5456  Manhattan  2009-01-15  69.952381\n",
       "5457  Manhattan  2009-01-16  79.558780\n",
       "5458  Manhattan  2009-01-17  71.813244"
      ]
     },
     "execution_count": 40,
     "metadata": {},
     "output_type": "execute_result"
    }
   ],
   "source": [
    "print(traffic_vol_daily[traffic_vol_daily['boro'] == 'Manhattan'].shape[0])\n",
    "traffic_vol_daily[traffic_vol_daily['boro'] == 'Manhattan'].head(10)"
   ]
  },
  {
   "cell_type": "code",
   "execution_count": 41,
   "metadata": {
    "tags": []
   },
   "outputs": [
    {
     "name": "stdout",
     "output_type": "stream",
     "text": [
      "1669\n"
     ]
    },
    {
     "data": {
      "text/html": [
       "<div>\n",
       "<style scoped>\n",
       "    .dataframe tbody tr th:only-of-type {\n",
       "        vertical-align: middle;\n",
       "    }\n",
       "\n",
       "    .dataframe tbody tr th {\n",
       "        vertical-align: top;\n",
       "    }\n",
       "\n",
       "    .dataframe thead th {\n",
       "        text-align: right;\n",
       "    }\n",
       "</style>\n",
       "<table border=\"1\" class=\"dataframe\">\n",
       "  <thead>\n",
       "    <tr style=\"text-align: right;\">\n",
       "      <th></th>\n",
       "      <th>boro</th>\n",
       "      <th>date</th>\n",
       "      <th>vol</th>\n",
       "    </tr>\n",
       "  </thead>\n",
       "  <tbody>\n",
       "    <tr>\n",
       "      <th>11068</th>\n",
       "      <td>Staten Island</td>\n",
       "      <td>2009-02-06</td>\n",
       "      <td>73.077844</td>\n",
       "    </tr>\n",
       "    <tr>\n",
       "      <th>11069</th>\n",
       "      <td>Staten Island</td>\n",
       "      <td>2009-02-07</td>\n",
       "      <td>46.930556</td>\n",
       "    </tr>\n",
       "    <tr>\n",
       "      <th>11070</th>\n",
       "      <td>Staten Island</td>\n",
       "      <td>2009-02-08</td>\n",
       "      <td>38.333333</td>\n",
       "    </tr>\n",
       "    <tr>\n",
       "      <th>11071</th>\n",
       "      <td>Staten Island</td>\n",
       "      <td>2009-02-09</td>\n",
       "      <td>42.625000</td>\n",
       "    </tr>\n",
       "    <tr>\n",
       "      <th>11072</th>\n",
       "      <td>Staten Island</td>\n",
       "      <td>2009-02-10</td>\n",
       "      <td>30.187500</td>\n",
       "    </tr>\n",
       "    <tr>\n",
       "      <th>11073</th>\n",
       "      <td>Staten Island</td>\n",
       "      <td>2009-02-11</td>\n",
       "      <td>40.204861</td>\n",
       "    </tr>\n",
       "    <tr>\n",
       "      <th>11074</th>\n",
       "      <td>Staten Island</td>\n",
       "      <td>2009-02-12</td>\n",
       "      <td>24.638889</td>\n",
       "    </tr>\n",
       "    <tr>\n",
       "      <th>11075</th>\n",
       "      <td>Staten Island</td>\n",
       "      <td>2009-02-13</td>\n",
       "      <td>5.555556</td>\n",
       "    </tr>\n",
       "    <tr>\n",
       "      <th>11076</th>\n",
       "      <td>Staten Island</td>\n",
       "      <td>2009-02-14</td>\n",
       "      <td>3.614583</td>\n",
       "    </tr>\n",
       "    <tr>\n",
       "      <th>11077</th>\n",
       "      <td>Staten Island</td>\n",
       "      <td>2009-02-15</td>\n",
       "      <td>2.788194</td>\n",
       "    </tr>\n",
       "  </tbody>\n",
       "</table>\n",
       "</div>"
      ],
      "text/plain": [
       "                boro        date        vol\n",
       "11068  Staten Island  2009-02-06  73.077844\n",
       "11069  Staten Island  2009-02-07  46.930556\n",
       "11070  Staten Island  2009-02-08  38.333333\n",
       "11071  Staten Island  2009-02-09  42.625000\n",
       "11072  Staten Island  2009-02-10  30.187500\n",
       "11073  Staten Island  2009-02-11  40.204861\n",
       "11074  Staten Island  2009-02-12  24.638889\n",
       "11075  Staten Island  2009-02-13   5.555556\n",
       "11076  Staten Island  2009-02-14   3.614583\n",
       "11077  Staten Island  2009-02-15   2.788194"
      ]
     },
     "execution_count": 41,
     "metadata": {},
     "output_type": "execute_result"
    }
   ],
   "source": [
    "print(traffic_vol_daily[traffic_vol_daily['boro'] == 'Staten Island'].shape[0])\n",
    "traffic_vol_daily[traffic_vol_daily['boro'] == 'Staten Island'].head(10)"
   ]
  },
  {
   "cell_type": "markdown",
   "metadata": {
    "jp-MarkdownHeadingCollapsed": true,
    "tags": []
   },
   "source": [
    "## EPA data"
   ]
  },
  {
   "cell_type": "code",
   "execution_count": 42,
   "metadata": {},
   "outputs": [],
   "source": [
    "#daily_air_quality_df = pd.DataFrame(daily_air_quality_list)"
   ]
  },
  {
   "cell_type": "code",
   "execution_count": 43,
   "metadata": {},
   "outputs": [],
   "source": [
    "#daily_air_quality_df.to_csv('datasets/daily_air_quality.csv')"
   ]
  },
  {
   "cell_type": "code",
   "execution_count": 44,
   "metadata": {},
   "outputs": [],
   "source": [
    "daily_air_quality_df = daily_air_quality"
   ]
  },
  {
   "cell_type": "code",
   "execution_count": 45,
   "metadata": {},
   "outputs": [
    {
     "name": "stdout",
     "output_type": "stream",
     "text": [
      "<class 'pandas.core.frame.DataFrame'>\n",
      "RangeIndex: 127061 entries, 0 to 127060\n",
      "Data columns (total 33 columns):\n",
      " #   Column                Non-Null Count   Dtype  \n",
      "---  ------                --------------   -----  \n",
      " 0   Unnamed: 0            127061 non-null  int64  \n",
      " 1   state_code            127061 non-null  int64  \n",
      " 2   county_code           127061 non-null  int64  \n",
      " 3   site_number           127061 non-null  int64  \n",
      " 4   parameter_code        127061 non-null  int64  \n",
      " 5   poc                   127061 non-null  int64  \n",
      " 6   latitude              127061 non-null  float64\n",
      " 7   longitude             127061 non-null  float64\n",
      " 8   datum                 127061 non-null  object \n",
      " 9   parameter             127061 non-null  object \n",
      " 10  sample_duration_code  127061 non-null  object \n",
      " 11  sample_duration       127061 non-null  object \n",
      " 12  pollutant_standard    122376 non-null  object \n",
      " 13  date_local            127061 non-null  object \n",
      " 14  units_of_measure      127061 non-null  object \n",
      " 15  event_type            127061 non-null  object \n",
      " 16  observation_count     127061 non-null  int64  \n",
      " 17  observation_percent   127061 non-null  float64\n",
      " 18  validity_indicator    127061 non-null  object \n",
      " 19  arithmetic_mean       127061 non-null  float64\n",
      " 20  first_max_value       127061 non-null  float64\n",
      " 21  first_max_hour        127061 non-null  int64  \n",
      " 22  aqi                   122376 non-null  float64\n",
      " 23  method_code           127061 non-null  int64  \n",
      " 24  method                127061 non-null  object \n",
      " 25  local_site_name       127061 non-null  object \n",
      " 26  site_address          127061 non-null  object \n",
      " 27  state                 127061 non-null  object \n",
      " 28  county                127061 non-null  object \n",
      " 29  city                  127061 non-null  object \n",
      " 30  cbsa_code             127061 non-null  int64  \n",
      " 31  cbsa                  127061 non-null  object \n",
      " 32  date_of_last_change   127061 non-null  object \n",
      "dtypes: float64(6), int64(10), object(17)\n",
      "memory usage: 32.0+ MB\n",
      "None\n"
     ]
    }
   ],
   "source": [
    "print(daily_air_quality_df.info())"
   ]
  },
  {
   "cell_type": "code",
   "execution_count": 46,
   "metadata": {},
   "outputs": [
    {
     "data": {
      "text/html": [
       "<div>\n",
       "<style scoped>\n",
       "    .dataframe tbody tr th:only-of-type {\n",
       "        vertical-align: middle;\n",
       "    }\n",
       "\n",
       "    .dataframe tbody tr th {\n",
       "        vertical-align: top;\n",
       "    }\n",
       "\n",
       "    .dataframe thead th {\n",
       "        text-align: right;\n",
       "    }\n",
       "</style>\n",
       "<table border=\"1\" class=\"dataframe\">\n",
       "  <thead>\n",
       "    <tr style=\"text-align: right;\">\n",
       "      <th></th>\n",
       "      <th>103123</th>\n",
       "      <th>29980</th>\n",
       "      <th>29939</th>\n",
       "      <th>15251</th>\n",
       "      <th>121103</th>\n",
       "    </tr>\n",
       "  </thead>\n",
       "  <tbody>\n",
       "    <tr>\n",
       "      <th>Unnamed: 0</th>\n",
       "      <td>103123</td>\n",
       "      <td>29980</td>\n",
       "      <td>29939</td>\n",
       "      <td>15251</td>\n",
       "      <td>121103</td>\n",
       "    </tr>\n",
       "    <tr>\n",
       "      <th>state_code</th>\n",
       "      <td>36</td>\n",
       "      <td>36</td>\n",
       "      <td>36</td>\n",
       "      <td>36</td>\n",
       "      <td>36</td>\n",
       "    </tr>\n",
       "    <tr>\n",
       "      <th>county_code</th>\n",
       "      <td>81</td>\n",
       "      <td>5</td>\n",
       "      <td>5</td>\n",
       "      <td>61</td>\n",
       "      <td>5</td>\n",
       "    </tr>\n",
       "    <tr>\n",
       "      <th>site_number</th>\n",
       "      <td>124</td>\n",
       "      <td>133</td>\n",
       "      <td>133</td>\n",
       "      <td>134</td>\n",
       "      <td>133</td>\n",
       "    </tr>\n",
       "    <tr>\n",
       "      <th>parameter_code</th>\n",
       "      <td>88101</td>\n",
       "      <td>88101</td>\n",
       "      <td>88101</td>\n",
       "      <td>88101</td>\n",
       "      <td>88101</td>\n",
       "    </tr>\n",
       "    <tr>\n",
       "      <th>poc</th>\n",
       "      <td>1</td>\n",
       "      <td>1</td>\n",
       "      <td>1</td>\n",
       "      <td>1</td>\n",
       "      <td>1</td>\n",
       "    </tr>\n",
       "    <tr>\n",
       "      <th>latitude</th>\n",
       "      <td>40.7361</td>\n",
       "      <td>40.8679</td>\n",
       "      <td>40.8679</td>\n",
       "      <td>40.7144</td>\n",
       "      <td>40.8679</td>\n",
       "    </tr>\n",
       "    <tr>\n",
       "      <th>longitude</th>\n",
       "      <td>-73.8215</td>\n",
       "      <td>-73.8781</td>\n",
       "      <td>-73.8781</td>\n",
       "      <td>-73.9952</td>\n",
       "      <td>-73.8781</td>\n",
       "    </tr>\n",
       "    <tr>\n",
       "      <th>datum</th>\n",
       "      <td>WGS84</td>\n",
       "      <td>WGS84</td>\n",
       "      <td>WGS84</td>\n",
       "      <td>WGS84</td>\n",
       "      <td>WGS84</td>\n",
       "    </tr>\n",
       "    <tr>\n",
       "      <th>parameter</th>\n",
       "      <td>PM2.5 - Local Conditions</td>\n",
       "      <td>PM2.5 - Local Conditions</td>\n",
       "      <td>PM2.5 - Local Conditions</td>\n",
       "      <td>PM2.5 - Local Conditions</td>\n",
       "      <td>PM2.5 - Local Conditions</td>\n",
       "    </tr>\n",
       "    <tr>\n",
       "      <th>sample_duration_code</th>\n",
       "      <td>7</td>\n",
       "      <td>7</td>\n",
       "      <td>7</td>\n",
       "      <td>7</td>\n",
       "      <td>7</td>\n",
       "    </tr>\n",
       "    <tr>\n",
       "      <th>sample_duration</th>\n",
       "      <td>24 HOUR</td>\n",
       "      <td>24 HOUR</td>\n",
       "      <td>24 HOUR</td>\n",
       "      <td>24 HOUR</td>\n",
       "      <td>24 HOUR</td>\n",
       "    </tr>\n",
       "    <tr>\n",
       "      <th>pollutant_standard</th>\n",
       "      <td>PM25 Annual 1997</td>\n",
       "      <td>PM25 Annual 2006</td>\n",
       "      <td>PM25 24-hour 2006</td>\n",
       "      <td>PM25 24-hour 2006</td>\n",
       "      <td>PM25 24-hour 1997</td>\n",
       "    </tr>\n",
       "    <tr>\n",
       "      <th>date_local</th>\n",
       "      <td>2018-09-20</td>\n",
       "      <td>2012-03-28</td>\n",
       "      <td>2012-04-18</td>\n",
       "      <td>2010-08-30</td>\n",
       "      <td>2020-12-26</td>\n",
       "    </tr>\n",
       "    <tr>\n",
       "      <th>units_of_measure</th>\n",
       "      <td>Micrograms/cubic meter (LC)</td>\n",
       "      <td>Micrograms/cubic meter (LC)</td>\n",
       "      <td>Micrograms/cubic meter (LC)</td>\n",
       "      <td>Micrograms/cubic meter (LC)</td>\n",
       "      <td>Micrograms/cubic meter (LC)</td>\n",
       "    </tr>\n",
       "    <tr>\n",
       "      <th>event_type</th>\n",
       "      <td>No Events</td>\n",
       "      <td>No Events</td>\n",
       "      <td>No Events</td>\n",
       "      <td>No Events</td>\n",
       "      <td>No Events</td>\n",
       "    </tr>\n",
       "    <tr>\n",
       "      <th>observation_count</th>\n",
       "      <td>1</td>\n",
       "      <td>1</td>\n",
       "      <td>1</td>\n",
       "      <td>1</td>\n",
       "      <td>1</td>\n",
       "    </tr>\n",
       "    <tr>\n",
       "      <th>observation_percent</th>\n",
       "      <td>100</td>\n",
       "      <td>100</td>\n",
       "      <td>100</td>\n",
       "      <td>100</td>\n",
       "      <td>100</td>\n",
       "    </tr>\n",
       "    <tr>\n",
       "      <th>validity_indicator</th>\n",
       "      <td>Y</td>\n",
       "      <td>Y</td>\n",
       "      <td>Y</td>\n",
       "      <td>Y</td>\n",
       "      <td>Y</td>\n",
       "    </tr>\n",
       "    <tr>\n",
       "      <th>arithmetic_mean</th>\n",
       "      <td>4.8</td>\n",
       "      <td>11.4</td>\n",
       "      <td>6.5</td>\n",
       "      <td>16.8</td>\n",
       "      <td>7</td>\n",
       "    </tr>\n",
       "    <tr>\n",
       "      <th>first_max_value</th>\n",
       "      <td>4.8</td>\n",
       "      <td>11.4</td>\n",
       "      <td>6.5</td>\n",
       "      <td>16.8</td>\n",
       "      <td>7</td>\n",
       "    </tr>\n",
       "    <tr>\n",
       "      <th>first_max_hour</th>\n",
       "      <td>0</td>\n",
       "      <td>0</td>\n",
       "      <td>0</td>\n",
       "      <td>0</td>\n",
       "      <td>0</td>\n",
       "    </tr>\n",
       "    <tr>\n",
       "      <th>aqi</th>\n",
       "      <td>20</td>\n",
       "      <td>48</td>\n",
       "      <td>27</td>\n",
       "      <td>61</td>\n",
       "      <td>29</td>\n",
       "    </tr>\n",
       "    <tr>\n",
       "      <th>method_code</th>\n",
       "      <td>145</td>\n",
       "      <td>118</td>\n",
       "      <td>118</td>\n",
       "      <td>118</td>\n",
       "      <td>145</td>\n",
       "    </tr>\n",
       "    <tr>\n",
       "      <th>method</th>\n",
       "      <td>R &amp; P Model 2025 PM-2.5 Sequential Air Sampler...</td>\n",
       "      <td>R &amp; P Model 2025 PM2.5 Sequential w/WINS - GRA...</td>\n",
       "      <td>R &amp; P Model 2025 PM2.5 Sequential w/WINS - GRA...</td>\n",
       "      <td>R &amp; P Model 2025 PM2.5 Sequential w/WINS - GRA...</td>\n",
       "      <td>R &amp; P Model 2025 PM-2.5 Sequential Air Sampler...</td>\n",
       "    </tr>\n",
       "    <tr>\n",
       "      <th>local_site_name</th>\n",
       "      <td>QUEENS COLLEGE 2</td>\n",
       "      <td>PFIZER LAB SITE</td>\n",
       "      <td>PFIZER LAB SITE</td>\n",
       "      <td>DIVISION STREET</td>\n",
       "      <td>PFIZER LAB SITE</td>\n",
       "    </tr>\n",
       "    <tr>\n",
       "      <th>site_address</th>\n",
       "      <td>Queens College   65-30 Kissena Blvd  Parking L...</td>\n",
       "      <td>200TH STREET AND SOUTHERN BOULDVARD Pfizer Lab</td>\n",
       "      <td>200TH STREET AND SOUTHERN BOULDVARD Pfizer Lab</td>\n",
       "      <td>40 DIVISION STREET, PS 124</td>\n",
       "      <td>200TH STREET AND SOUTHERN BOULDVARD Pfizer Lab</td>\n",
       "    </tr>\n",
       "    <tr>\n",
       "      <th>state</th>\n",
       "      <td>New York</td>\n",
       "      <td>New York</td>\n",
       "      <td>New York</td>\n",
       "      <td>New York</td>\n",
       "      <td>New York</td>\n",
       "    </tr>\n",
       "    <tr>\n",
       "      <th>county</th>\n",
       "      <td>Queens</td>\n",
       "      <td>Bronx</td>\n",
       "      <td>Bronx</td>\n",
       "      <td>New York</td>\n",
       "      <td>Bronx</td>\n",
       "    </tr>\n",
       "    <tr>\n",
       "      <th>city</th>\n",
       "      <td>New York</td>\n",
       "      <td>New York</td>\n",
       "      <td>New York</td>\n",
       "      <td>New York</td>\n",
       "      <td>New York</td>\n",
       "    </tr>\n",
       "    <tr>\n",
       "      <th>cbsa_code</th>\n",
       "      <td>35620</td>\n",
       "      <td>35620</td>\n",
       "      <td>35620</td>\n",
       "      <td>35620</td>\n",
       "      <td>35620</td>\n",
       "    </tr>\n",
       "    <tr>\n",
       "      <th>cbsa</th>\n",
       "      <td>New York-Newark-Jersey City, NY-NJ-PA</td>\n",
       "      <td>New York-Newark-Jersey City, NY-NJ-PA</td>\n",
       "      <td>New York-Newark-Jersey City, NY-NJ-PA</td>\n",
       "      <td>New York-Newark-Jersey City, NY-NJ-PA</td>\n",
       "      <td>New York-Newark-Jersey City, NY-NJ-PA</td>\n",
       "    </tr>\n",
       "    <tr>\n",
       "      <th>date_of_last_change</th>\n",
       "      <td>2021-11-04</td>\n",
       "      <td>2021-11-08</td>\n",
       "      <td>2021-11-08</td>\n",
       "      <td>2021-11-08</td>\n",
       "      <td>2021-10-31</td>\n",
       "    </tr>\n",
       "  </tbody>\n",
       "</table>\n",
       "</div>"
      ],
      "text/plain": [
       "                                                                 103123  \\\n",
       "Unnamed: 0                                                       103123   \n",
       "state_code                                                           36   \n",
       "county_code                                                          81   \n",
       "site_number                                                         124   \n",
       "parameter_code                                                    88101   \n",
       "poc                                                                   1   \n",
       "latitude                                                        40.7361   \n",
       "longitude                                                      -73.8215   \n",
       "datum                                                             WGS84   \n",
       "parameter                                      PM2.5 - Local Conditions   \n",
       "sample_duration_code                                                  7   \n",
       "sample_duration                                                 24 HOUR   \n",
       "pollutant_standard                                     PM25 Annual 1997   \n",
       "date_local                                                   2018-09-20   \n",
       "units_of_measure                            Micrograms/cubic meter (LC)   \n",
       "event_type                                                    No Events   \n",
       "observation_count                                                     1   \n",
       "observation_percent                                                 100   \n",
       "validity_indicator                                                    Y   \n",
       "arithmetic_mean                                                     4.8   \n",
       "first_max_value                                                     4.8   \n",
       "first_max_hour                                                        0   \n",
       "aqi                                                                  20   \n",
       "method_code                                                         145   \n",
       "method                R & P Model 2025 PM-2.5 Sequential Air Sampler...   \n",
       "local_site_name                                        QUEENS COLLEGE 2   \n",
       "site_address          Queens College   65-30 Kissena Blvd  Parking L...   \n",
       "state                                                          New York   \n",
       "county                                                           Queens   \n",
       "city                                                           New York   \n",
       "cbsa_code                                                         35620   \n",
       "cbsa                              New York-Newark-Jersey City, NY-NJ-PA   \n",
       "date_of_last_change                                          2021-11-04   \n",
       "\n",
       "                                                                 29980   \\\n",
       "Unnamed: 0                                                        29980   \n",
       "state_code                                                           36   \n",
       "county_code                                                           5   \n",
       "site_number                                                         133   \n",
       "parameter_code                                                    88101   \n",
       "poc                                                                   1   \n",
       "latitude                                                        40.8679   \n",
       "longitude                                                      -73.8781   \n",
       "datum                                                             WGS84   \n",
       "parameter                                      PM2.5 - Local Conditions   \n",
       "sample_duration_code                                                  7   \n",
       "sample_duration                                                 24 HOUR   \n",
       "pollutant_standard                                     PM25 Annual 2006   \n",
       "date_local                                                   2012-03-28   \n",
       "units_of_measure                            Micrograms/cubic meter (LC)   \n",
       "event_type                                                    No Events   \n",
       "observation_count                                                     1   \n",
       "observation_percent                                                 100   \n",
       "validity_indicator                                                    Y   \n",
       "arithmetic_mean                                                    11.4   \n",
       "first_max_value                                                    11.4   \n",
       "first_max_hour                                                        0   \n",
       "aqi                                                                  48   \n",
       "method_code                                                         118   \n",
       "method                R & P Model 2025 PM2.5 Sequential w/WINS - GRA...   \n",
       "local_site_name                                         PFIZER LAB SITE   \n",
       "site_address             200TH STREET AND SOUTHERN BOULDVARD Pfizer Lab   \n",
       "state                                                          New York   \n",
       "county                                                            Bronx   \n",
       "city                                                           New York   \n",
       "cbsa_code                                                         35620   \n",
       "cbsa                              New York-Newark-Jersey City, NY-NJ-PA   \n",
       "date_of_last_change                                          2021-11-08   \n",
       "\n",
       "                                                                 29939   \\\n",
       "Unnamed: 0                                                        29939   \n",
       "state_code                                                           36   \n",
       "county_code                                                           5   \n",
       "site_number                                                         133   \n",
       "parameter_code                                                    88101   \n",
       "poc                                                                   1   \n",
       "latitude                                                        40.8679   \n",
       "longitude                                                      -73.8781   \n",
       "datum                                                             WGS84   \n",
       "parameter                                      PM2.5 - Local Conditions   \n",
       "sample_duration_code                                                  7   \n",
       "sample_duration                                                 24 HOUR   \n",
       "pollutant_standard                                    PM25 24-hour 2006   \n",
       "date_local                                                   2012-04-18   \n",
       "units_of_measure                            Micrograms/cubic meter (LC)   \n",
       "event_type                                                    No Events   \n",
       "observation_count                                                     1   \n",
       "observation_percent                                                 100   \n",
       "validity_indicator                                                    Y   \n",
       "arithmetic_mean                                                     6.5   \n",
       "first_max_value                                                     6.5   \n",
       "first_max_hour                                                        0   \n",
       "aqi                                                                  27   \n",
       "method_code                                                         118   \n",
       "method                R & P Model 2025 PM2.5 Sequential w/WINS - GRA...   \n",
       "local_site_name                                         PFIZER LAB SITE   \n",
       "site_address             200TH STREET AND SOUTHERN BOULDVARD Pfizer Lab   \n",
       "state                                                          New York   \n",
       "county                                                            Bronx   \n",
       "city                                                           New York   \n",
       "cbsa_code                                                         35620   \n",
       "cbsa                              New York-Newark-Jersey City, NY-NJ-PA   \n",
       "date_of_last_change                                          2021-11-08   \n",
       "\n",
       "                                                                 15251   \\\n",
       "Unnamed: 0                                                        15251   \n",
       "state_code                                                           36   \n",
       "county_code                                                          61   \n",
       "site_number                                                         134   \n",
       "parameter_code                                                    88101   \n",
       "poc                                                                   1   \n",
       "latitude                                                        40.7144   \n",
       "longitude                                                      -73.9952   \n",
       "datum                                                             WGS84   \n",
       "parameter                                      PM2.5 - Local Conditions   \n",
       "sample_duration_code                                                  7   \n",
       "sample_duration                                                 24 HOUR   \n",
       "pollutant_standard                                    PM25 24-hour 2006   \n",
       "date_local                                                   2010-08-30   \n",
       "units_of_measure                            Micrograms/cubic meter (LC)   \n",
       "event_type                                                    No Events   \n",
       "observation_count                                                     1   \n",
       "observation_percent                                                 100   \n",
       "validity_indicator                                                    Y   \n",
       "arithmetic_mean                                                    16.8   \n",
       "first_max_value                                                    16.8   \n",
       "first_max_hour                                                        0   \n",
       "aqi                                                                  61   \n",
       "method_code                                                         118   \n",
       "method                R & P Model 2025 PM2.5 Sequential w/WINS - GRA...   \n",
       "local_site_name                                         DIVISION STREET   \n",
       "site_address                                 40 DIVISION STREET, PS 124   \n",
       "state                                                          New York   \n",
       "county                                                         New York   \n",
       "city                                                           New York   \n",
       "cbsa_code                                                         35620   \n",
       "cbsa                              New York-Newark-Jersey City, NY-NJ-PA   \n",
       "date_of_last_change                                          2021-11-08   \n",
       "\n",
       "                                                                 121103  \n",
       "Unnamed: 0                                                       121103  \n",
       "state_code                                                           36  \n",
       "county_code                                                           5  \n",
       "site_number                                                         133  \n",
       "parameter_code                                                    88101  \n",
       "poc                                                                   1  \n",
       "latitude                                                        40.8679  \n",
       "longitude                                                      -73.8781  \n",
       "datum                                                             WGS84  \n",
       "parameter                                      PM2.5 - Local Conditions  \n",
       "sample_duration_code                                                  7  \n",
       "sample_duration                                                 24 HOUR  \n",
       "pollutant_standard                                    PM25 24-hour 1997  \n",
       "date_local                                                   2020-12-26  \n",
       "units_of_measure                            Micrograms/cubic meter (LC)  \n",
       "event_type                                                    No Events  \n",
       "observation_count                                                     1  \n",
       "observation_percent                                                 100  \n",
       "validity_indicator                                                    Y  \n",
       "arithmetic_mean                                                       7  \n",
       "first_max_value                                                       7  \n",
       "first_max_hour                                                        0  \n",
       "aqi                                                                  29  \n",
       "method_code                                                         145  \n",
       "method                R & P Model 2025 PM-2.5 Sequential Air Sampler...  \n",
       "local_site_name                                         PFIZER LAB SITE  \n",
       "site_address             200TH STREET AND SOUTHERN BOULDVARD Pfizer Lab  \n",
       "state                                                          New York  \n",
       "county                                                            Bronx  \n",
       "city                                                           New York  \n",
       "cbsa_code                                                         35620  \n",
       "cbsa                              New York-Newark-Jersey City, NY-NJ-PA  \n",
       "date_of_last_change                                          2021-10-31  "
      ]
     },
     "execution_count": 46,
     "metadata": {},
     "output_type": "execute_result"
    }
   ],
   "source": [
    "daily_air_quality_df.sample(5).transpose()"
   ]
  },
  {
   "cell_type": "code",
   "execution_count": 47,
   "metadata": {},
   "outputs": [],
   "source": [
    "daily_air_quality_df['date_local'] = pd.to_datetime(daily_air_quality_df['date_local'], infer_datetime_format=True)\n",
    "daily_air_quality_df['date_local'] = daily_air_quality_df['date_local'].dt.date"
   ]
  },
  {
   "cell_type": "code",
   "execution_count": 48,
   "metadata": {},
   "outputs": [],
   "source": [
    "for county in daily_air_quality_df['county'].unique():\n",
    "    mean = round(daily_air_quality_df[daily_air_quality_df['county'] == county]['aqi'].mean())\n",
    "    filled_na_county = daily_air_quality_df.loc[(daily_air_quality_df['county'] == county) & (daily_air_quality_df['aqi'].isnull()), ['aqi']].fillna(mean)\n",
    "    daily_air_quality_df.loc[(daily_air_quality_df['county'] == county) & (daily_air_quality_df['aqi'].isnull()), ['aqi']] = filled_na_county"
   ]
  },
  {
   "cell_type": "code",
   "execution_count": 49,
   "metadata": {},
   "outputs": [],
   "source": [
    "for county in daily_air_quality_df['county'].unique():\n",
    "    mean = daily_air_quality_df[(daily_air_quality_df['county'] == county) & \n",
    "                                (daily_air_quality_df['sample_duration'] != '1 HOUR')]['arithmetic_mean'].mean()\n",
    "    \n",
    "    daily_air_quality_df.loc[(daily_air_quality_df['county'] == county) & \n",
    "                             (daily_air_quality_df['sample_duration'] == '1 HOUR'), ['arithmetic_mean']] = mean"
   ]
  },
  {
   "cell_type": "code",
   "execution_count": 50,
   "metadata": {},
   "outputs": [
    {
     "data": {
      "text/plain": [
       "\"import math \\nfor aqi in daily_air_quality_df['aqi']:\\n    if not aqi.is_integer() and not math.isnan(aqi):\\n        print('is not integer', aqi)\\n        break\""
      ]
     },
     "execution_count": 50,
     "metadata": {},
     "output_type": "execute_result"
    }
   ],
   "source": [
    "'''import math \n",
    "for aqi in daily_air_quality_df['aqi']:\n",
    "    if not aqi.is_integer() and not math.isnan(aqi):\n",
    "        print('is not integer', aqi)\n",
    "        break'''"
   ]
  },
  {
   "cell_type": "code",
   "execution_count": 51,
   "metadata": {},
   "outputs": [],
   "source": [
    "daily_air_quality_df['aqi'] = daily_air_quality_df['aqi'].astype(int)"
   ]
  },
  {
   "cell_type": "code",
   "execution_count": 52,
   "metadata": {},
   "outputs": [],
   "source": [
    "daily_air_quality_df = daily_air_quality_df[(daily_air_quality_df['date_local'] >= traffic_vol_daily['date'].min()) & \n",
    "                                            (daily_air_quality_df['date_local'] <= traffic_vol_daily['date'].max())]"
   ]
  },
  {
   "cell_type": "code",
   "execution_count": 53,
   "metadata": {},
   "outputs": [
    {
     "name": "stdout",
     "output_type": "stream",
     "text": [
      "<class 'pandas.core.frame.DataFrame'>\n",
      "Int64Index: 125717 entries, 0 to 127060\n",
      "Data columns (total 33 columns):\n",
      " #   Column                Non-Null Count   Dtype  \n",
      "---  ------                --------------   -----  \n",
      " 0   Unnamed: 0            125717 non-null  int64  \n",
      " 1   state_code            125717 non-null  int64  \n",
      " 2   county_code           125717 non-null  int64  \n",
      " 3   site_number           125717 non-null  int64  \n",
      " 4   parameter_code        125717 non-null  int64  \n",
      " 5   poc                   125717 non-null  int64  \n",
      " 6   latitude              125717 non-null  float64\n",
      " 7   longitude             125717 non-null  float64\n",
      " 8   datum                 125717 non-null  object \n",
      " 9   parameter             125717 non-null  object \n",
      " 10  sample_duration_code  125717 non-null  object \n",
      " 11  sample_duration       125717 non-null  object \n",
      " 12  pollutant_standard    121110 non-null  object \n",
      " 13  date_local            125717 non-null  object \n",
      " 14  units_of_measure      125717 non-null  object \n",
      " 15  event_type            125717 non-null  object \n",
      " 16  observation_count     125717 non-null  int64  \n",
      " 17  observation_percent   125717 non-null  float64\n",
      " 18  validity_indicator    125717 non-null  object \n",
      " 19  arithmetic_mean       125717 non-null  float64\n",
      " 20  first_max_value       125717 non-null  float64\n",
      " 21  first_max_hour        125717 non-null  int64  \n",
      " 22  aqi                   125717 non-null  int32  \n",
      " 23  method_code           125717 non-null  int64  \n",
      " 24  method                125717 non-null  object \n",
      " 25  local_site_name       125717 non-null  object \n",
      " 26  site_address          125717 non-null  object \n",
      " 27  state                 125717 non-null  object \n",
      " 28  county                125717 non-null  object \n",
      " 29  city                  125717 non-null  object \n",
      " 30  cbsa_code             125717 non-null  int64  \n",
      " 31  cbsa                  125717 non-null  object \n",
      " 32  date_of_last_change   125717 non-null  object \n",
      "dtypes: float64(5), int32(1), int64(10), object(17)\n",
      "memory usage: 32.1+ MB\n"
     ]
    }
   ],
   "source": [
    "daily_air_quality_df.info()"
   ]
  },
  {
   "cell_type": "code",
   "execution_count": 54,
   "metadata": {},
   "outputs": [
    {
     "name": "stdout",
     "output_type": "stream",
     "text": [
      "125717\n",
      "12737\n"
     ]
    }
   ],
   "source": [
    "print(len(daily_air_quality_df))\n",
    "print(len(traffic_vol_daily))"
   ]
  },
  {
   "cell_type": "code",
   "execution_count": 55,
   "metadata": {},
   "outputs": [
    {
     "data": {
      "text/plain": [
       "Y    125643\n",
       "N        74\n",
       "Name: validity_indicator, dtype: int64"
      ]
     },
     "execution_count": 55,
     "metadata": {},
     "output_type": "execute_result"
    }
   ],
   "source": [
    "daily_air_quality_df['validity_indicator'].value_counts()"
   ]
  },
  {
   "cell_type": "code",
   "execution_count": 56,
   "metadata": {},
   "outputs": [],
   "source": [
    "daily_air_quality_df = daily_air_quality_df[daily_air_quality_df['validity_indicator'] == 'Y']"
   ]
  },
  {
   "cell_type": "code",
   "execution_count": 57,
   "metadata": {},
   "outputs": [
    {
     "data": {
      "text/plain": [
       "24 HOUR          93912\n",
       "24-HR BLK AVG    27198\n",
       "1 HOUR            4533\n",
       "Name: sample_duration, dtype: int64"
      ]
     },
     "execution_count": 57,
     "metadata": {},
     "output_type": "execute_result"
    }
   ],
   "source": [
    "daily_air_quality_df['sample_duration'].value_counts()"
   ]
  },
  {
   "cell_type": "code",
   "execution_count": 58,
   "metadata": {},
   "outputs": [
    {
     "data": {
      "text/plain": [
       "24 HOUR          0.747451\n",
       "24-HR BLK AVG    0.216470\n",
       "1 HOUR           0.036078\n",
       "Name: sample_duration, dtype: float64"
      ]
     },
     "execution_count": 58,
     "metadata": {},
     "output_type": "execute_result"
    }
   ],
   "source": [
    "daily_air_quality_df['sample_duration'].value_counts() / len(daily_air_quality_df['sample_duration'])"
   ]
  },
  {
   "cell_type": "code",
   "execution_count": 59,
   "metadata": {},
   "outputs": [
    {
     "data": {
      "text/plain": [
       "array(['No Events', 'Concurred Events Excluded', 'Events Included'],\n",
       "      dtype=object)"
      ]
     },
     "execution_count": 59,
     "metadata": {},
     "output_type": "execute_result"
    }
   ],
   "source": [
    "daily_air_quality_df['event_type'].unique()"
   ]
  },
  {
   "cell_type": "code",
   "execution_count": 60,
   "metadata": {},
   "outputs": [
    {
     "data": {
      "text/plain": [
       "No Events                    125631\n",
       "Concurred Events Excluded         6\n",
       "Events Included                   6\n",
       "Name: event_type, dtype: int64"
      ]
     },
     "execution_count": 60,
     "metadata": {},
     "output_type": "execute_result"
    }
   ],
   "source": [
    "daily_air_quality_df['event_type'].value_counts()"
   ]
  },
  {
   "cell_type": "code",
   "execution_count": 61,
   "metadata": {},
   "outputs": [
    {
     "data": {
      "text/plain": [
       "array(['PM2.5 - Local Conditions'], dtype=object)"
      ]
     },
     "execution_count": 61,
     "metadata": {},
     "output_type": "execute_result"
    }
   ],
   "source": [
    "daily_air_quality_df['parameter'].unique()"
   ]
  },
  {
   "cell_type": "code",
   "execution_count": 62,
   "metadata": {},
   "outputs": [
    {
     "data": {
      "text/plain": [
       "array(['R & P Model 2025 PM2.5 Sequential w/WINS - GRAVIMETRIC',\n",
       "       'Thermo Scientific TEOM 1405-DF Dichotomous FDMS - FDMS Gravimetric',\n",
       "       'R & P Model 2025 PM-2.5 Sequential Air Sampler w/VSCC - Gravimetric',\n",
       "       'Teledyne T640 at 5.0 LPM - Broadband spectroscopy'], dtype=object)"
      ]
     },
     "execution_count": 62,
     "metadata": {},
     "output_type": "execute_result"
    }
   ],
   "source": [
    "daily_air_quality_df['method'].unique()"
   ]
  },
  {
   "cell_type": "code",
   "execution_count": 63,
   "metadata": {},
   "outputs": [
    {
     "data": {
      "text/plain": [
       "array(['Micrograms/cubic meter (LC)'], dtype=object)"
      ]
     },
     "execution_count": 63,
     "metadata": {},
     "output_type": "execute_result"
    }
   ],
   "source": [
    "daily_air_quality_df['units_of_measure'].unique()"
   ]
  },
  {
   "cell_type": "code",
   "execution_count": 64,
   "metadata": {},
   "outputs": [],
   "source": [
    "daily_air_quality_df_cleaned = daily_air_quality_df[['date_local', \n",
    "                                                     'parameter',\n",
    "                                                     'units_of_measure',  \n",
    "                                                     'arithmetic_mean', \n",
    "                                                     'first_max_value', \n",
    "                                                     'aqi', \n",
    "                                                     'county']]"
   ]
  },
  {
   "cell_type": "code",
   "execution_count": 65,
   "metadata": {},
   "outputs": [],
   "source": [
    "daily_air_quality_df_cleaned = daily_air_quality_df_cleaned.reset_index().drop(['index'], axis=1)"
   ]
  },
  {
   "cell_type": "code",
   "execution_count": 66,
   "metadata": {},
   "outputs": [
    {
     "data": {
      "text/html": [
       "<div>\n",
       "<style scoped>\n",
       "    .dataframe tbody tr th:only-of-type {\n",
       "        vertical-align: middle;\n",
       "    }\n",
       "\n",
       "    .dataframe tbody tr th {\n",
       "        vertical-align: top;\n",
       "    }\n",
       "\n",
       "    .dataframe thead th {\n",
       "        text-align: right;\n",
       "    }\n",
       "</style>\n",
       "<table border=\"1\" class=\"dataframe\">\n",
       "  <thead>\n",
       "    <tr style=\"text-align: right;\">\n",
       "      <th></th>\n",
       "      <th>date_local</th>\n",
       "      <th>parameter</th>\n",
       "      <th>units_of_measure</th>\n",
       "      <th>arithmetic_mean</th>\n",
       "      <th>first_max_value</th>\n",
       "      <th>aqi</th>\n",
       "      <th>county</th>\n",
       "    </tr>\n",
       "  </thead>\n",
       "  <tbody>\n",
       "    <tr>\n",
       "      <th>69680</th>\n",
       "      <td>2016-06-24</td>\n",
       "      <td>PM2.5 - Local Conditions</td>\n",
       "      <td>Micrograms/cubic meter (LC)</td>\n",
       "      <td>10.700000</td>\n",
       "      <td>10.7</td>\n",
       "      <td>45</td>\n",
       "      <td>Bronx</td>\n",
       "    </tr>\n",
       "    <tr>\n",
       "      <th>87271</th>\n",
       "      <td>2017-02-12</td>\n",
       "      <td>PM2.5 - Local Conditions</td>\n",
       "      <td>Micrograms/cubic meter (LC)</td>\n",
       "      <td>13.500000</td>\n",
       "      <td>13.5</td>\n",
       "      <td>54</td>\n",
       "      <td>New York</td>\n",
       "    </tr>\n",
       "    <tr>\n",
       "      <th>63456</th>\n",
       "      <td>2015-11-04</td>\n",
       "      <td>PM2.5 - Local Conditions</td>\n",
       "      <td>Micrograms/cubic meter (LC)</td>\n",
       "      <td>7.434503</td>\n",
       "      <td>25.6</td>\n",
       "      <td>30</td>\n",
       "      <td>Queens</td>\n",
       "    </tr>\n",
       "    <tr>\n",
       "      <th>48639</th>\n",
       "      <td>2014-10-17</td>\n",
       "      <td>PM2.5 - Local Conditions</td>\n",
       "      <td>Micrograms/cubic meter (LC)</td>\n",
       "      <td>8.200000</td>\n",
       "      <td>8.2</td>\n",
       "      <td>34</td>\n",
       "      <td>New York</td>\n",
       "    </tr>\n",
       "    <tr>\n",
       "      <th>68934</th>\n",
       "      <td>2016-10-09</td>\n",
       "      <td>PM2.5 - Local Conditions</td>\n",
       "      <td>Micrograms/cubic meter (LC)</td>\n",
       "      <td>2.900000</td>\n",
       "      <td>2.9</td>\n",
       "      <td>12</td>\n",
       "      <td>Bronx</td>\n",
       "    </tr>\n",
       "    <tr>\n",
       "      <th>65019</th>\n",
       "      <td>2015-03-25</td>\n",
       "      <td>PM2.5 - Local Conditions</td>\n",
       "      <td>Micrograms/cubic meter (LC)</td>\n",
       "      <td>11.400000</td>\n",
       "      <td>11.4</td>\n",
       "      <td>48</td>\n",
       "      <td>Queens</td>\n",
       "    </tr>\n",
       "    <tr>\n",
       "      <th>35156</th>\n",
       "      <td>2012-03-18</td>\n",
       "      <td>PM2.5 - Local Conditions</td>\n",
       "      <td>Micrograms/cubic meter (LC)</td>\n",
       "      <td>14.800000</td>\n",
       "      <td>14.8</td>\n",
       "      <td>57</td>\n",
       "      <td>Queens</td>\n",
       "    </tr>\n",
       "    <tr>\n",
       "      <th>117125</th>\n",
       "      <td>2019-01-11</td>\n",
       "      <td>PM2.5 - Local Conditions</td>\n",
       "      <td>Micrograms/cubic meter (LC)</td>\n",
       "      <td>3.100000</td>\n",
       "      <td>3.1</td>\n",
       "      <td>13</td>\n",
       "      <td>Queens</td>\n",
       "    </tr>\n",
       "    <tr>\n",
       "      <th>34404</th>\n",
       "      <td>2012-08-17</td>\n",
       "      <td>PM2.5 - Local Conditions</td>\n",
       "      <td>Micrograms/cubic meter (LC)</td>\n",
       "      <td>17.500000</td>\n",
       "      <td>17.5</td>\n",
       "      <td>62</td>\n",
       "      <td>Queens</td>\n",
       "    </tr>\n",
       "    <tr>\n",
       "      <th>42499</th>\n",
       "      <td>2013-04-23</td>\n",
       "      <td>PM2.5 - Local Conditions</td>\n",
       "      <td>Micrograms/cubic meter (LC)</td>\n",
       "      <td>5.400000</td>\n",
       "      <td>5.4</td>\n",
       "      <td>23</td>\n",
       "      <td>Queens</td>\n",
       "    </tr>\n",
       "    <tr>\n",
       "      <th>24571</th>\n",
       "      <td>2011-09-21</td>\n",
       "      <td>PM2.5 - Local Conditions</td>\n",
       "      <td>Micrograms/cubic meter (LC)</td>\n",
       "      <td>13.200000</td>\n",
       "      <td>13.2</td>\n",
       "      <td>53</td>\n",
       "      <td>New York</td>\n",
       "    </tr>\n",
       "    <tr>\n",
       "      <th>60061</th>\n",
       "      <td>2015-04-30</td>\n",
       "      <td>PM2.5 - Local Conditions</td>\n",
       "      <td>Micrograms/cubic meter (LC)</td>\n",
       "      <td>5.100000</td>\n",
       "      <td>5.1</td>\n",
       "      <td>21</td>\n",
       "      <td>Kings</td>\n",
       "    </tr>\n",
       "    <tr>\n",
       "      <th>8496</th>\n",
       "      <td>2009-05-25</td>\n",
       "      <td>PM2.5 - Local Conditions</td>\n",
       "      <td>Micrograms/cubic meter (LC)</td>\n",
       "      <td>13.000000</td>\n",
       "      <td>13.0</td>\n",
       "      <td>53</td>\n",
       "      <td>Queens</td>\n",
       "    </tr>\n",
       "    <tr>\n",
       "      <th>91532</th>\n",
       "      <td>2017-09-01</td>\n",
       "      <td>PM2.5 - Local Conditions</td>\n",
       "      <td>Micrograms/cubic meter (LC)</td>\n",
       "      <td>3.900000</td>\n",
       "      <td>3.9</td>\n",
       "      <td>16</td>\n",
       "      <td>Queens</td>\n",
       "    </tr>\n",
       "    <tr>\n",
       "      <th>106022</th>\n",
       "      <td>2019-07-26</td>\n",
       "      <td>PM2.5 - Local Conditions</td>\n",
       "      <td>Micrograms/cubic meter (LC)</td>\n",
       "      <td>10.400000</td>\n",
       "      <td>10.4</td>\n",
       "      <td>43</td>\n",
       "      <td>Bronx</td>\n",
       "    </tr>\n",
       "  </tbody>\n",
       "</table>\n",
       "</div>"
      ],
      "text/plain": [
       "        date_local                 parameter             units_of_measure  \\\n",
       "69680   2016-06-24  PM2.5 - Local Conditions  Micrograms/cubic meter (LC)   \n",
       "87271   2017-02-12  PM2.5 - Local Conditions  Micrograms/cubic meter (LC)   \n",
       "63456   2015-11-04  PM2.5 - Local Conditions  Micrograms/cubic meter (LC)   \n",
       "48639   2014-10-17  PM2.5 - Local Conditions  Micrograms/cubic meter (LC)   \n",
       "68934   2016-10-09  PM2.5 - Local Conditions  Micrograms/cubic meter (LC)   \n",
       "65019   2015-03-25  PM2.5 - Local Conditions  Micrograms/cubic meter (LC)   \n",
       "35156   2012-03-18  PM2.5 - Local Conditions  Micrograms/cubic meter (LC)   \n",
       "117125  2019-01-11  PM2.5 - Local Conditions  Micrograms/cubic meter (LC)   \n",
       "34404   2012-08-17  PM2.5 - Local Conditions  Micrograms/cubic meter (LC)   \n",
       "42499   2013-04-23  PM2.5 - Local Conditions  Micrograms/cubic meter (LC)   \n",
       "24571   2011-09-21  PM2.5 - Local Conditions  Micrograms/cubic meter (LC)   \n",
       "60061   2015-04-30  PM2.5 - Local Conditions  Micrograms/cubic meter (LC)   \n",
       "8496    2009-05-25  PM2.5 - Local Conditions  Micrograms/cubic meter (LC)   \n",
       "91532   2017-09-01  PM2.5 - Local Conditions  Micrograms/cubic meter (LC)   \n",
       "106022  2019-07-26  PM2.5 - Local Conditions  Micrograms/cubic meter (LC)   \n",
       "\n",
       "        arithmetic_mean  first_max_value  aqi    county  \n",
       "69680         10.700000             10.7   45     Bronx  \n",
       "87271         13.500000             13.5   54  New York  \n",
       "63456          7.434503             25.6   30    Queens  \n",
       "48639          8.200000              8.2   34  New York  \n",
       "68934          2.900000              2.9   12     Bronx  \n",
       "65019         11.400000             11.4   48    Queens  \n",
       "35156         14.800000             14.8   57    Queens  \n",
       "117125         3.100000              3.1   13    Queens  \n",
       "34404         17.500000             17.5   62    Queens  \n",
       "42499          5.400000              5.4   23    Queens  \n",
       "24571         13.200000             13.2   53  New York  \n",
       "60061          5.100000              5.1   21     Kings  \n",
       "8496          13.000000             13.0   53    Queens  \n",
       "91532          3.900000              3.9   16    Queens  \n",
       "106022        10.400000             10.4   43     Bronx  "
      ]
     },
     "execution_count": 66,
     "metadata": {},
     "output_type": "execute_result"
    }
   ],
   "source": [
    "daily_air_quality_df_cleaned.sample(15)"
   ]
  },
  {
   "cell_type": "code",
   "execution_count": 67,
   "metadata": {},
   "outputs": [
    {
     "name": "stderr",
     "output_type": "stream",
     "text": [
      "<ipython-input-67-8443e9e0f970>:1: FutureWarning: Indexing with multiple keys (implicitly converted to a tuple of keys) will be deprecated, use a list instead.\n",
      "  daily_air_quality_df_cleaned = daily_air_quality_df_cleaned.groupby(['county', 'date_local'])['arithmetic_mean', 'aqi'].mean().reset_index()\n"
     ]
    },
    {
     "data": {
      "text/html": [
       "<div>\n",
       "<style scoped>\n",
       "    .dataframe tbody tr th:only-of-type {\n",
       "        vertical-align: middle;\n",
       "    }\n",
       "\n",
       "    .dataframe tbody tr th {\n",
       "        vertical-align: top;\n",
       "    }\n",
       "\n",
       "    .dataframe thead th {\n",
       "        text-align: right;\n",
       "    }\n",
       "</style>\n",
       "<table border=\"1\" class=\"dataframe\">\n",
       "  <thead>\n",
       "    <tr style=\"text-align: right;\">\n",
       "      <th></th>\n",
       "      <th>county</th>\n",
       "      <th>date_local</th>\n",
       "      <th>arithmetic_mean</th>\n",
       "      <th>aqi</th>\n",
       "    </tr>\n",
       "  </thead>\n",
       "  <tbody>\n",
       "    <tr>\n",
       "      <th>0</th>\n",
       "      <td>Bronx</td>\n",
       "      <td>2009-01-08</td>\n",
       "      <td>10.7</td>\n",
       "      <td>45.00</td>\n",
       "    </tr>\n",
       "    <tr>\n",
       "      <th>1</th>\n",
       "      <td>Bronx</td>\n",
       "      <td>2009-01-09</td>\n",
       "      <td>5.1</td>\n",
       "      <td>21.00</td>\n",
       "    </tr>\n",
       "    <tr>\n",
       "      <th>2</th>\n",
       "      <td>Bronx</td>\n",
       "      <td>2009-01-10</td>\n",
       "      <td>11.2</td>\n",
       "      <td>46.75</td>\n",
       "    </tr>\n",
       "    <tr>\n",
       "      <th>3</th>\n",
       "      <td>Bronx</td>\n",
       "      <td>2009-01-11</td>\n",
       "      <td>12.2</td>\n",
       "      <td>51.00</td>\n",
       "    </tr>\n",
       "    <tr>\n",
       "      <th>4</th>\n",
       "      <td>Bronx</td>\n",
       "      <td>2009-01-12</td>\n",
       "      <td>13.0</td>\n",
       "      <td>53.00</td>\n",
       "    </tr>\n",
       "    <tr>\n",
       "      <th>...</th>\n",
       "      <td>...</td>\n",
       "      <td>...</td>\n",
       "      <td>...</td>\n",
       "      <td>...</td>\n",
       "    </tr>\n",
       "    <tr>\n",
       "      <th>11486</th>\n",
       "      <td>Richmond</td>\n",
       "      <td>2020-11-05</td>\n",
       "      <td>8.5</td>\n",
       "      <td>35.00</td>\n",
       "    </tr>\n",
       "    <tr>\n",
       "      <th>11487</th>\n",
       "      <td>Richmond</td>\n",
       "      <td>2020-11-08</td>\n",
       "      <td>24.2</td>\n",
       "      <td>76.00</td>\n",
       "    </tr>\n",
       "    <tr>\n",
       "      <th>11488</th>\n",
       "      <td>Richmond</td>\n",
       "      <td>2020-11-11</td>\n",
       "      <td>0.0</td>\n",
       "      <td>0.00</td>\n",
       "    </tr>\n",
       "    <tr>\n",
       "      <th>11489</th>\n",
       "      <td>Richmond</td>\n",
       "      <td>2020-11-17</td>\n",
       "      <td>5.0</td>\n",
       "      <td>21.00</td>\n",
       "    </tr>\n",
       "    <tr>\n",
       "      <th>11490</th>\n",
       "      <td>Richmond</td>\n",
       "      <td>2020-11-20</td>\n",
       "      <td>9.0</td>\n",
       "      <td>38.00</td>\n",
       "    </tr>\n",
       "  </tbody>\n",
       "</table>\n",
       "<p>11491 rows × 4 columns</p>\n",
       "</div>"
      ],
      "text/plain": [
       "         county  date_local  arithmetic_mean    aqi\n",
       "0         Bronx  2009-01-08             10.7  45.00\n",
       "1         Bronx  2009-01-09              5.1  21.00\n",
       "2         Bronx  2009-01-10             11.2  46.75\n",
       "3         Bronx  2009-01-11             12.2  51.00\n",
       "4         Bronx  2009-01-12             13.0  53.00\n",
       "...         ...         ...              ...    ...\n",
       "11486  Richmond  2020-11-05              8.5  35.00\n",
       "11487  Richmond  2020-11-08             24.2  76.00\n",
       "11488  Richmond  2020-11-11              0.0   0.00\n",
       "11489  Richmond  2020-11-17              5.0  21.00\n",
       "11490  Richmond  2020-11-20              9.0  38.00\n",
       "\n",
       "[11491 rows x 4 columns]"
      ]
     },
     "execution_count": 67,
     "metadata": {},
     "output_type": "execute_result"
    }
   ],
   "source": [
    "daily_air_quality_df_cleaned = daily_air_quality_df_cleaned.groupby(['county', 'date_local'])['arithmetic_mean', 'aqi'].mean().reset_index()\n",
    "daily_air_quality_df_cleaned"
   ]
  },
  {
   "cell_type": "code",
   "execution_count": 68,
   "metadata": {},
   "outputs": [],
   "source": [
    "daily_air_quality_df_cleaned.rename(columns={'county': 'boro', 'date_local': 'date'}, inplace=True)"
   ]
  },
  {
   "cell_type": "code",
   "execution_count": 69,
   "metadata": {},
   "outputs": [
    {
     "name": "stdout",
     "output_type": "stream",
     "text": [
      "<class 'pandas.core.frame.DataFrame'>\n",
      "RangeIndex: 11491 entries, 0 to 11490\n",
      "Data columns (total 4 columns):\n",
      " #   Column           Non-Null Count  Dtype  \n",
      "---  ------           --------------  -----  \n",
      " 0   boro             11491 non-null  object \n",
      " 1   date             11491 non-null  object \n",
      " 2   arithmetic_mean  11491 non-null  float64\n",
      " 3   aqi              11491 non-null  float64\n",
      "dtypes: float64(2), object(2)\n",
      "memory usage: 359.2+ KB\n"
     ]
    }
   ],
   "source": [
    "daily_air_quality_df_cleaned.info()"
   ]
  },
  {
   "cell_type": "code",
   "execution_count": 70,
   "metadata": {},
   "outputs": [],
   "source": [
    "county_boro = {'New York': 'Manhattan', 'Kings': 'Brooklyn', 'Richmond': 'Staten Island'}\n",
    "\n",
    "for county in county_boro:    \n",
    "    daily_air_quality_df_cleaned.loc[(daily_air_quality_df_cleaned['boro'] == county), ['boro']] = county_boro[county]"
   ]
  },
  {
   "cell_type": "code",
   "execution_count": 71,
   "metadata": {},
   "outputs": [
    {
     "data": {
      "text/plain": [
       "array(['Bronx', 'Brooklyn', 'Manhattan', 'Queens', 'Staten Island'],\n",
       "      dtype=object)"
      ]
     },
     "execution_count": 71,
     "metadata": {},
     "output_type": "execute_result"
    }
   ],
   "source": [
    "daily_air_quality_df_cleaned.boro.unique()"
   ]
  },
  {
   "cell_type": "code",
   "execution_count": 72,
   "metadata": {},
   "outputs": [],
   "source": [
    "daily_air_quality_df_cleaned = daily_air_quality_df_cleaned.astype({'boro': 'category'})"
   ]
  },
  {
   "cell_type": "code",
   "execution_count": 73,
   "metadata": {},
   "outputs": [
    {
     "data": {
      "text/plain": [
       "boro               category\n",
       "date                 object\n",
       "arithmetic_mean     float64\n",
       "aqi                 float64\n",
       "dtype: object"
      ]
     },
     "execution_count": 73,
     "metadata": {},
     "output_type": "execute_result"
    }
   ],
   "source": [
    "daily_air_quality_df_cleaned.dtypes"
   ]
  },
  {
   "cell_type": "markdown",
   "metadata": {},
   "source": [
    "## Combining Traffic Volume and Daily AQI"
   ]
  },
  {
   "cell_type": "code",
   "execution_count": 74,
   "metadata": {},
   "outputs": [],
   "source": [
    "traffic_vol_aqi = pd.merge(traffic_vol_daily, daily_air_quality_df_cleaned, how='outer', on=['boro','date'])"
   ]
  },
  {
   "cell_type": "code",
   "execution_count": 75,
   "metadata": {},
   "outputs": [
    {
     "name": "stdout",
     "output_type": "stream",
     "text": [
      "<class 'pandas.core.frame.DataFrame'>\n",
      "Int64Index: 17226 entries, 0 to 17225\n",
      "Data columns (total 5 columns):\n",
      " #   Column           Non-Null Count  Dtype  \n",
      "---  ------           --------------  -----  \n",
      " 0   boro             17226 non-null  object \n",
      " 1   date             17226 non-null  object \n",
      " 2   vol              12737 non-null  float64\n",
      " 3   arithmetic_mean  11491 non-null  float64\n",
      " 4   aqi              11491 non-null  float64\n",
      "dtypes: float64(3), object(2)\n",
      "memory usage: 807.5+ KB\n"
     ]
    }
   ],
   "source": [
    "traffic_vol_aqi.info()"
   ]
  },
  {
   "cell_type": "code",
   "execution_count": 76,
   "metadata": {},
   "outputs": [
    {
     "data": {
      "text/plain": [
       "boro               0.000000\n",
       "date               0.000000\n",
       "vol                0.260594\n",
       "arithmetic_mean    0.332927\n",
       "aqi                0.332927\n",
       "dtype: float64"
      ]
     },
     "execution_count": 76,
     "metadata": {},
     "output_type": "execute_result"
    }
   ],
   "source": [
    "traffic_vol_aqi.isnull().sum() / len(traffic_vol_aqi)"
   ]
  },
  {
   "cell_type": "code",
   "execution_count": 77,
   "metadata": {},
   "outputs": [
    {
     "name": "stdout",
     "output_type": "stream",
     "text": [
      "vol\n",
      "arithmetic_mean\n",
      "aqi\n"
     ]
    }
   ],
   "source": [
    "for measure in traffic_vol_aqi.columns[-3:]:\n",
    "    print(measure)"
   ]
  },
  {
   "cell_type": "code",
   "execution_count": 78,
   "metadata": {},
   "outputs": [],
   "source": [
    "for measure in traffic_vol_aqi.columns[-3:]:\n",
    "    for boro in traffic_vol_aqi['boro'].unique():\n",
    "        mean = traffic_vol_aqi[traffic_vol_aqi['boro'] == boro][measure].mean()\n",
    "        \n",
    "        if measure == 'aqi':\n",
    "            mean = round(mean)\n",
    "            \n",
    "        filled_na_boro = traffic_vol_aqi.loc[(traffic_vol_aqi['boro'] == boro) & \n",
    "                                             (traffic_vol_aqi[measure].isnull()), [measure]].fillna(mean)\n",
    "        \n",
    "        traffic_vol_aqi.loc[(traffic_vol_aqi['boro'] == boro) & (traffic_vol_aqi[measure].isnull()), [measure]] = filled_na_boro"
   ]
  },
  {
   "cell_type": "code",
   "execution_count": 79,
   "metadata": {},
   "outputs": [
    {
     "data": {
      "text/plain": [
       "boro               0\n",
       "date               0\n",
       "vol                0\n",
       "arithmetic_mean    0\n",
       "aqi                0\n",
       "dtype: int64"
      ]
     },
     "execution_count": 79,
     "metadata": {},
     "output_type": "execute_result"
    }
   ],
   "source": [
    "traffic_vol_aqi.isnull().sum()"
   ]
  },
  {
   "cell_type": "markdown",
   "metadata": {
    "tags": []
   },
   "source": [
    "## Transformed Datasets"
   ]
  },
  {
   "cell_type": "code",
   "execution_count": 80,
   "metadata": {},
   "outputs": [
    {
     "data": {
      "text/html": [
       "<div>\n",
       "<style scoped>\n",
       "    .dataframe tbody tr th:only-of-type {\n",
       "        vertical-align: middle;\n",
       "    }\n",
       "\n",
       "    .dataframe tbody tr th {\n",
       "        vertical-align: top;\n",
       "    }\n",
       "\n",
       "    .dataframe thead th {\n",
       "        text-align: right;\n",
       "    }\n",
       "</style>\n",
       "<table border=\"1\" class=\"dataframe\">\n",
       "  <thead>\n",
       "    <tr style=\"text-align: right;\">\n",
       "      <th></th>\n",
       "      <th>boro</th>\n",
       "      <th>date</th>\n",
       "      <th>arithmetic_mean</th>\n",
       "      <th>aqi</th>\n",
       "    </tr>\n",
       "  </thead>\n",
       "  <tbody>\n",
       "    <tr>\n",
       "      <th>86</th>\n",
       "      <td>Bronx</td>\n",
       "      <td>2009-04-04</td>\n",
       "      <td>5.100000</td>\n",
       "      <td>21.333333</td>\n",
       "    </tr>\n",
       "    <tr>\n",
       "      <th>4530</th>\n",
       "      <td>Brooklyn</td>\n",
       "      <td>2019-11-02</td>\n",
       "      <td>4.900000</td>\n",
       "      <td>20.000000</td>\n",
       "    </tr>\n",
       "    <tr>\n",
       "      <th>8852</th>\n",
       "      <td>Queens</td>\n",
       "      <td>2017-04-04</td>\n",
       "      <td>3.064193</td>\n",
       "      <td>12.923077</td>\n",
       "    </tr>\n",
       "    <tr>\n",
       "      <th>6530</th>\n",
       "      <td>Queens</td>\n",
       "      <td>2010-06-29</td>\n",
       "      <td>11.000000</td>\n",
       "      <td>46.000000</td>\n",
       "    </tr>\n",
       "    <tr>\n",
       "      <th>7500</th>\n",
       "      <td>Queens</td>\n",
       "      <td>2013-07-09</td>\n",
       "      <td>17.000000</td>\n",
       "      <td>61.000000</td>\n",
       "    </tr>\n",
       "    <tr>\n",
       "      <th>1979</th>\n",
       "      <td>Bronx</td>\n",
       "      <td>2016-09-14</td>\n",
       "      <td>7.055636</td>\n",
       "      <td>28.857143</td>\n",
       "    </tr>\n",
       "    <tr>\n",
       "      <th>4453</th>\n",
       "      <td>Brooklyn</td>\n",
       "      <td>2019-03-13</td>\n",
       "      <td>10.100000</td>\n",
       "      <td>42.000000</td>\n",
       "    </tr>\n",
       "    <tr>\n",
       "      <th>2470</th>\n",
       "      <td>Bronx</td>\n",
       "      <td>2018-03-12</td>\n",
       "      <td>4.300000</td>\n",
       "      <td>18.000000</td>\n",
       "    </tr>\n",
       "    <tr>\n",
       "      <th>1016</th>\n",
       "      <td>Bronx</td>\n",
       "      <td>2013-10-13</td>\n",
       "      <td>6.150000</td>\n",
       "      <td>25.500000</td>\n",
       "    </tr>\n",
       "    <tr>\n",
       "      <th>1370</th>\n",
       "      <td>Bronx</td>\n",
       "      <td>2015-01-08</td>\n",
       "      <td>5.598493</td>\n",
       "      <td>22.857143</td>\n",
       "    </tr>\n",
       "  </tbody>\n",
       "</table>\n",
       "</div>"
      ],
      "text/plain": [
       "          boro        date  arithmetic_mean        aqi\n",
       "86       Bronx  2009-04-04         5.100000  21.333333\n",
       "4530  Brooklyn  2019-11-02         4.900000  20.000000\n",
       "8852    Queens  2017-04-04         3.064193  12.923077\n",
       "6530    Queens  2010-06-29        11.000000  46.000000\n",
       "7500    Queens  2013-07-09        17.000000  61.000000\n",
       "1979     Bronx  2016-09-14         7.055636  28.857143\n",
       "4453  Brooklyn  2019-03-13        10.100000  42.000000\n",
       "2470     Bronx  2018-03-12         4.300000  18.000000\n",
       "1016     Bronx  2013-10-13         6.150000  25.500000\n",
       "1370     Bronx  2015-01-08         5.598493  22.857143"
      ]
     },
     "execution_count": 80,
     "metadata": {},
     "output_type": "execute_result"
    }
   ],
   "source": [
    "daily_air_quality_df_cleaned.sample(10)"
   ]
  },
  {
   "cell_type": "code",
   "execution_count": 81,
   "metadata": {},
   "outputs": [
    {
     "data": {
      "text/html": [
       "<div>\n",
       "<style scoped>\n",
       "    .dataframe tbody tr th:only-of-type {\n",
       "        vertical-align: middle;\n",
       "    }\n",
       "\n",
       "    .dataframe tbody tr th {\n",
       "        vertical-align: top;\n",
       "    }\n",
       "\n",
       "    .dataframe thead th {\n",
       "        text-align: right;\n",
       "    }\n",
       "</style>\n",
       "<table border=\"1\" class=\"dataframe\">\n",
       "  <thead>\n",
       "    <tr style=\"text-align: right;\">\n",
       "      <th></th>\n",
       "      <th>boro</th>\n",
       "      <th>date</th>\n",
       "      <th>vol</th>\n",
       "    </tr>\n",
       "  </thead>\n",
       "  <tbody>\n",
       "    <tr>\n",
       "      <th>5519</th>\n",
       "      <td>Manhattan</td>\n",
       "      <td>2009-06-12</td>\n",
       "      <td>195.135417</td>\n",
       "    </tr>\n",
       "    <tr>\n",
       "      <th>6580</th>\n",
       "      <td>Manhattan</td>\n",
       "      <td>2014-03-24</td>\n",
       "      <td>247.892899</td>\n",
       "    </tr>\n",
       "    <tr>\n",
       "      <th>11839</th>\n",
       "      <td>Staten Island</td>\n",
       "      <td>2014-03-16</td>\n",
       "      <td>67.282552</td>\n",
       "    </tr>\n",
       "    <tr>\n",
       "      <th>6336</th>\n",
       "      <td>Manhattan</td>\n",
       "      <td>2013-06-08</td>\n",
       "      <td>101.818576</td>\n",
       "    </tr>\n",
       "    <tr>\n",
       "      <th>4261</th>\n",
       "      <td>Brooklyn</td>\n",
       "      <td>2015-09-22</td>\n",
       "      <td>46.416667</td>\n",
       "    </tr>\n",
       "    <tr>\n",
       "      <th>11757</th>\n",
       "      <td>Staten Island</td>\n",
       "      <td>2013-10-08</td>\n",
       "      <td>142.942708</td>\n",
       "    </tr>\n",
       "    <tr>\n",
       "      <th>1462</th>\n",
       "      <td>Bronx</td>\n",
       "      <td>2016-01-14</td>\n",
       "      <td>67.342014</td>\n",
       "    </tr>\n",
       "    <tr>\n",
       "      <th>3075</th>\n",
       "      <td>Brooklyn</td>\n",
       "      <td>2011-09-07</td>\n",
       "      <td>37.090278</td>\n",
       "    </tr>\n",
       "    <tr>\n",
       "      <th>10269</th>\n",
       "      <td>Queens</td>\n",
       "      <td>2017-02-02</td>\n",
       "      <td>39.750000</td>\n",
       "    </tr>\n",
       "    <tr>\n",
       "      <th>3613</th>\n",
       "      <td>Brooklyn</td>\n",
       "      <td>2013-08-23</td>\n",
       "      <td>58.833333</td>\n",
       "    </tr>\n",
       "  </tbody>\n",
       "</table>\n",
       "</div>"
      ],
      "text/plain": [
       "                boro        date         vol\n",
       "5519       Manhattan  2009-06-12  195.135417\n",
       "6580       Manhattan  2014-03-24  247.892899\n",
       "11839  Staten Island  2014-03-16   67.282552\n",
       "6336       Manhattan  2013-06-08  101.818576\n",
       "4261        Brooklyn  2015-09-22   46.416667\n",
       "11757  Staten Island  2013-10-08  142.942708\n",
       "1462           Bronx  2016-01-14   67.342014\n",
       "3075        Brooklyn  2011-09-07   37.090278\n",
       "10269         Queens  2017-02-02   39.750000\n",
       "3613        Brooklyn  2013-08-23   58.833333"
      ]
     },
     "execution_count": 81,
     "metadata": {},
     "output_type": "execute_result"
    }
   ],
   "source": [
    "traffic_vol_daily.sample(10)"
   ]
  },
  {
   "cell_type": "code",
   "execution_count": 82,
   "metadata": {},
   "outputs": [
    {
     "data": {
      "text/html": [
       "<div>\n",
       "<style scoped>\n",
       "    .dataframe tbody tr th:only-of-type {\n",
       "        vertical-align: middle;\n",
       "    }\n",
       "\n",
       "    .dataframe tbody tr th {\n",
       "        vertical-align: top;\n",
       "    }\n",
       "\n",
       "    .dataframe thead th {\n",
       "        text-align: right;\n",
       "    }\n",
       "</style>\n",
       "<table border=\"1\" class=\"dataframe\">\n",
       "  <thead>\n",
       "    <tr style=\"text-align: right;\">\n",
       "      <th></th>\n",
       "      <th>boro</th>\n",
       "      <th>date</th>\n",
       "      <th>vol</th>\n",
       "      <th>arithmetic_mean</th>\n",
       "      <th>aqi</th>\n",
       "    </tr>\n",
       "  </thead>\n",
       "  <tbody>\n",
       "    <tr>\n",
       "      <th>369</th>\n",
       "      <td>Bronx</td>\n",
       "      <td>2011-02-16</td>\n",
       "      <td>45.552083</td>\n",
       "      <td>8.503751</td>\n",
       "      <td>34.000000</td>\n",
       "    </tr>\n",
       "    <tr>\n",
       "      <th>925</th>\n",
       "      <td>Bronx</td>\n",
       "      <td>2013-11-07</td>\n",
       "      <td>21.375000</td>\n",
       "      <td>8.503751</td>\n",
       "      <td>34.000000</td>\n",
       "    </tr>\n",
       "    <tr>\n",
       "      <th>16365</th>\n",
       "      <td>Queens</td>\n",
       "      <td>2020-08-08</td>\n",
       "      <td>93.049354</td>\n",
       "      <td>5.776358</td>\n",
       "      <td>24.000000</td>\n",
       "    </tr>\n",
       "    <tr>\n",
       "      <th>1940</th>\n",
       "      <td>Bronx</td>\n",
       "      <td>2018-03-12</td>\n",
       "      <td>62.066667</td>\n",
       "      <td>4.300000</td>\n",
       "      <td>18.000000</td>\n",
       "    </tr>\n",
       "    <tr>\n",
       "      <th>356</th>\n",
       "      <td>Bronx</td>\n",
       "      <td>2010-12-21</td>\n",
       "      <td>15.902778</td>\n",
       "      <td>7.200000</td>\n",
       "      <td>30.000000</td>\n",
       "    </tr>\n",
       "    <tr>\n",
       "      <th>11624</th>\n",
       "      <td>Staten Island</td>\n",
       "      <td>2012-12-15</td>\n",
       "      <td>21.106771</td>\n",
       "      <td>8.279262</td>\n",
       "      <td>33.000000</td>\n",
       "    </tr>\n",
       "    <tr>\n",
       "      <th>16227</th>\n",
       "      <td>Queens</td>\n",
       "      <td>2020-03-19</td>\n",
       "      <td>93.049354</td>\n",
       "      <td>3.547786</td>\n",
       "      <td>14.571429</td>\n",
       "    </tr>\n",
       "    <tr>\n",
       "      <th>11434</th>\n",
       "      <td>Staten Island</td>\n",
       "      <td>2011-10-16</td>\n",
       "      <td>75.923177</td>\n",
       "      <td>8.279262</td>\n",
       "      <td>33.000000</td>\n",
       "    </tr>\n",
       "    <tr>\n",
       "      <th>10962</th>\n",
       "      <td>Queens</td>\n",
       "      <td>2019-10-16</td>\n",
       "      <td>106.780478</td>\n",
       "      <td>4.402654</td>\n",
       "      <td>18.461538</td>\n",
       "    </tr>\n",
       "    <tr>\n",
       "      <th>15915</th>\n",
       "      <td>Queens</td>\n",
       "      <td>2018-02-17</td>\n",
       "      <td>93.049354</td>\n",
       "      <td>3.802654</td>\n",
       "      <td>15.692308</td>\n",
       "    </tr>\n",
       "  </tbody>\n",
       "</table>\n",
       "</div>"
      ],
      "text/plain": [
       "                boro        date         vol  arithmetic_mean        aqi\n",
       "369            Bronx  2011-02-16   45.552083         8.503751  34.000000\n",
       "925            Bronx  2013-11-07   21.375000         8.503751  34.000000\n",
       "16365         Queens  2020-08-08   93.049354         5.776358  24.000000\n",
       "1940           Bronx  2018-03-12   62.066667         4.300000  18.000000\n",
       "356            Bronx  2010-12-21   15.902778         7.200000  30.000000\n",
       "11624  Staten Island  2012-12-15   21.106771         8.279262  33.000000\n",
       "16227         Queens  2020-03-19   93.049354         3.547786  14.571429\n",
       "11434  Staten Island  2011-10-16   75.923177         8.279262  33.000000\n",
       "10962         Queens  2019-10-16  106.780478         4.402654  18.461538\n",
       "15915         Queens  2018-02-17   93.049354         3.802654  15.692308"
      ]
     },
     "execution_count": 82,
     "metadata": {},
     "output_type": "execute_result"
    }
   ],
   "source": [
    "traffic_vol_aqi.sample(10)"
   ]
  },
  {
   "cell_type": "code",
   "execution_count": 83,
   "metadata": {},
   "outputs": [
    {
     "data": {
      "text/html": [
       "<div>\n",
       "<style scoped>\n",
       "    .dataframe tbody tr th:only-of-type {\n",
       "        vertical-align: middle;\n",
       "    }\n",
       "\n",
       "    .dataframe tbody tr th {\n",
       "        vertical-align: top;\n",
       "    }\n",
       "\n",
       "    .dataframe thead th {\n",
       "        text-align: right;\n",
       "    }\n",
       "</style>\n",
       "<table border=\"1\" class=\"dataframe\">\n",
       "  <thead>\n",
       "    <tr style=\"text-align: right;\">\n",
       "      <th></th>\n",
       "      <th>vol</th>\n",
       "      <th>arithmetic_mean</th>\n",
       "      <th>aqi</th>\n",
       "    </tr>\n",
       "  </thead>\n",
       "  <tbody>\n",
       "    <tr>\n",
       "      <th>vol</th>\n",
       "      <td>1.000000</td>\n",
       "      <td>-0.003719</td>\n",
       "      <td>-0.002353</td>\n",
       "    </tr>\n",
       "    <tr>\n",
       "      <th>arithmetic_mean</th>\n",
       "      <td>-0.003719</td>\n",
       "      <td>1.000000</td>\n",
       "      <td>0.983557</td>\n",
       "    </tr>\n",
       "    <tr>\n",
       "      <th>aqi</th>\n",
       "      <td>-0.002353</td>\n",
       "      <td>0.983557</td>\n",
       "      <td>1.000000</td>\n",
       "    </tr>\n",
       "  </tbody>\n",
       "</table>\n",
       "</div>"
      ],
      "text/plain": [
       "                      vol  arithmetic_mean       aqi\n",
       "vol              1.000000        -0.003719 -0.002353\n",
       "arithmetic_mean -0.003719         1.000000  0.983557\n",
       "aqi             -0.002353         0.983557  1.000000"
      ]
     },
     "execution_count": 83,
     "metadata": {},
     "output_type": "execute_result"
    }
   ],
   "source": [
    "traffic_vol_aqi.corr()"
   ]
  },
  {
   "cell_type": "code",
   "execution_count": 84,
   "metadata": {},
   "outputs": [],
   "source": [
    "newboro = {\"boro\":{\"Manhattan\":0.0, \"Staten Island\": 1.0, \"Queens\":2.0, \"Brooklyn\":3.0, \"Bronx\": 4.0}}"
   ]
  },
  {
   "cell_type": "code",
   "execution_count": 85,
   "metadata": {},
   "outputs": [],
   "source": [
    "traffic_vol_aqi = traffic_vol_aqi.replace(newboro)"
   ]
  },
  {
   "cell_type": "code",
   "execution_count": 86,
   "metadata": {},
   "outputs": [],
   "source": [
    "traffic_vol_aqi.drop(\"date\", axis = 1, inplace = True)"
   ]
  },
  {
   "cell_type": "code",
   "execution_count": 87,
   "metadata": {},
   "outputs": [
    {
     "data": {
      "text/html": [
       "<div>\n",
       "<style scoped>\n",
       "    .dataframe tbody tr th:only-of-type {\n",
       "        vertical-align: middle;\n",
       "    }\n",
       "\n",
       "    .dataframe tbody tr th {\n",
       "        vertical-align: top;\n",
       "    }\n",
       "\n",
       "    .dataframe thead th {\n",
       "        text-align: right;\n",
       "    }\n",
       "</style>\n",
       "<table border=\"1\" class=\"dataframe\">\n",
       "  <thead>\n",
       "    <tr style=\"text-align: right;\">\n",
       "      <th></th>\n",
       "      <th>boro</th>\n",
       "      <th>vol</th>\n",
       "      <th>arithmetic_mean</th>\n",
       "      <th>aqi</th>\n",
       "    </tr>\n",
       "  </thead>\n",
       "  <tbody>\n",
       "    <tr>\n",
       "      <th>0</th>\n",
       "      <td>4.0</td>\n",
       "      <td>55.559748</td>\n",
       "      <td>22.700</td>\n",
       "      <td>73.0</td>\n",
       "    </tr>\n",
       "    <tr>\n",
       "      <th>1</th>\n",
       "      <td>4.0</td>\n",
       "      <td>42.722222</td>\n",
       "      <td>13.400</td>\n",
       "      <td>54.0</td>\n",
       "    </tr>\n",
       "    <tr>\n",
       "      <th>2</th>\n",
       "      <td>4.0</td>\n",
       "      <td>45.707224</td>\n",
       "      <td>26.350</td>\n",
       "      <td>81.0</td>\n",
       "    </tr>\n",
       "    <tr>\n",
       "      <th>3</th>\n",
       "      <td>4.0</td>\n",
       "      <td>49.243056</td>\n",
       "      <td>31.600</td>\n",
       "      <td>92.0</td>\n",
       "    </tr>\n",
       "    <tr>\n",
       "      <th>4</th>\n",
       "      <td>4.0</td>\n",
       "      <td>33.958333</td>\n",
       "      <td>10.200</td>\n",
       "      <td>43.0</td>\n",
       "    </tr>\n",
       "    <tr>\n",
       "      <th>5</th>\n",
       "      <td>4.0</td>\n",
       "      <td>25.475694</td>\n",
       "      <td>10.525</td>\n",
       "      <td>43.0</td>\n",
       "    </tr>\n",
       "    <tr>\n",
       "      <th>6</th>\n",
       "      <td>4.0</td>\n",
       "      <td>2.755556</td>\n",
       "      <td>14.400</td>\n",
       "      <td>56.0</td>\n",
       "    </tr>\n",
       "    <tr>\n",
       "      <th>7</th>\n",
       "      <td>4.0</td>\n",
       "      <td>57.924731</td>\n",
       "      <td>10.650</td>\n",
       "      <td>44.5</td>\n",
       "    </tr>\n",
       "    <tr>\n",
       "      <th>8</th>\n",
       "      <td>4.0</td>\n",
       "      <td>32.234375</td>\n",
       "      <td>12.300</td>\n",
       "      <td>51.0</td>\n",
       "    </tr>\n",
       "    <tr>\n",
       "      <th>9</th>\n",
       "      <td>4.0</td>\n",
       "      <td>42.192708</td>\n",
       "      <td>5.400</td>\n",
       "      <td>23.0</td>\n",
       "    </tr>\n",
       "  </tbody>\n",
       "</table>\n",
       "</div>"
      ],
      "text/plain": [
       "   boro        vol  arithmetic_mean   aqi\n",
       "0   4.0  55.559748           22.700  73.0\n",
       "1   4.0  42.722222           13.400  54.0\n",
       "2   4.0  45.707224           26.350  81.0\n",
       "3   4.0  49.243056           31.600  92.0\n",
       "4   4.0  33.958333           10.200  43.0\n",
       "5   4.0  25.475694           10.525  43.0\n",
       "6   4.0   2.755556           14.400  56.0\n",
       "7   4.0  57.924731           10.650  44.5\n",
       "8   4.0  32.234375           12.300  51.0\n",
       "9   4.0  42.192708            5.400  23.0"
      ]
     },
     "execution_count": 87,
     "metadata": {},
     "output_type": "execute_result"
    }
   ],
   "source": [
    "traffic_vol_aqi.head(10)"
   ]
  },
  {
   "cell_type": "code",
   "execution_count": 88,
   "metadata": {},
   "outputs": [],
   "source": [
    "import matplotlib.pyplot as plt\n",
    "import math\n",
    "import statsmodels.api as sm\n",
    "\n",
    "from sklearn.model_selection import train_test_split\n",
    "from sklearn.linear_model import LinearRegression\n",
    "from sklearn.metrics import mean_squared_error, r2_score, mean_absolute_error\n",
    "\n",
    "\n",
    "from scipy import stats\n",
    "from scipy.stats import kurtosis, skew"
   ]
  },
  {
   "cell_type": "code",
   "execution_count": 89,
   "metadata": {},
   "outputs": [
    {
     "data": {
      "text/plain": [
       "(17226, 4)"
      ]
     },
     "execution_count": 89,
     "metadata": {},
     "output_type": "execute_result"
    }
   ],
   "source": [
    "traffic_vol_aqi.shape"
   ]
  },
  {
   "cell_type": "code",
   "execution_count": 90,
   "metadata": {},
   "outputs": [],
   "source": [
    "X = traffic_vol_aqi['vol']\n",
    "y = traffic_vol_aqi['aqi']"
   ]
  },
  {
   "cell_type": "code",
   "execution_count": 91,
   "metadata": {},
   "outputs": [],
   "source": [
    "X_train, X_test, y_train, y_test = train_test_split(X, y, train_size = 0.7, test_size = 0.3, random_state = 100)"
   ]
  },
  {
   "cell_type": "code",
   "execution_count": 92,
   "metadata": {},
   "outputs": [],
   "source": [
    "X_train_sm = sm.add_constant(X_train)"
   ]
  },
  {
   "cell_type": "code",
   "execution_count": 93,
   "metadata": {},
   "outputs": [
    {
     "data": {
      "text/plain": [
       "const    33.946079\n",
       "vol      -0.001398\n",
       "dtype: float64"
      ]
     },
     "execution_count": 93,
     "metadata": {},
     "output_type": "execute_result"
    }
   ],
   "source": [
    "lr = sm.OLS(y_train, X_train_sm).fit()\n",
    "lr.params"
   ]
  },
  {
   "cell_type": "code",
   "execution_count": 94,
   "metadata": {},
   "outputs": [
    {
     "data": {
      "text/html": [
       "<table class=\"simpletable\">\n",
       "<caption>OLS Regression Results</caption>\n",
       "<tr>\n",
       "  <th>Dep. Variable:</th>           <td>aqi</td>       <th>  R-squared:         </th> <td>   0.000</td> \n",
       "</tr>\n",
       "<tr>\n",
       "  <th>Model:</th>                   <td>OLS</td>       <th>  Adj. R-squared:    </th> <td>  -0.000</td> \n",
       "</tr>\n",
       "<tr>\n",
       "  <th>Method:</th>             <td>Least Squares</td>  <th>  F-statistic:       </th> <td>  0.6978</td> \n",
       "</tr>\n",
       "<tr>\n",
       "  <th>Date:</th>             <td>Fri, 16 Dec 2022</td> <th>  Prob (F-statistic):</th>  <td> 0.404</td>  \n",
       "</tr>\n",
       "<tr>\n",
       "  <th>Time:</th>                 <td>12:34:58</td>     <th>  Log-Likelihood:    </th> <td> -48330.</td> \n",
       "</tr>\n",
       "<tr>\n",
       "  <th>No. Observations:</th>      <td> 12058</td>      <th>  AIC:               </th> <td>9.666e+04</td>\n",
       "</tr>\n",
       "<tr>\n",
       "  <th>Df Residuals:</th>          <td> 12056</td>      <th>  BIC:               </th> <td>9.668e+04</td>\n",
       "</tr>\n",
       "<tr>\n",
       "  <th>Df Model:</th>              <td>     1</td>      <th>                     </th>     <td> </td>    \n",
       "</tr>\n",
       "<tr>\n",
       "  <th>Covariance Type:</th>      <td>nonrobust</td>    <th>                     </th>     <td> </td>    \n",
       "</tr>\n",
       "</table>\n",
       "<table class=\"simpletable\">\n",
       "<tr>\n",
       "    <td></td>       <th>coef</th>     <th>std err</th>      <th>t</th>      <th>P>|t|</th>  <th>[0.025</th>    <th>0.975]</th>  \n",
       "</tr>\n",
       "<tr>\n",
       "  <th>const</th> <td>   33.9461</td> <td>    0.206</td> <td>  164.594</td> <td> 0.000</td> <td>   33.542</td> <td>   34.350</td>\n",
       "</tr>\n",
       "<tr>\n",
       "  <th>vol</th>   <td>   -0.0014</td> <td>    0.002</td> <td>   -0.835</td> <td> 0.404</td> <td>   -0.005</td> <td>    0.002</td>\n",
       "</tr>\n",
       "</table>\n",
       "<table class=\"simpletable\">\n",
       "<tr>\n",
       "  <th>Omnibus:</th>       <td>1586.884</td> <th>  Durbin-Watson:     </th> <td>   2.025</td>\n",
       "</tr>\n",
       "<tr>\n",
       "  <th>Prob(Omnibus):</th>  <td> 0.000</td>  <th>  Jarque-Bera (JB):  </th> <td>3106.223</td>\n",
       "</tr>\n",
       "<tr>\n",
       "  <th>Skew:</th>           <td> 0.832</td>  <th>  Prob(JB):          </th> <td>    0.00</td>\n",
       "</tr>\n",
       "<tr>\n",
       "  <th>Kurtosis:</th>       <td> 4.847</td>  <th>  Cond. No.          </th> <td>    209.</td>\n",
       "</tr>\n",
       "</table><br/><br/>Notes:<br/>[1] Standard Errors assume that the covariance matrix of the errors is correctly specified."
      ],
      "text/plain": [
       "<class 'statsmodels.iolib.summary.Summary'>\n",
       "\"\"\"\n",
       "                            OLS Regression Results                            \n",
       "==============================================================================\n",
       "Dep. Variable:                    aqi   R-squared:                       0.000\n",
       "Model:                            OLS   Adj. R-squared:                 -0.000\n",
       "Method:                 Least Squares   F-statistic:                    0.6978\n",
       "Date:                Fri, 16 Dec 2022   Prob (F-statistic):              0.404\n",
       "Time:                        12:34:58   Log-Likelihood:                -48330.\n",
       "No. Observations:               12058   AIC:                         9.666e+04\n",
       "Df Residuals:                   12056   BIC:                         9.668e+04\n",
       "Df Model:                           1                                         \n",
       "Covariance Type:            nonrobust                                         \n",
       "==============================================================================\n",
       "                 coef    std err          t      P>|t|      [0.025      0.975]\n",
       "------------------------------------------------------------------------------\n",
       "const         33.9461      0.206    164.594      0.000      33.542      34.350\n",
       "vol           -0.0014      0.002     -0.835      0.404      -0.005       0.002\n",
       "==============================================================================\n",
       "Omnibus:                     1586.884   Durbin-Watson:                   2.025\n",
       "Prob(Omnibus):                  0.000   Jarque-Bera (JB):             3106.223\n",
       "Skew:                           0.832   Prob(JB):                         0.00\n",
       "Kurtosis:                       4.847   Cond. No.                         209.\n",
       "==============================================================================\n",
       "\n",
       "Notes:\n",
       "[1] Standard Errors assume that the covariance matrix of the errors is correctly specified.\n",
       "\"\"\""
      ]
     },
     "execution_count": 94,
     "metadata": {},
     "output_type": "execute_result"
    }
   ],
   "source": [
    "lr.summary()"
   ]
  },
  {
   "cell_type": "code",
   "execution_count": 95,
   "metadata": {},
   "outputs": [
    {
     "data": {
      "image/png": "[encoded data removed]",
      "text/plain": [
       "<Figure size 432x288 with 1 Axes>"
      ]
     },
     "metadata": {
      "needs_background": "light"
     },
     "output_type": "display_data"
    }
   ],
   "source": [
    "plt.scatter(X_train, y_train)\n",
    "plt.plot(X_train, 33.946 + -0.0014*X_train, 'r' )\n",
    "plt.title(\"Linear Regression Traffic Volume vs Air Quality\")\n",
    "plt.xlabel(\"Traffic Volume\")\n",
    "plt.ylabel(\"Air Quality\")\n",
    "plt.show()"
   ]
  },
  {
   "cell_type": "code",
   "execution_count": null,
   "metadata": {},
   "outputs": [],
   "source": []
  }
 ],
 "metadata": {
  "kernelspec": {
   "display_name": "Python 3",
   "language": "python",
   "name": "python3"
  },
  "language_info": {
   "codemirror_mode": {
    "name": "ipython",
    "version": 3
   },
   "file_extension": ".py",
   "mimetype": "text/x-python",
   "name": "python",
   "nbconvert_exporter": "python",
   "pygments_lexer": "ipython3",
   "version": "3.8.5"
  }
 },
 "nbformat": 4,
 "nbformat_minor": 5
}
