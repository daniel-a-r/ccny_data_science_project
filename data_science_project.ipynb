{
 "cells": [
  {
   "cell_type": "markdown",
   "id": "3d9a37ce",
   "metadata": {},
   "source": [
    "# Preliminary Analysis"
   ]
  },
  {
   "cell_type": "markdown",
   "id": "a5f4844a",
   "metadata": {
    "tags": []
   },
   "source": [
    "### Data Cleaning Code\n",
    "Code for cleaning and processing your data. Include a data dictionary for your transformed dataset.\n",
    "\n",
    "- Data Dictionary for Air Quality\n",
    "    - **indicator id:** id for each name\n",
    "    - **name:** classify the sample in the air\n",
    "    - **measure:** how the indicator is measured\n",
    "    - **measure info:** information about the measure\n",
    "    - **geo type name:** geography type, UHF stands for United Hospital Fund neighborhoods\n",
    "    - **geo place name:** neighborhood name\n",
    "    - **time period:** time frame\n",
    "    - **start_date:** date started\n",
    "    <br><br>\n",
    "- Data Dictionary for Traffic Volume\n",
    "    - **requestId:** unique id generated for each counts request\n",
    "    - **boro:** lists which of the five diviions of New York City the location is within\n",
    "    - **vol:** total sum of count collected within 15 minute increments\n",
    "    - **segmentId:** The ID that idenifies each segment of a street\n",
    "    - **wktgeom:** Geometry point of the location\n",
    "    - **street:** street name of where traffic happened\n",
    "    - **fromst:** start street of traffic\n",
    "    - **tost:** end street where traffic volume was located\n",
    "    - **direction:** text-based direction of traffic where the count took place\n",
    "    - **date_time:** date at which it took place\n",
    "    <br><br>\n",
    "- Data Dictionary for 2020 mobility Dataset\n",
    "    - **sub_region_2** which county it is\n",
    "    - **date** date during recording\n",
    "    - **retail_and_recreation_percent_change_from_baseline** mobility trends for places like restaurants, cafes, shopping centers, theme parks, museums, libraries, and movie theaters.\n",
    "    - **grocery_and_pharmacy_percent_change_from_baseline** mobility trends for places like grocery markets, food warehouses, farmers markets, specialty food shops, drug stores, and pharmacies\n",
    "    - **parks_percent_change_from_baseline** mobility trends for places like national parks, public beaches, marinas, dog parks, plazas, and public gardens\n",
    "    - **transit_stations_percent_change_from_baseline** mobility trends for places like public transport hubs such as subway, bus, and train stations\n",
    "    - **workplaces_percent_change_from_baseline** mobility trend for places of work\n",
    "    - **residential_percent_change_from_baseline** mobility trends for places of residence\n",
    "    \n",
    "### Exploratory Analysis\n",
    "Describe what work you have done so far and include the code. This may include descriptive statistics, graphs and charts, and preliminary models.\n",
    "\n",
    "- We removed some columns that were irrelevant to what we want to predict as well as combine some columns that would fit together, such as the date and time.\n",
    "\n",
    "\n",
    "### Challenges\n",
    "Describe any challenges you've encountered so far. Let me know if there's anything you need help with!\n",
    "\n",
    "- There were some challenges in figuring out what sort of data was necessary to include for our problem as it was targeted in New York City. \n",
    "- Figuring out the transformations to use on each dataset was also a challenge since there were many columns for each dataset and we had to find the ones that weren't relevant to our problem.\n",
    "- There are some issues for the columns right now where there are some, such as segmentId in the Traffic Volume dataset where we are currently unsure if it's useful to keep or remove.\n",
    "- Dealing with large datasets efficiently\n",
    "\n",
    "### Future Work\n",
    "Describe what work you are planning to complete for the final analysis.\n",
    "\n",
    "- Future work includes using the cleaned data to use as inputs for models suited for classification such as Logisitc Regression and Linear Regression. \n",
    "- Make predictions using the models trained to obtain the accuracy scores to answer our questions\n",
    "- Find the best model for accuracy as well as graph/chart the data to further understand it for future predictions.\n",
    "\n",
    "### Contributions\n",
    "Describe the contributions that each group member made.\n",
    "- **Daniel Aguilar-Rodriguez**\n",
    "    - Researched and acquired datasets\n",
    "    - Helped present ideas during brainstorming session\n",
    "    - Created jupyter notebook and helped clean datasets\n",
    "    - Helped transform datasets and removed columns irrelevant to our work\n",
    "    <br><br>\n",
    "- **Jia Cong Lin**\n",
    "    - Helped present ideas during brainstorming session\n",
    "    - Helped define necessary columns for the mobility dataset\n",
    "    - Assisted in determining columns to clean and define \n",
    "    <br><br>\n",
    "- **Anvinh Truong**\n",
    "    - Helped clean and define some columns for the datasets and dictionary\n",
    "    - Helped present ideas during brainstorming session\n",
    "    - Assisted in thinking of procedure to clean data columns"
   ]
  },
  {
   "cell_type": "code",
   "execution_count": 1,
   "id": "a7415be7",
   "metadata": {},
   "outputs": [],
   "source": [
    "import pandas as pd\n",
    "import numpy as np\n",
    "import os\n",
    "import requests\n",
    "import datetime\n",
    "import json\n",
    "import re\n",
    "import time "
   ]
  },
  {
   "cell_type": "code",
   "execution_count": 2,
   "id": "2477d33d-181f-4edb-b744-103130e04db0",
   "metadata": {
    "tags": []
   },
   "outputs": [],
   "source": [
    "def fetch_data(csv_name):\n",
    "    url_dict = {'air_quality': 'https://data.cityofnewyork.us/api/views/c3uy-2p5r/rows.csv', \n",
    "                'mobility_global': 'https://www.gstatic.com/covid19/mobility/Global_Mobility_Report.csv', \n",
    "                'traffic_volume': 'https://data.cityofnewyork.us/api/views/7ym2-wayt/rows.csv'}\n",
    "    \n",
    "    if csv_name == 'daily_air_quality':\n",
    "        create_air_quality_csv()\n",
    "    else:\n",
    "        response = requests.get(url_dict[csv_name])\n",
    "        path = f'datasets/{csv_name}.csv'\n",
    "        with open(path, 'wb') as f:\n",
    "            f.write(response.content)"
   ]
  },
  {
   "cell_type": "code",
   "execution_count": 3,
   "id": "bee70371-560e-46d1-a5eb-174a07829d9f",
   "metadata": {
    "tags": []
   },
   "outputs": [],
   "source": [
    "def csv_exists(csv_name):\n",
    "    path = f'datasets/{csv_name}.csv'\n",
    "    file_exists = os.path.exists(path)\n",
    "    return file_exists"
   ]
  },
  {
   "cell_type": "code",
   "execution_count": 4,
   "id": "80f0ba02-2f83-46c9-95bf-425c8920da32",
   "metadata": {},
   "outputs": [],
   "source": [
    "def create_df(csv_name):\n",
    "    if not csv_exists(csv_name):\n",
    "        fetch_data(csv_name)\n",
    "    path = f'datasets/{csv_name}.csv'\n",
    "    df = pd.read_csv(path)\n",
    "    return df"
   ]
  },
  {
   "cell_type": "code",
   "execution_count": 5,
   "id": "e247ae6f-993a-4974-b30b-8a44a588f069",
   "metadata": {},
   "outputs": [],
   "source": [
    "def mkdir_if_not_exist():\n",
    "    directory = 'datasets'\n",
    "    if not os.path.exists(f'{directory}/'):\n",
    "        os.mkdir(directory)"
   ]
  },
  {
   "cell_type": "code",
   "execution_count": 6,
   "id": "629b7c33-db72-42ef-a9c5-25225c41e969",
   "metadata": {},
   "outputs": [],
   "source": [
    "def create_all_df(csv_names):\n",
    "    mkdir_if_not_exist()\n",
    "    df_list = []\n",
    "    \n",
    "    for csv_name in csv_names:\n",
    "        print(f'Creating {csv_name} df')\n",
    "        df = create_df(csv_name)\n",
    "        df_list.append(df)\n",
    "        \n",
    "    return df_list"
   ]
  },
  {
   "cell_type": "code",
   "execution_count": 7,
   "id": "44c48b6d-9bb8-4f50-a0c7-ad874e91d299",
   "metadata": {},
   "outputs": [],
   "source": [
    "def get_json(url):\n",
    "    response = requests.get(url)\n",
    "    j = json.loads(response.text)\n",
    "    \n",
    "    return j"
   ]
  },
  {
   "cell_type": "code",
   "execution_count": 8,
   "id": "6717329d-449b-441e-b1cc-576580a4d6d2",
   "metadata": {},
   "outputs": [],
   "source": [
    "def get_code(target_value, url):\n",
    "    code = ''\n",
    "    j = get_json(url)\n",
    "    \n",
    "    for entry in j['Data']:\n",
    "        if entry['value_represented'] == target_value:\n",
    "            code = entry['code']\n",
    "            \n",
    "    return code"
   ]
  },
  {
   "cell_type": "code",
   "execution_count": 9,
   "id": "9e060622-3f46-4cd5-bedd-2832c6a515b3",
   "metadata": {},
   "outputs": [],
   "source": [
    "def get_state_code(state_name):\n",
    "    url = 'https://aqs.epa.gov/data/api/list/states?email=test@aqs.api&key=test'\n",
    "    state_code = get_code(state_name, url)\n",
    "\n",
    "    return state_code"
   ]
  },
  {
   "cell_type": "code",
   "execution_count": 10,
   "id": "d6b33f5b-123b-47b3-bccf-afb715e1815c",
   "metadata": {},
   "outputs": [],
   "source": [
    "def get_county_code(state_code, county_name):\n",
    "    url = f'https://aqs.epa.gov/data/api/list/countiesByState?email=test@aqs.api&key=test&state={state_code}'\n",
    "    county_code = get_code(county_name, url)\n",
    "    \n",
    "    return county_code"
   ]
  },
  {
   "cell_type": "code",
   "execution_count": 11,
   "id": "54f186b9-41e2-4693-9dfc-48894c3433ee",
   "metadata": {
    "tags": []
   },
   "outputs": [],
   "source": [
    "'''def get_county_code_list(county_names):\n",
    "    county_codes = []\n",
    "    for county in county_names:\n",
    "        county_codes.append()'''\n",
    "\n",
    "def get_county_code_list(state_code):\n",
    "    url = f'https://aqs.epa.gov/data/api/list/countiesByState?email=test@aqs.api&key=test&state={state_code}'\n",
    "\n",
    "    j = get_json(url)\n",
    "    county_codes = []\n",
    "    \n",
    "    for county in j['Data']:\n",
    "        if re.fullmatch('Bronx|Kings|New York|Queens|Richmond', county['value_represented']):\n",
    "            county_codes.append(county['code'])  \n",
    "    \n",
    "    return county_codes"
   ]
  },
  {
   "cell_type": "code",
   "execution_count": 12,
   "id": "d2fd1d15-9e45-430e-b03f-41d6f91fe89e",
   "metadata": {
    "tags": []
   },
   "outputs": [],
   "source": [
    "\n",
    "#start_date = str(traffic_vol_daily['date'].min()).replace('-', '')\n",
    "#end_date = str(traffic_vol_daily['date'].max()).replace('-', '')\n",
    "#start_date = '20160101'\n",
    "#end_date = '20160229'\n",
    "#county_code = '005'\n",
    "\n",
    "def get_daily_air_quality_list(state_code, county_codes):\n",
    "    email = 'daguila000@citymail.cuny.edu'\n",
    "    key = 'cobaltcrane81'\n",
    "    param_code = '88101'\n",
    "    daily_air_quality_list = []\n",
    "\n",
    "    #year_counter = traffic_vol_daily['date'].min().year\n",
    "    #end_year = traffic_vol_daily['date'].max().year\n",
    "    year_counter = 2009\n",
    "    end_year = 2020\n",
    "\n",
    "    while year_counter <= end_year:\n",
    "        for county_code in county_codes: \n",
    "            start_date = str(year_counter) + '0101'\n",
    "            end_date = str(year_counter) + '1231'\n",
    "            url = f'https://aqs.epa.gov/data/api/dailyData/byCounty?email={email}&key={key}&param={param_code}&bdate={start_date}&edate={end_date}&state={state_code}&county={county_code}'\n",
    "            j = get_json(url)\n",
    "            print(j['Header'])\n",
    "            daily_air_quality_list.extend(j['Data'])\n",
    "            time.sleep(6)\n",
    "        year_counter += 1\n",
    "        \n",
    "    return daily_air_quality_list\n"
   ]
  },
  {
   "cell_type": "code",
   "execution_count": 13,
   "id": "690074ba-2aa5-4f20-a36f-40734441289a",
   "metadata": {
    "tags": []
   },
   "outputs": [
    {
     "data": {
      "text/plain": [
       "\"state = 'New York'\\nstate_code = get_state_code(state)\\nprint(state_code)\\nprint(get_county_code_list(state_code))\""
      ]
     },
     "execution_count": 13,
     "metadata": {},
     "output_type": "execute_result"
    }
   ],
   "source": [
    "'''state = 'New York'\n",
    "state_code = get_state_code(state)\n",
    "print(state_code)\n",
    "print(get_county_code_list(state_code))'''"
   ]
  },
  {
   "cell_type": "code",
   "execution_count": 16,
   "id": "a100ff6f-6114-4e82-86ec-d249fc8f9946",
   "metadata": {},
   "outputs": [],
   "source": [
    "def create_air_quality_csv():\n",
    "    state = 'New York'\n",
    "    state_code = get_state_code(state)\n",
    "    county_code_list = get_county_code_list(state_code)\n",
    "    daily_air_quality_list = get_daily_air_quality_list(state_code, county_code_list)\n",
    "    daily_air_quality_df = pd.DataFrame(daily_air_quality_list)\n",
    "    daily_air_quality_df.to_csv('datasets/daily_air_quality.csv')"
   ]
  },
  {
   "cell_type": "code",
   "execution_count": null,
   "id": "9008779a-8c6b-4497-9d61-f0068641a9c2",
   "metadata": {},
   "outputs": [
    {
     "name": "stdout",
     "output_type": "stream",
     "text": [
      "Creating traffic_volume df\n"
     ]
    }
   ],
   "source": [
    "csv_names = ['traffic_volume', 'daily_air_quality']\n",
    "\n",
    "traffic_volume, daily_air_quality = create_all_df(csv_names)"
   ]
  },
  {
   "cell_type": "markdown",
   "id": "b643b575",
   "metadata": {
    "tags": []
   },
   "source": [
    "## Air Quality Dataset Cleaning"
   ]
  },
  {
   "cell_type": "markdown",
   "id": "2e31c417-cb47-44f0-8eea-39335c680d11",
   "metadata": {},
   "source": [
    "print(air_quality.isnull().sum() / len(air_quality))"
   ]
  },
  {
   "cell_type": "markdown",
   "id": "1a78084b-3ff2-4c41-ae89-e587a30f7cb5",
   "metadata": {},
   "source": [
    "air_quality = air_quality.drop(['Message'], axis=1)\n",
    "print(air_quality.isnull().sum() / len(air_quality))"
   ]
  },
  {
   "cell_type": "markdown",
   "id": "a910619b-c524-4dc4-9f7e-774f37cb8ebd",
   "metadata": {},
   "source": [
    "print(air_quality.nunique() / len(air_quality))"
   ]
  },
  {
   "cell_type": "markdown",
   "id": "82829818-2984-4858-aa82-bc6ad0707af1",
   "metadata": {},
   "source": [
    "air_quality = air_quality.drop(['Unique ID'], axis=1)\n",
    "print(air_quality.shape)\n",
    "print(air_quality.nunique() / len(air_quality))"
   ]
  },
  {
   "cell_type": "markdown",
   "id": "f5b9d617-cdf3-4704-b70f-3b070dd2bc57",
   "metadata": {},
   "source": [
    "air_quality = air_quality.drop(['Geo Join ID'], axis=1)\n",
    "print(air_quality.shape)\n",
    "print(air_quality.nunique() / len(air_quality))"
   ]
  },
  {
   "cell_type": "markdown",
   "id": "04242b39-3fc1-42d6-b959-ec9366f34c25",
   "metadata": {},
   "source": [
    "air_quality.dtypes"
   ]
  },
  {
   "cell_type": "markdown",
   "id": "626dfd4d-1dfe-44a1-8c1f-e9575b9b8806",
   "metadata": {},
   "source": [
    "air_quality.nunique()"
   ]
  },
  {
   "cell_type": "markdown",
   "id": "ddb82306-9650-41ad-aa31-ba1d44fed32c",
   "metadata": {},
   "source": [
    "air_quality['Time Period'].unique()"
   ]
  },
  {
   "cell_type": "markdown",
   "id": "71a41e68-0335-4731-a9ec-f7679c7a9e69",
   "metadata": {},
   "source": [
    "np.sort(air_quality['Time Period'].unique())"
   ]
  },
  {
   "cell_type": "markdown",
   "id": "254ac720-bbff-4194-ad2c-7ff9a74aa816",
   "metadata": {},
   "source": [
    "air_quality['Time Period'].value_counts() / len(air_quality)"
   ]
  },
  {
   "cell_type": "markdown",
   "id": "22224299-3cb0-4ec0-aa1c-c91693d22e17",
   "metadata": {},
   "source": [
    "air_quality['Start_Date'].unique()"
   ]
  },
  {
   "cell_type": "markdown",
   "id": "76251a09-af3e-49ff-867b-c0643f6ab0e1",
   "metadata": {},
   "source": [
    "air_quality['Start_Date'] = pd.to_datetime(air_quality['Start_Date'], infer_datetime_format=True)"
   ]
  },
  {
   "cell_type": "markdown",
   "id": "85fc189a-6747-49ce-bf44-6d7f50e5ae35",
   "metadata": {},
   "source": [
    "air_quality['Start_Date'].min()"
   ]
  },
  {
   "cell_type": "markdown",
   "id": "0d737eeb-956b-47a7-b6ac-157947b890c3",
   "metadata": {},
   "source": [
    "air_quality['Start_Date'].value_counts().sort_index() / len(air_quality)"
   ]
  },
  {
   "cell_type": "markdown",
   "id": "cc1f9b51-536a-400e-972f-063d7de33dae",
   "metadata": {},
   "source": [
    "air_quality.groupby('Start_Date')['Time Period'].value_counts()"
   ]
  },
  {
   "cell_type": "markdown",
   "id": "e58fa9fb-7e1a-4459-97ae-144e31868f80",
   "metadata": {},
   "source": [
    "list(air_quality[air_quality['Time Period'].str.contains('Winter')]['Time Period'].unique())"
   ]
  },
  {
   "cell_type": "markdown",
   "id": "1882e51c-5a62-40e6-a6d5-be2f98d5d5b4",
   "metadata": {},
   "source": [
    "air_quality[air_quality['Time Period'].str.contains('Winter|Summer')].groupby('Time Period')['Start_Date'].value_counts()"
   ]
  },
  {
   "cell_type": "markdown",
   "id": "f1810976-0b48-41db-be1c-8ed75cf50ea1",
   "metadata": {},
   "source": [
    "air_quality[air_quality['Time Period'].str.contains('Winter')]"
   ]
  },
  {
   "cell_type": "markdown",
   "id": "dff238e1-6bed-4c78-8339-3595bd1bb995",
   "metadata": {},
   "source": [
    "air_quality.sample(10)"
   ]
  },
  {
   "cell_type": "markdown",
   "id": "1412ed03-a031-47e9-9b89-a721a4ebb2eb",
   "metadata": {},
   "source": [
    "air_quality[air_quality['Geo Type Name'].str.contains('Borough')]['Time Period'].unique()"
   ]
  },
  {
   "cell_type": "markdown",
   "id": "6e7b9dea-9421-410e-9435-434d77070fb1",
   "metadata": {
    "tags": []
   },
   "source": [
    "air_quality[air_quality['Geo Type Name'].str.contains('Borough')].groupby('Name')['Geo Place Name'].value_counts()"
   ]
  },
  {
   "cell_type": "markdown",
   "id": "c4b1082b-20d8-4a85-9257-dc65fe4f9717",
   "metadata": {},
   "source": [
    "list(air_quality['Name'].unique())"
   ]
  },
  {
   "cell_type": "markdown",
   "id": "b4213b68-e646-41f1-ae6c-2a479712789d",
   "metadata": {},
   "source": [
    "air_quality.groupby(['Name', 'Start_Date'])['Time Period'].value_counts()"
   ]
  },
  {
   "cell_type": "markdown",
   "id": "01df2648-58f4-47ba-90be-ffadc159b525",
   "metadata": {},
   "source": [
    "air_quality['Geo Type Name'].unique()"
   ]
  },
  {
   "cell_type": "markdown",
   "id": "89141899-3827-46e1-8fe5-53ff6f4c04a3",
   "metadata": {},
   "source": [
    "air_quality[air_quality['Geo Type Name'].str.contains('CD')]"
   ]
  },
  {
   "cell_type": "markdown",
   "id": "bb81a5fc-d2d2-46db-b5cd-1fafb906a4f7",
   "metadata": {},
   "source": [
    "air_quality[air_quality['Geo Type Name'].str.contains('UHF42')]"
   ]
  },
  {
   "cell_type": "markdown",
   "id": "834b1b08-6b7e-406a-8815-652e1130e438",
   "metadata": {},
   "source": [
    "air_quality[air_quality['Geo Type Name'].str.contains('UHF34')]"
   ]
  },
  {
   "cell_type": "markdown",
   "id": "be9ba6c6-4484-4012-b8d6-06c6e645de31",
   "metadata": {},
   "source": [
    "air_quality_boros = air_quality[air_quality['Geo Type Name'].str.contains('Borough')]\n",
    "air_quality_boros = air_quality_boros.drop(['Geo Type Name'], axis=1)"
   ]
  },
  {
   "cell_type": "markdown",
   "id": "45f99a0e-0610-4c5a-9ed4-74086437368f",
   "metadata": {},
   "source": [
    "air_quality_boros.sample(10)"
   ]
  },
  {
   "cell_type": "markdown",
   "id": "65d1777c-6e61-4302-905b-52ea98e81ada",
   "metadata": {},
   "source": [
    "for time_period in air_quality_boros['Time Period'].sort_values().unique():\n",
    "    print(time_period, 'length:', len(time_period))"
   ]
  },
  {
   "cell_type": "markdown",
   "id": "adb8e1fe-6858-4c9e-812c-6a049a736b64",
   "metadata": {},
   "source": [
    "air_quality.groupby('Time Period')['Start_Date'].value_counts()"
   ]
  },
  {
   "cell_type": "markdown",
   "id": "c76d38ac-50e7-4761-9fc1-a33025d0f72a",
   "metadata": {},
   "source": [
    "def create_end_dates(air_quality_boros_dict):\n",
    "    end_dates = []\n",
    "    for row in air_quality_boros_dict:\n",
    "        time_period_str_len = len(row['Time Period'])\n",
    "        year = row['Start_Date'].year\n",
    "        if time_period_str_len == 4:\n",
    "            date = datetime.date(year, 12, 31)\n",
    "        elif time_period_str_len == 9:\n",
    "            date = datetime.date(year + 2, 12, 31)\n",
    "        elif time_period_str_len == 11:\n",
    "            date = datetime.date(year, 8, 31)\n",
    "        elif time_period_str_len == 14:\n",
    "            date = datetime.date(year + 1, 2, 28)\n",
    "        elif time_period_str_len == 19:\n",
    "            year = int(row['Time Period'][-4:])\n",
    "            date = datetime.date(year, 12, 31)\n",
    "        end_dates.append(date)\n",
    "    return end_dates"
   ]
  },
  {
   "cell_type": "markdown",
   "id": "02216bb2-f767-400f-85c1-9ebc19707034",
   "metadata": {},
   "source": [
    "air_quality_boros['end_date'] = create_end_dates(air_quality_boros.to_dict('records'))"
   ]
  },
  {
   "cell_type": "markdown",
   "id": "ec08825d-c8f2-4ce1-9151-fda5bd764baf",
   "metadata": {},
   "source": [
    "air_quality_boros.sample(10)"
   ]
  },
  {
   "cell_type": "markdown",
   "id": "9b96d4df-e275-488a-a206-a342e8339a0a",
   "metadata": {},
   "source": [
    "air_quality_boros['Indicator ID'].nunique()"
   ]
  },
  {
   "cell_type": "markdown",
   "id": "77309adc-d4b7-42e6-bd6b-6e75bd77ca98",
   "metadata": {},
   "source": [
    "print(air_quality.groupby(['Name', 'Measure'])['Indicator ID'].value_counts())\n",
    "print(len(air_quality.groupby(['Name', 'Measure'])['Indicator ID'].value_counts()))"
   ]
  },
  {
   "cell_type": "markdown",
   "id": "d81ad36d-be29-4bdc-a72a-b12fab0cca09",
   "metadata": {},
   "source": [
    "air_quality_boros = air_quality_boros.drop(['Indicator ID'], axis=1)"
   ]
  },
  {
   "cell_type": "markdown",
   "id": "98f63e77-457f-45b1-aa65-451a2de4a86c",
   "metadata": {},
   "source": [
    "air_quality_boros.sample(10)"
   ]
  },
  {
   "cell_type": "markdown",
   "id": "10341626-fb0c-4e87-9758-4bc6a3e682af",
   "metadata": {},
   "source": [
    "air_quality_boros.groupby(['Name'])['Measure'].value_counts()"
   ]
  },
  {
   "cell_type": "markdown",
   "id": "4ee475ee-8fae-44d7-9e9d-b0984245b287",
   "metadata": {},
   "source": [
    "air_quality_boros[air_quality_boros['Time Period'].str.contains(\"Annual\")]['Measure'].unique()"
   ]
  },
  {
   "cell_type": "markdown",
   "id": "dfe80991-5b1c-4ff9-9e23-fedda337d213",
   "metadata": {},
   "source": [
    "air_quality_boros[air_quality_boros['Time Period'].str.contains(\"Annual\")]['Name'].unique()"
   ]
  },
  {
   "cell_type": "markdown",
   "id": "8f6f2687-e681-4683-ac48-61ba036da148",
   "metadata": {},
   "source": [
    "air_quality_boros[air_quality_boros['Measure'].str.contains(\"Mean\")]['Time Period'].unique()"
   ]
  },
  {
   "cell_type": "markdown",
   "id": "e62ce172",
   "metadata": {
    "jp-MarkdownHeadingCollapsed": true,
    "tags": []
   },
   "source": [
    "## Traffic Volume Dataset Cleaning"
   ]
  },
  {
   "cell_type": "code",
   "execution_count": null,
   "id": "1895fcf4",
   "metadata": {},
   "outputs": [],
   "source": [
    "traffic_volume.sample(10)"
   ]
  },
  {
   "cell_type": "code",
   "execution_count": null,
   "id": "5017e6b2",
   "metadata": {},
   "outputs": [],
   "source": [
    "traffic_volume.shape"
   ]
  },
  {
   "cell_type": "code",
   "execution_count": null,
   "id": "8ff3c260",
   "metadata": {},
   "outputs": [],
   "source": [
    "print(traffic_volume.isnull().sum() / len(traffic_volume))"
   ]
  },
  {
   "cell_type": "code",
   "execution_count": null,
   "id": "a9b6ad29",
   "metadata": {},
   "outputs": [],
   "source": [
    "print(traffic_volume.nunique() / len(traffic_volume))"
   ]
  },
  {
   "cell_type": "code",
   "execution_count": null,
   "id": "3d0021cf",
   "metadata": {},
   "outputs": [],
   "source": [
    "traffic_volume.nunique()"
   ]
  },
  {
   "cell_type": "code",
   "execution_count": null,
   "id": "4b188fd2",
   "metadata": {},
   "outputs": [],
   "source": [
    "traffic_volume.dtypes"
   ]
  },
  {
   "cell_type": "code",
   "execution_count": null,
   "id": "db3ad783",
   "metadata": {},
   "outputs": [],
   "source": [
    "traffic_volume.Yr.min()"
   ]
  },
  {
   "cell_type": "code",
   "execution_count": null,
   "id": "7c3d825e",
   "metadata": {},
   "outputs": [],
   "source": [
    "traffic_volume = traffic_volume[traffic_volume['Yr'] >= 2005]"
   ]
  },
  {
   "cell_type": "code",
   "execution_count": null,
   "id": "f5fb19f4",
   "metadata": {},
   "outputs": [],
   "source": [
    "traffic_volume.shape"
   ]
  },
  {
   "cell_type": "code",
   "execution_count": null,
   "id": "0be9cf92",
   "metadata": {},
   "outputs": [],
   "source": [
    "traffic_volume['Yr'].value_counts().sort_index()"
   ]
  },
  {
   "cell_type": "code",
   "execution_count": null,
   "id": "12c5d849",
   "metadata": {},
   "outputs": [],
   "source": [
    "traffic_volume = traffic_volume[traffic_volume['Yr'] > 2008]"
   ]
  },
  {
   "cell_type": "code",
   "execution_count": null,
   "id": "038fac60",
   "metadata": {},
   "outputs": [],
   "source": [
    "traffic_volume.shape"
   ]
  },
  {
   "cell_type": "code",
   "execution_count": null,
   "id": "b4125014",
   "metadata": {
    "tags": []
   },
   "outputs": [],
   "source": [
    "traffic_volume['date_time'] = pd.to_datetime(dict(year=traffic_volume.Yr, \\\n",
    "                                                  month=traffic_volume.M, \\\n",
    "                                                  day=traffic_volume.D, \\\n",
    "                                                  hour=traffic_volume.HH, \\\n",
    "                                                  minute=traffic_volume.MM))"
   ]
  },
  {
   "cell_type": "code",
   "execution_count": null,
   "id": "2b1539e1",
   "metadata": {},
   "outputs": [],
   "source": [
    "traffic_volume = traffic_volume.drop(['Yr', 'M', 'D', 'HH', 'MM'], axis=1)"
   ]
  },
  {
   "cell_type": "code",
   "execution_count": null,
   "id": "5e00c391",
   "metadata": {},
   "outputs": [],
   "source": [
    "traffic_volume.sample(10)"
   ]
  },
  {
   "cell_type": "code",
   "execution_count": null,
   "id": "16fc1df2",
   "metadata": {},
   "outputs": [],
   "source": [
    "traffic_volume['date_time'].dt.year.value_counts().sort_index()"
   ]
  },
  {
   "cell_type": "code",
   "execution_count": null,
   "id": "a82d9db4-3a9d-49c0-b478-f4bb451b168b",
   "metadata": {},
   "outputs": [],
   "source": [
    "traffic_volume['date_time'].dt.year.value_counts().sort_index() / len(traffic_volume)"
   ]
  },
  {
   "cell_type": "code",
   "execution_count": null,
   "id": "57d913a3-7e33-4357-b9c8-11376f5e5233",
   "metadata": {},
   "outputs": [],
   "source": [
    "traffic_volume.head()"
   ]
  },
  {
   "cell_type": "code",
   "execution_count": null,
   "id": "a98bbdd0-982f-4b27-9a21-aa2d4acac629",
   "metadata": {},
   "outputs": [],
   "source": [
    "traffic_volume.sort_values([\"date_time\"], \n",
    "                    axis=0,\n",
    "                    ascending=[False], \n",
    "                    inplace=True);\n",
    "traffic_volume.head(15)"
   ]
  },
  {
   "cell_type": "code",
   "execution_count": null,
   "id": "3909dc58-94c5-4057-96f7-c06e03ffe830",
   "metadata": {},
   "outputs": [],
   "source": [
    "traffic_vol_daily = traffic_volume.groupby(['Boro', traffic_volume['date_time'].dt.date])['Vol'].mean().reset_index()\n",
    "traffic_vol_daily.columns = traffic_vol_daily.columns.str.lower()\n",
    "traffic_vol_daily.rename(columns={'date_time':'date'}, inplace=True)"
   ]
  },
  {
   "cell_type": "code",
   "execution_count": null,
   "id": "b188c9f1-9b56-4f54-9fd1-f9af2f05dabd",
   "metadata": {},
   "outputs": [],
   "source": [
    "traffic_vol_daily.info()"
   ]
  },
  {
   "cell_type": "code",
   "execution_count": null,
   "id": "43fcbeb7-2ade-4359-a387-170a834b8d5c",
   "metadata": {
    "tags": []
   },
   "outputs": [],
   "source": [
    "print(len(traffic_vol_daily[traffic_vol_daily['boro'] == 'Bronx']))\n",
    "traffic_vol_daily[traffic_vol_daily['boro'] == 'Bronx'].head(10)"
   ]
  },
  {
   "cell_type": "code",
   "execution_count": null,
   "id": "e492cfea-3256-4770-b11a-ac12be32f008",
   "metadata": {
    "tags": []
   },
   "outputs": [],
   "source": [
    "print(len(traffic_vol_daily[traffic_vol_daily['boro'] == 'Queens']))\n",
    "traffic_vol_daily[traffic_vol_daily['boro'] == 'Queens'].head(10)"
   ]
  },
  {
   "cell_type": "code",
   "execution_count": null,
   "id": "3066c77e-abed-4b5c-8ad3-a001938ce193",
   "metadata": {
    "tags": []
   },
   "outputs": [],
   "source": [
    "print(traffic_vol_daily[traffic_vol_daily['boro'] == 'Brooklyn'].shape[0])\n",
    "traffic_vol_daily[traffic_vol_daily['boro'] == 'Brooklyn'].head(10)"
   ]
  },
  {
   "cell_type": "code",
   "execution_count": null,
   "id": "685f662e-cf7b-4bdf-9c26-8187d25a3694",
   "metadata": {
    "tags": []
   },
   "outputs": [],
   "source": [
    "print(traffic_vol_daily[traffic_vol_daily['boro'] == 'Manhattan'].shape[0])\n",
    "traffic_vol_daily[traffic_vol_daily['boro'] == 'Manhattan'].head(10)"
   ]
  },
  {
   "cell_type": "code",
   "execution_count": null,
   "id": "3f4e5eb0-9f5a-4668-83f0-4461bb8070ad",
   "metadata": {
    "tags": []
   },
   "outputs": [],
   "source": [
    "print(traffic_vol_daily[traffic_vol_daily['boro'] == 'Staten Island'].shape[0])\n",
    "traffic_vol_daily[traffic_vol_daily['boro'] == 'Staten Island'].head(10)"
   ]
  },
  {
   "cell_type": "markdown",
   "id": "92a4760e-60e6-47fa-974a-afb59a05a31d",
   "metadata": {
    "jp-MarkdownHeadingCollapsed": true,
    "tags": []
   },
   "source": [
    "## EPA data"
   ]
  },
  {
   "cell_type": "code",
   "execution_count": null,
   "id": "1eb6bbe6-114c-4ea6-a480-ecab9b7fcef6",
   "metadata": {},
   "outputs": [],
   "source": [
    "#daily_air_quality_df = pd.DataFrame(daily_air_quality_list)"
   ]
  },
  {
   "cell_type": "code",
   "execution_count": null,
   "id": "4b79632b-f0ee-443f-b5a4-68229dcb9a4d",
   "metadata": {},
   "outputs": [],
   "source": [
    "#daily_air_quality_df.to_csv('datasets/daily_air_quality.csv')"
   ]
  },
  {
   "cell_type": "code",
   "execution_count": null,
   "id": "4be8a31c-4f55-432f-b019-a9b39c2853b5",
   "metadata": {},
   "outputs": [],
   "source": [
    "daily_air_quality_df = daily_air_quality"
   ]
  },
  {
   "cell_type": "code",
   "execution_count": null,
   "id": "fc4707bb-842c-4a38-b7ec-9a1dd7a43075",
   "metadata": {},
   "outputs": [],
   "source": [
    "print(daily_air_quality_df.info())"
   ]
  },
  {
   "cell_type": "code",
   "execution_count": null,
   "id": "48af855d-d106-4afa-8293-7bfc110bac22",
   "metadata": {},
   "outputs": [],
   "source": [
    "daily_air_quality_df.sample(5).transpose()"
   ]
  },
  {
   "cell_type": "code",
   "execution_count": null,
   "id": "bb1a3d3f-b179-4ac4-b3cd-a9828e5eb921",
   "metadata": {},
   "outputs": [],
   "source": [
    "daily_air_quality_df['date_local'] = pd.to_datetime(daily_air_quality_df['date_local'], infer_datetime_format=True)\n",
    "daily_air_quality_df['date_local'] = daily_air_quality_df['date_local'].dt.date"
   ]
  },
  {
   "cell_type": "code",
   "execution_count": null,
   "id": "5e71461a-f14b-408a-b057-a312d817b3a5",
   "metadata": {},
   "outputs": [],
   "source": [
    "for county in daily_air_quality_df['county'].unique():\n",
    "    mean = round(daily_air_quality_df[daily_air_quality_df['county'] == county]['aqi'].mean())\n",
    "    filled_na_county = daily_air_quality_df.loc[(daily_air_quality_df['county'] == county) & (daily_air_quality_df['aqi'].isnull()), ['aqi']].fillna(mean)\n",
    "    daily_air_quality_df.loc[(daily_air_quality_df['county'] == county) & (daily_air_quality_df['aqi'].isnull()), ['aqi']] = filled_na_county"
   ]
  },
  {
   "cell_type": "code",
   "execution_count": null,
   "id": "51d1a7b1-a507-4e11-bff6-c2266dcf1cfb",
   "metadata": {},
   "outputs": [],
   "source": [
    "for county in daily_air_quality_df['county'].unique():\n",
    "    mean = daily_air_quality_df[(daily_air_quality_df['county'] == county) & \n",
    "                                (daily_air_quality_df['sample_duration'] != '1 HOUR')]['arithmetic_mean'].mean()\n",
    "    \n",
    "    daily_air_quality_df.loc[(daily_air_quality_df['county'] == county) & \n",
    "                             (daily_air_quality_df['sample_duration'] == '1 HOUR'), ['arithmetic_mean']] = mean"
   ]
  },
  {
   "cell_type": "code",
   "execution_count": null,
   "id": "bb4fda60-80e4-4603-b0c9-de5970929c93",
   "metadata": {},
   "outputs": [],
   "source": [
    "'''import math \n",
    "for aqi in daily_air_quality_df['aqi']:\n",
    "    if not aqi.is_integer() and not math.isnan(aqi):\n",
    "        print('is not integer', aqi)\n",
    "        break'''"
   ]
  },
  {
   "cell_type": "code",
   "execution_count": null,
   "id": "34ad6b39-3af8-46ee-a81d-2042014feae6",
   "metadata": {},
   "outputs": [],
   "source": [
    "daily_air_quality_df['aqi'] = daily_air_quality_df['aqi'].astype(int)"
   ]
  },
  {
   "cell_type": "code",
   "execution_count": null,
   "id": "a1ea4337-fd19-4ecb-be50-95453a5f2d58",
   "metadata": {},
   "outputs": [],
   "source": [
    "daily_air_quality_df = daily_air_quality_df[(daily_air_quality_df['date_local'] >= traffic_vol_daily['date'].min()) & \n",
    "                                            (daily_air_quality_df['date_local'] <= traffic_vol_daily['date'].max())]"
   ]
  },
  {
   "cell_type": "code",
   "execution_count": null,
   "id": "e0828fa6-091a-4ac0-9eae-fe112d4ef1c5",
   "metadata": {},
   "outputs": [],
   "source": [
    "daily_air_quality_df.info()"
   ]
  },
  {
   "cell_type": "code",
   "execution_count": null,
   "id": "2a117098-c335-4ff4-9268-fead32aa043e",
   "metadata": {},
   "outputs": [],
   "source": [
    "print(len(daily_air_quality_df))\n",
    "print(len(traffic_vol_daily))"
   ]
  },
  {
   "cell_type": "code",
   "execution_count": null,
   "id": "9dc3eeee-0381-48f8-a546-ba249331bc33",
   "metadata": {},
   "outputs": [],
   "source": [
    "daily_air_quality_df['validity_indicator'].value_counts()"
   ]
  },
  {
   "cell_type": "code",
   "execution_count": null,
   "id": "2b06f296-4b18-48db-be5d-b4249fc596c5",
   "metadata": {},
   "outputs": [],
   "source": [
    "daily_air_quality_df = daily_air_quality_df[daily_air_quality_df['validity_indicator'] == 'Y']"
   ]
  },
  {
   "cell_type": "code",
   "execution_count": null,
   "id": "43aabdb7-f93b-4fe6-9695-3e2d5df1fed8",
   "metadata": {},
   "outputs": [],
   "source": [
    "daily_air_quality_df['sample_duration'].value_counts()"
   ]
  },
  {
   "cell_type": "code",
   "execution_count": null,
   "id": "301f08e8-fded-4134-8088-8ae397e0b70b",
   "metadata": {},
   "outputs": [],
   "source": [
    "daily_air_quality_df['sample_duration'].value_counts() / len(daily_air_quality_df['sample_duration'])"
   ]
  },
  {
   "cell_type": "code",
   "execution_count": null,
   "id": "b753123d-6bbc-40fb-a2f2-69ac2bfe50a5",
   "metadata": {},
   "outputs": [],
   "source": [
    "daily_air_quality_df['event_type'].unique()"
   ]
  },
  {
   "cell_type": "code",
   "execution_count": null,
   "id": "e0bfa70d-64dc-4a72-ae11-4c58558e3d05",
   "metadata": {},
   "outputs": [],
   "source": [
    "daily_air_quality_df['event_type'].value_counts()"
   ]
  },
  {
   "cell_type": "code",
   "execution_count": null,
   "id": "d9fa0609-26f8-4ce0-a0cc-fd074d86d7f7",
   "metadata": {},
   "outputs": [],
   "source": [
    "daily_air_quality_df['parameter'].unique()"
   ]
  },
  {
   "cell_type": "code",
   "execution_count": null,
   "id": "b437aaf7-e01e-4c17-8650-4e1e37a24920",
   "metadata": {},
   "outputs": [],
   "source": [
    "daily_air_quality_df['method'].unique()"
   ]
  },
  {
   "cell_type": "code",
   "execution_count": null,
   "id": "e556f107-7556-488c-adf4-4d628337ae3c",
   "metadata": {},
   "outputs": [],
   "source": [
    "daily_air_quality_df['units_of_measure'].unique()"
   ]
  },
  {
   "cell_type": "code",
   "execution_count": null,
   "id": "40d0e358-ef72-4156-9533-a8405e1ab560",
   "metadata": {},
   "outputs": [],
   "source": [
    "daily_air_quality_df_cleaned = daily_air_quality_df[['date_local', \n",
    "                                                     'parameter',\n",
    "                                                     'units_of_measure',  \n",
    "                                                     'arithmetic_mean', \n",
    "                                                     'first_max_value', \n",
    "                                                     'aqi', \n",
    "                                                     'county']]"
   ]
  },
  {
   "cell_type": "code",
   "execution_count": null,
   "id": "f99bc6bb-4ae1-4f52-9e84-cb7351ae02e7",
   "metadata": {},
   "outputs": [],
   "source": [
    "daily_air_quality_df_cleaned = daily_air_quality_df_cleaned.reset_index().drop(['index'], axis=1)"
   ]
  },
  {
   "cell_type": "code",
   "execution_count": null,
   "id": "3c898d8f-6d74-459a-88bb-30b8036a7265",
   "metadata": {},
   "outputs": [],
   "source": [
    "daily_air_quality_df_cleaned.sample(15)"
   ]
  },
  {
   "cell_type": "code",
   "execution_count": null,
   "id": "bd33e1e6-7d3c-49ed-9704-720685a58292",
   "metadata": {},
   "outputs": [],
   "source": [
    "daily_air_quality_df_cleaned = daily_air_quality_df_cleaned.groupby(['county', 'date_local'])['arithmetic_mean', 'aqi'].mean().reset_index()\n",
    "daily_air_quality_df_cleaned"
   ]
  },
  {
   "cell_type": "code",
   "execution_count": null,
   "id": "e80a9373-fe56-4937-b317-0365feb2c6ed",
   "metadata": {},
   "outputs": [],
   "source": [
    "daily_air_quality_df_cleaned.rename(columns={'county': 'boro', 'date_local': 'date'}, inplace=True)"
   ]
  },
  {
   "cell_type": "code",
   "execution_count": null,
   "id": "c0b47507-4322-4b09-bcc9-863c631c17a4",
   "metadata": {},
   "outputs": [],
   "source": [
    "daily_air_quality_df_cleaned.info()"
   ]
  },
  {
   "cell_type": "code",
   "execution_count": null,
   "id": "8ddae446-4a97-4f88-93a2-4d622db8091b",
   "metadata": {},
   "outputs": [],
   "source": [
    "county_boro = {'New York': 'Manhattan', 'Kings': 'Brooklyn', 'Richmond': 'Staten Island'}\n",
    "\n",
    "for county in county_boro:    \n",
    "    daily_air_quality_df_cleaned.loc[(daily_air_quality_df_cleaned['boro'] == county), ['boro']] = county_boro[county]"
   ]
  },
  {
   "cell_type": "code",
   "execution_count": null,
   "id": "3c8b71a6-331f-49b9-b0ee-07787aaf70e1",
   "metadata": {},
   "outputs": [],
   "source": [
    "daily_air_quality_df_cleaned.boro.unique()"
   ]
  },
  {
   "cell_type": "code",
   "execution_count": null,
   "id": "3391df70-0b84-48ee-8f33-057e93a9a5fc",
   "metadata": {},
   "outputs": [],
   "source": [
    "daily_air_quality_df_cleaned = daily_air_quality_df_cleaned.astype({'boro': 'category'})"
   ]
  },
  {
   "cell_type": "code",
   "execution_count": null,
   "id": "e1cc492c-a87e-44aa-9e14-e9b1e86476af",
   "metadata": {},
   "outputs": [],
   "source": [
    "daily_air_quality_df_cleaned.dtypes"
   ]
  },
  {
   "cell_type": "markdown",
   "id": "a6a13b1f-5a95-438a-9342-bb3b7c091b58",
   "metadata": {},
   "source": [
    "## Combining Traffic Volume and Daily AQI"
   ]
  },
  {
   "cell_type": "code",
   "execution_count": null,
   "id": "14fd1bd9-8c51-47f3-8f45-42fcad64f408",
   "metadata": {},
   "outputs": [],
   "source": [
    "traffic_vol_aqi = pd.merge(traffic_vol_daily, daily_air_quality_df_cleaned, how='outer', on=['boro','date'])"
   ]
  },
  {
   "cell_type": "code",
   "execution_count": null,
   "id": "58bf97bc-4dbb-4d4e-a017-cb2410e354c4",
   "metadata": {},
   "outputs": [],
   "source": [
    "traffic_vol_aqi.info()"
   ]
  },
  {
   "cell_type": "code",
   "execution_count": null,
   "id": "5ce0a60b-c7bd-4c29-b2db-d4d3b1d18f41",
   "metadata": {},
   "outputs": [],
   "source": [
    "traffic_vol_aqi.isnull().sum() / len(traffic_vol_aqi)"
   ]
  },
  {
   "cell_type": "code",
   "execution_count": null,
   "id": "d60fe56f-1269-4424-b061-b2aec258223d",
   "metadata": {},
   "outputs": [],
   "source": [
    "for measure in traffic_vol_aqi.columns[-3:]:\n",
    "    print(measure)"
   ]
  },
  {
   "cell_type": "code",
   "execution_count": null,
   "id": "f9d17018-197e-422c-99ce-2a80710938cb",
   "metadata": {},
   "outputs": [],
   "source": [
    "for measure in traffic_vol_aqi.columns[-3:]:\n",
    "    for boro in traffic_vol_aqi['boro'].unique():\n",
    "        mean = traffic_vol_aqi[traffic_vol_aqi['boro'] == boro][measure].mean()\n",
    "        \n",
    "        if measure == 'aqi':\n",
    "            mean = round(mean)\n",
    "            \n",
    "        filled_na_boro = traffic_vol_aqi.loc[(traffic_vol_aqi['boro'] == boro) & \n",
    "                                             (traffic_vol_aqi[measure].isnull()), [measure]].fillna(mean)\n",
    "        \n",
    "        traffic_vol_aqi.loc[(traffic_vol_aqi['boro'] == boro) & (traffic_vol_aqi[measure].isnull()), [measure]] = filled_na_boro"
   ]
  },
  {
   "cell_type": "code",
   "execution_count": null,
   "id": "f37eeaf8-7c34-4f5d-b99f-93b9dfd7399f",
   "metadata": {},
   "outputs": [],
   "source": [
    "traffic_vol_aqi.isnull().sum()"
   ]
  },
  {
   "cell_type": "markdown",
   "id": "b2194de0",
   "metadata": {
    "tags": []
   },
   "source": [
    "## Transformed Datasets"
   ]
  },
  {
   "cell_type": "code",
   "execution_count": null,
   "id": "27a844c3",
   "metadata": {},
   "outputs": [],
   "source": [
    "daily_air_quality_df_cleaned.sample(10)"
   ]
  },
  {
   "cell_type": "code",
   "execution_count": null,
   "id": "8d403999",
   "metadata": {},
   "outputs": [],
   "source": [
    "traffic_vol_daily.sample(10)"
   ]
  },
  {
   "cell_type": "code",
   "execution_count": null,
   "id": "d51e6f90-1ec9-4559-b133-9a5eb72ae67f",
   "metadata": {},
   "outputs": [],
   "source": [
    "traffic_vol_aqi.sample(10)"
   ]
  }
 ],
 "metadata": {
  "kernelspec": {
   "display_name": "Python 3 (ipykernel)",
   "language": "python",
   "name": "python3"
  },
  "language_info": {
   "codemirror_mode": {
    "name": "ipython",
    "version": 3
   },
   "file_extension": ".py",
   "mimetype": "text/x-python",
   "name": "python",
   "nbconvert_exporter": "python",
   "pygments_lexer": "ipython3",
   "version": "3.9.8"
  }
 },
 "nbformat": 4,
 "nbformat_minor": 5
}
